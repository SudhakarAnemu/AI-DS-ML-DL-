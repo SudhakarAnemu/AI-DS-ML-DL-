{
  "nbformat": 4,
  "nbformat_minor": 0,
  "metadata": {
    "colab": {
      "provenance": [],
      "authorship_tag": "ABX9TyMhirgXdS22SDbxjZ+uJM7c",
      "include_colab_link": true
    },
    "kernelspec": {
      "name": "python3",
      "display_name": "Python 3"
    },
    "language_info": {
      "name": "python"
    }
  },
  "cells": [
    {
      "cell_type": "markdown",
      "metadata": {
        "id": "view-in-github",
        "colab_type": "text"
      },
      "source": [
        "<a href=\"https://colab.research.google.com/github/SudhakarAnemu/AI-DS-ML-DL-SRE-DRE/blob/master/QuickLinks.ipynb\" target=\"_parent\"><img src=\"https://colab.research.google.com/assets/colab-badge.svg\" alt=\"Open In Colab\"/></a>"
      ]
    },
    {
      "cell_type": "code",
      "execution_count": 7,
      "metadata": {
        "colab": {
          "base_uri": "https://localhost:8080/"
        },
        "id": "yQStPWhdP4ch",
        "outputId": "195df2b0-8770-4485-c1c0-5c62651614fc"
      },
      "outputs": [
        {
          "output_type": "stream",
          "name": "stdout",
          "text": [
            "js\n"
          ]
        }
      ],
      "source": [
        "print(\"js\")\n",
        "#!pip install pandas --upgrade\n",
        "#import pandas as pd"
      ]
    },
    {
      "cell_type": "markdown",
      "source": [
        "**JS**\n",
        "1. How to connect GCP VM via putty\n",
        "\n",
        "\n",
        "*   Link : https://www.youtube.com/watch?v=euqEq87ZCCM\n",
        "*   Steps\n",
        "\n",
        "    1.   Generate private key(ppk) and publick key using putty gen at your laptop.\n",
        "    2.   Copy public key at the VM - Edit - SSH keys\n",
        "    3. Connect the VM via putty(mention private key at the auth)\n",
        "    4. Give user name the one you have given at the time of cretion of private key.\n",
        "    "
      ],
      "metadata": {
        "id": "pLSIXXMyUWog"
      }
    }
  ]
}