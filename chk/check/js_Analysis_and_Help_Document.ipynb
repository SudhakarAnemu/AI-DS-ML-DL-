{
  "nbformat": 4,
  "nbformat_minor": 0,
  "metadata": {
    "colab": {
      "name": "js Analysis and Help Document.ipynb",
      "version": "0.3.2",
      "provenance": [],
      "toc_visible": true,
      "include_colab_link": true
    },
    "kernelspec": {
      "name": "python3",
      "display_name": "Python 3"
    }
  },
  "cells": [
    {
      "cell_type": "markdown",
      "metadata": {
        "id": "view-in-github",
        "colab_type": "text"
      },
      "source": [
        "<a href=\"https://colab.research.google.com/github/SudhakarAnemu/AI-DS-ML-DL/blob/master/js_Analysis_and_Help_Document.ipynb\" target=\"_parent\"><img src=\"https://colab.research.google.com/assets/colab-badge.svg\" alt=\"Open In Colab\"/></a>"
      ]
    },
    {
      "cell_type": "code",
      "metadata": {
        "id": "kcxeTUTjfLXx",
        "colab_type": "code",
        "outputId": "4c1ffa40-27da-45fb-e1bb-2f855d451f89",
        "colab": {
          "base_uri": "https://localhost:8080/",
          "height": 36
        }
      },
      "source": [
        "print(\"js\")"
      ],
      "execution_count": 0,
      "outputs": [
        {
          "output_type": "stream",
          "text": [
            "js\n"
          ],
          "name": "stdout"
        }
      ]
    },
    {
      "cell_type": "markdown",
      "metadata": {
        "id": "nAg87rrofQEk",
        "colab_type": "text"
      },
      "source": [
        "# Log analysis"
      ]
    },
    {
      "cell_type": "code",
      "metadata": {
        "id": "8NI7pY9WfX1N",
        "colab_type": "code",
        "colab": {}
      },
      "source": [
        "# fila = open(\"testfile1.txt\",\"w\") \n",
        " \n",
        "# fila.write(\"Hello World\\n\") \n",
        "# fila.write(\"This is our new text file\") \n",
        "\n",
        "# a = \"abc\"\n",
        "# b = \"def\"\n",
        "\n",
        "# c = \"\\n\" + a + \" \" + b \n",
        "\n",
        "# # type(c)\n",
        "\n",
        "# fila.write(c)\n",
        "\n",
        "# fila.close() \n",
        "\n",
        "\n",
        "______________________________________\n",
        "\n",
        "\n",
        "fila = open(\"testfile1.txt\",\"r\") \n",
        " \n",
        "print(\"\")\n",
        "print(\"\", fila.read())\n",
        "\n",
        "fila.close() \n",
        "\n",
        "----------------------------\n",
        "\n",
        "# df = pd.read_fwf('testfile1.txt')\n",
        "# df.to_csv('log.csv')\n",
        "\n",
        "#-----------------------------------------------------------------------------\n",
        "\n",
        "\n",
        "# txt_file = \"testfile1.txt\"\n",
        "# csv_file = \"logcsv.csv\"\n",
        "\n",
        "# in_txt = csv.reader(open(txt_file, \"r\"), delimiter = ',')\n",
        "# out_csv = csv.writer(open(csv_file, 'wb'))\n",
        "\n",
        "# out_csv.writerows(in_txt)\n",
        "\n",
        "#-----------------------------------------------------------------------------\n",
        "\n",
        "# # below one is good code\n",
        "# fila = open(\"testfile1.txt\",\"r\") \n",
        "# list(csv.reader(fila, delimiter=','))\n",
        "\n",
        "#-----------------------------------------------------------------------------\n",
        "\n",
        "\n",
        "with open(txtfile, 'r') as infile, open(csvfile, 'w') as outfile:\n",
        "     stripped = (line.strip() for line in infile)\n",
        "     lines = (line.split(\",\") for line in stripped if line)\n",
        "     writer = csv.writer(outfile)\n",
        "     writer.writerows(lines)\n",
        "      \n",
        "\n",
        "#-----------------------------------------------------------------------------\n",
        "\n",
        "# df_gptest = df[['Date','Emailid']]\n",
        "# grouped_test1 = df_gptest.groupby(['Date','Emailid'],as_index=False).count()\n",
        "# grouped_test1.head(10).plot.bar()\n",
        "# df2 = df.groupby(['Date', 'Emailid']).size()\n",
        "# df.groupby(['Date', 'Emailid']).size().reset_index(name='counts')\n",
        "# df2.head(50)\n",
        "# df2.describe()\n",
        "\n",
        "\n",
        "----------------------------------------------------\n",
        "\n",
        "# sns.boxplot(x=\"Emailid\", y=\"Date\", data=df)\n",
        "\n",
        "0-----------------------------------\n",
        "\n",
        "\n",
        "1. about grouping : \n",
        "https://data36.com/pandas-tutorial-2-aggregation-and-grouping/ \n",
        "2. Pandas data types : \n",
        "https://pbpython.com/pandas_dtypes.html\n",
        "3. pandas date\n",
        "https://stackoverflow.com/questions/29370057/select-dataframe-rows-between-two-dates\n",
        "4. Pandas Date and Time - Time series\n",
        "https://medium.com/@bingobee01/pandas-tricks-and-tips-a7b87c3748ea\n",
        "5. Kaggle - seaborn\n",
        "https://www.kaggle.com/mchirico/plotly-seaborn-examples\n",
        "6. \n",
        "https://medium.com/@yoonho0715/seaborn-factor-plot-params-2a3ed9cf71bc\n",
        "7. \n",
        "https://datascienceplus.com/how-does-visualization-in-plotly-differ-from-seaborn/\n",
        "8. https://stackoverflow.com/questions/19384532/get-statistics-for-each-group-such-as-count-mean-etc-using-pandas-groupby\n",
        "9. https://www.dataquest.io/blog/jupyter-notebook-tips-tricks-shortcuts/\n",
        "10.\n",
        "https://kite.com/python/docs/seaborn.factorplot\n",
        "11.\n",
        "https://blog.insightdatascience.com/data-visualization-in-python-advanced-functionality-in-seaborn-20d217f1a9a6\n",
        "\n",
        "\n",
        "\n"
      ],
      "execution_count": 0,
      "outputs": []
    },
    {
      "cell_type": "code",
      "metadata": {
        "id": "WGX3502E_6rz",
        "colab_type": "code",
        "outputId": "a51c229c-faff-44e7-b471-438dfd62dca6",
        "colab": {
          "base_uri": "https://localhost:8080/",
          "height": 217
        }
      },
      "source": [
        "# !wget https://github.com/insaid2018/Term-3/blob/master/Data/CaseStudy/sent.txt\n",
        "!wget https://raw.githubusercontent.com/SudhakarAnemu/AI-DS-ML-DL-Materials/master/images/country.txt"
      ],
      "execution_count": 0,
      "outputs": [
        {
          "output_type": "stream",
          "text": [
            "--2019-07-23 01:06:17--  https://raw.githubusercontent.com/SudhakarAnemu/AI-DS-ML-DL-Materials/master/images/country.txt\n",
            "Resolving raw.githubusercontent.com (raw.githubusercontent.com)... 151.101.0.133, 151.101.64.133, 151.101.128.133, ...\n",
            "Connecting to raw.githubusercontent.com (raw.githubusercontent.com)|151.101.0.133|:443... connected.\n",
            "HTTP request sent, awaiting response... 200 OK\n",
            "Length: 59 [text/plain]\n",
            "Saving to: ‘country.txt’\n",
            "\n",
            "\rcountry.txt           0%[                    ]       0  --.-KB/s               \rcountry.txt         100%[===================>]      59  --.-KB/s    in 0s      \n",
            "\n",
            "2019-07-23 01:06:17 (9.80 MB/s) - ‘country.txt’ saved [59/59]\n",
            "\n"
          ],
          "name": "stdout"
        }
      ]
    },
    {
      "cell_type": "code",
      "metadata": {
        "id": "GjZHXGlCT9fq",
        "colab_type": "code",
        "outputId": "11399122-2954-43c3-f7b8-a5aa3fcaa0a1",
        "colab": {
          "base_uri": "https://localhost:8080/",
          "height": 72
        }
      },
      "source": [
        "a = !cat country.txt | wc -l\n",
        "print(\"Number of files in the country.txt file is : \", a.n)\n",
        "print(\"Type of the a : \", type(a.n))\n",
        "b = int(str(a.n)) # error\n",
        "print(\"Value of the b is \", b, \" and the type is : \", type(b))"
      ],
      "execution_count": 0,
      "outputs": [
        {
          "output_type": "stream",
          "text": [
            "Number of files in the country.txt file is :  6\n",
            "Type of the a :  <class 'str'>\n",
            "Value of the b is  6  and the type is :  <class 'int'>\n"
          ],
          "name": "stdout"
        }
      ]
    },
    {
      "cell_type": "code",
      "metadata": {
        "id": "iN0gAAGWVckh",
        "colab_type": "code",
        "outputId": "2c85a788-b375-4f6f-b8e0-6bcffc0ab603",
        "colab": {
          "base_uri": "https://localhost:8080/",
          "height": 126
        }
      },
      "source": [
        "for i in range(0,b):\n",
        "  print(\"Value of the i is : \", i)"
      ],
      "execution_count": 0,
      "outputs": [
        {
          "output_type": "stream",
          "text": [
            "Value of the i is :  0\n",
            "Value of the i is :  1\n",
            "Value of the i is :  2\n",
            "Value of the i is :  3\n",
            "Value of the i is :  4\n",
            "Value of the i is :  5\n"
          ],
          "name": "stdout"
        }
      ]
    },
    {
      "cell_type": "code",
      "metadata": {
        "id": "LOssGk5qADVB",
        "colab_type": "code",
        "outputId": "c54b4e85-d630-43c0-f83a-5b4b5ba3583e",
        "colab": {
          "base_uri": "https://localhost:8080/",
          "height": 72
        }
      },
      "source": [
        "fila = open(\"country.txt\",\"r\") \n",
        " \n",
        "# print(\"\")\n",
        "# print(\"\", fila.read())\n",
        "\n",
        "data=fila.read()\n",
        "\n",
        "# print(data.split(\"\\n\")[0].split(\":\")[0]) #working\n",
        "\n",
        "# print(\"\\nContent of the data : \\n\", data) # working\n",
        "\n",
        "d={}\n",
        "\n",
        "# print(type(mydict)) # working\n",
        "\n",
        "a = data.count\n",
        "\n",
        "# print(\"Lenth of the data : \", str(a))\n",
        "\n",
        "c = 0\n",
        "\n",
        "each_element=str(data).split(\"\\n\")\n",
        "\n",
        "print(\"Each element : \", each_element)\n",
        "\n",
        "print(\"Lenth of the each element : \", each_element.count(\":\"))\n",
        "\n",
        "# for i in range[0:int(str(each_element.count)]:\n",
        "#   print(\"i is : \", i)\n",
        "\n",
        "# pirnt('Lenth of each_element : \", each_element.)\n",
        "\n",
        "# for each_element in str(data).split(\"\\n\"):\n",
        "#   c = c+1\n",
        "#   print(\"Each element : \", each_element)\n",
        "#   a=each_element.split(\":\")[0]\n",
        "#   b=each_element.split(\":\")[1]\n",
        "#   print(\"a and b : \", a,b)\n",
        "#   d[each_element.split(\":\")[0]] = each_element.split(\":\")[1]\n",
        "# #   print(each_element)\n",
        "\n",
        "# print(\"Dictionary : \", d)\n",
        "\n",
        "# print(\"count is : \", c)\n",
        "\n",
        "for i in range(0,b):\n",
        "#   print(\"Value of the i is : \", i)\n",
        "#   aa=each_element[i].split(\":\")[0]\n",
        "#   bb=each_element[i].split(\":\")[1]\n",
        "#   print(\"a and b : \", aa,bb)\n",
        "  d[each_element[i].split(\":\")[0]] = each_element[i].split(\":\")[1]\n",
        "  \n",
        "print(\"Dictionary is : \", d)\n",
        "\n",
        "fila.close() "
      ],
      "execution_count": 0,
      "outputs": [
        {
          "output_type": "stream",
          "text": [
            "Each element :  ['in:India', 'jp:Japan', 'ca:Canada', 'us:America', 'cn:China', 'uk:England', '']\n",
            "Lenth of the each element :  0\n",
            "Dictionary is :  {'in': 'India', 'jp': 'Japan', 'ca': 'Canada', 'us': 'America', 'cn': 'China', 'uk': 'England'}\n"
          ],
          "name": "stdout"
        }
      ]
    },
    {
      "cell_type": "markdown",
      "metadata": {
        "id": "rTHk1vowgm3W",
        "colab_type": "text"
      },
      "source": [
        "# JS - Perfect code for Apply - Dictionary - Dataset coluemn"
      ]
    },
    {
      "cell_type": "code",
      "metadata": {
        "id": "Yrjiji2jgmDa",
        "colab_type": "code",
        "colab": {}
      },
      "source": [
        "# cdf = df[\"Country\"] # Displaying the content of Country\n",
        "# print(\"df : \", df.head(2), \" Type of the df : \", type(cdf))\n",
        "# print(\"cdf : \\n\", cdf.head(6), \" Type of the cdf : \", type(cdf))\n",
        "\n",
        "\n",
        "# df[\"CntyNm\"] = df[\"Country\"].apply(lambda x : x + \" js\") # it is good\n",
        "\n",
        "\n",
        "def distAssign(x):\n",
        "  return d[x]\n",
        "\n",
        "df[\"CntyNm\"] = df[\"Country\"].apply(distAssign)\n",
        "\n",
        "df.head(6)"
      ],
      "execution_count": 0,
      "outputs": []
    },
    {
      "cell_type": "markdown",
      "metadata": {
        "id": "UAeyOWV4VFNS",
        "colab_type": "text"
      },
      "source": [
        "# About describe"
      ]
    },
    {
      "cell_type": "code",
      "metadata": {
        "id": "oHtWNAIlVIya",
        "colab_type": "code",
        "colab": {
          "base_uri": "https://localhost:8080/",
          "height": 185
        },
        "outputId": "ffe646b0-9749-4ac7-d4d7-de33b5c0e2ee"
      },
      "source": [
        "a = [1, 2, 3, 4, 5, 6, 7, 8, 9, 10]\n",
        "print(\"Type of the a : \", a.dtype)"
      ],
      "execution_count": 2,
      "outputs": [
        {
          "output_type": "error",
          "ename": "AttributeError",
          "evalue": "ignored",
          "traceback": [
            "\u001b[0;31m---------------------------------------------------------------------------\u001b[0m",
            "\u001b[0;31mAttributeError\u001b[0m                            Traceback (most recent call last)",
            "\u001b[0;32m<ipython-input-2-0f91a7081988>\u001b[0m in \u001b[0;36m<module>\u001b[0;34m()\u001b[0m\n\u001b[1;32m      1\u001b[0m \u001b[0ma\u001b[0m \u001b[0;34m=\u001b[0m \u001b[0;34m[\u001b[0m\u001b[0;36m1\u001b[0m\u001b[0;34m,\u001b[0m \u001b[0;36m2\u001b[0m\u001b[0;34m,\u001b[0m \u001b[0;36m3\u001b[0m\u001b[0;34m,\u001b[0m \u001b[0;36m4\u001b[0m\u001b[0;34m,\u001b[0m \u001b[0;36m5\u001b[0m\u001b[0;34m,\u001b[0m \u001b[0;36m6\u001b[0m\u001b[0;34m,\u001b[0m \u001b[0;36m7\u001b[0m\u001b[0;34m,\u001b[0m \u001b[0;36m8\u001b[0m\u001b[0;34m,\u001b[0m \u001b[0;36m9\u001b[0m\u001b[0;34m,\u001b[0m \u001b[0;36m10\u001b[0m\u001b[0;34m]\u001b[0m\u001b[0;34m\u001b[0m\u001b[0;34m\u001b[0m\u001b[0m\n\u001b[0;32m----> 2\u001b[0;31m \u001b[0mprint\u001b[0m\u001b[0;34m(\u001b[0m\u001b[0;34m\"Type of the a : \"\u001b[0m\u001b[0;34m,\u001b[0m \u001b[0ma\u001b[0m\u001b[0;34m.\u001b[0m\u001b[0mdtype\u001b[0m\u001b[0;34m)\u001b[0m\u001b[0;34m\u001b[0m\u001b[0;34m\u001b[0m\u001b[0m\n\u001b[0m",
            "\u001b[0;31mAttributeError\u001b[0m: 'list' object has no attribute 'dtype'"
          ]
        }
      ]
    }
  ]
}