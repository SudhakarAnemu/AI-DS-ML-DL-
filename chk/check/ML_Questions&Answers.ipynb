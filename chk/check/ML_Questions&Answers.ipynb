{
  "nbformat": 4,
  "nbformat_minor": 0,
  "metadata": {
    "colab": {
      "name": "ML_Questions_TeamWork.ipynb",
      "version": "0.3.2",
      "provenance": [],
      "include_colab_link": true
    },
    "language_info": {
      "codemirror_mode": {
        "name": "ipython",
        "version": 3
      },
      "file_extension": ".py",
      "mimetype": "text/x-python",
      "name": "python",
      "nbconvert_exporter": "python",
      "pygments_lexer": "ipython3",
      "version": "3.7.3"
    },
    "kernelspec": {
      "display_name": "Python 3",
      "language": "python",
      "name": "python3"
    }
  },
  "cells": [
    {
      "cell_type": "markdown",
      "metadata": {
        "id": "view-in-github",
        "colab_type": "text"
      },
      "source": [
        "<a href=\"https://colab.research.google.com/github/SudhakarAnemu/AI-DS-ML-DL-Materials/blob/master/ML_Questions%26Answers.ipynb\" target=\"_parent\"><img src=\"https://colab.research.google.com/assets/colab-badge.svg\" alt=\"Open In Colab\"/></a>"
      ]
    },
    {
      "cell_type": "markdown",
      "metadata": {
        "id": "61VBQ8Ly1XCR",
        "colab_type": "text"
      },
      "source": [
        "## 4th May 2019\n",
        "\n",
        "1. Will it(scaling) taking more time? and what is scaling?<br>\n",
        "Ans : No, \n",
        "ultimately scaling will take the same time. <br>\n",
        "Scaling: is essentially normalization(making sure all values are in the same range). \n",
        "Here are uses of scaling. \n",
        "<br>a. No need to put too much effort into understanding the result. \n",
        "<br>b. No problem even if we do not do it. (Biggest boost can see in the state of processing if we have millions of data instead of 2000 rows). \n",
        "\n",
        "2. How do we optimize the pipeline of the ML for an enterprise?<br>\n",
        "Ans : We need to have Data Science represent Data Set from core data of the enterprise or company. <br>\n",
        "ex: let an organization has 100 different operations from100 different sources. For DS : we need to have a single data source(single representation). in this process, we do scaling. \n",
        "\n",
        "3. Why we will do under root(RMSE) and how does it help you to get the same scale?\n",
        "Ans: It is to normalize the value, basically, it will give the same unit back. <br>\n",
        "ex : Root of 25 is 5<br>\n",
        "basically, it incorporates both ideas of MAE and MSE. (that is the reason people use RMSE). \n",
        "\n",
        "4. Describe - ML is nothing but parametric optimization. <br>\n",
        "Ans: for every modle, there are \"n\" number of parameters which effects the mathematical logic of calculations, the final learning between X Train and Y Train. <br>\n",
        "Ex : In DJ there is the number of nob's (filter, mixing, up and down etc..) which effects the final results. <br>\n",
        "similarly, this is what experiment will be done in the Data Science perspective \n",
        "\n",
        "5. What is the Grid search? \n",
        "<br>Ans : It will ask you to tell all the combinations that we want to play with(parameters). We will do and run all the those and get back to you with the final result. (it is automation that we wish). Grid search is very heaving in perspective on computations. \n",
        "\n",
        "## 11th May 2019\n",
        "1. Why do we use RMSE not anything else(R-Square and Adjusted R-Square)?<br>\n",
        "Ans:It results in the same unit as the data and also punishes error. It penalizes the error and scales back to the original. \n",
        "\n",
        "2. From the example of Sales predict(TV, Newspaper, Radio) : When we remove the NP then the net effect is 30%to40% but when we remove both NP and Radio the net effect is 5%. By this what can we conclude?<br>\n",
        "Ans:It does not make sense to remove Radio. By feature selection, we figure it out as only News Paper has noise. \n",
        "\n",
        "3. Would not feature selection need trying all combination between features? is there any shortcut in case of a large number of features?<br>\n",
        "Ans: It does not make sense to remove Radio. By feature selection, we figure it out as only News Paper has noise. \n",
        "\n",
        "4. Why are we removing features?<br>\n",
        "Ans: it is so important to understand to remove a feature to improve the modle. It might have an effect on the final modle. \n",
        "\n",
        "5. Category Data(0,1,2/string's) how we will represent in Linear regression?<br>\n",
        "Ans: We need to use Dummy to represent this data else we cannot represent this type of data in the Linear regression. \n",
        "\n",
        "6. Dummy Variable: What will happen when we take all n variables?<br>\n",
        "No impact. For simplification purpose, we will take n-1 because can derive missing value by rest of values. Non-presence value can be derived by presence values. <br>\n",
        "Best Practice: If we are planning to do linear regression and if we have category/numeric discrete values then first convert those values to a dummy value(n-1(practice / n)\n",
        "\n",
        "7. Multiple columns will be created when we apply Dummy on category variables? right, again these individual columns are a category, right? then why are we doing it?<br>\n",
        "Ans: Take the example of Sales(TV, NP, Radio), Urben, Sub urben, Rural columns. in this category, all are equal so we cannot represent these values in a single axis. <br>\n",
        "it is the first problem unless we put in number values/vector. \n",
        "This problem can be solved by using the concept Dummy(by dividing a single column to multiple).\n",
        "\n",
        "8. How can we deal with 100 column category?<br>\n",
        "Ans 1: Theoretically, yes all 100 categories should convert to 99 columns by Dummy. <br>\n",
        "Ans 2: We can not take all where we need to identify the best fit of the column.\n",
        "\n",
        "9. What is the conclusion of a best-fit line?<br>\n",
        "Ans: Finally, we will have an equation of the best fit line. By this, we will find the sales value for the new TV, Radio values.\n",
        "\n",
        "10. From the example of Sales predict(TV, Newspaper, Radio): how confident can we be with the predicted sales value? do we need to give confidence interval based on the RMSE?<br>\n",
        "Ans: RMSE: Does not give confidence it will give on an average. It will give how far we are in actual value. The \"y\" we are predicting is +/- of RMSE. \n",
        "\n",
        "11. Why Logistic Regression is regression? though it is classification algorithm. <br>\n",
        "Ans: Logistic regression is not a classification algorithm on its own. Logistic regression is a regression model because it estimates the probability of class membership as a (transformation of a) multilinear function of the features\n",
        "\n",
        "12. Let if we have all -ve continuous values as input values, then can we conclude the lower value of RMSE indicates the best fit?<br>\n",
        "Ans: Let the budget is (-ve) in the sales example, but the RMSE will give +ve value. We do not know RMSE will be higher or lower so that we can not conclude. "
      ]
    },
    {
      "cell_type": "code",
      "metadata": {
        "id": "BVeo6FzU1XCU",
        "colab_type": "code",
        "colab": {}
      },
      "source": [
        ""
      ],
      "execution_count": 0,
      "outputs": []
    }
  ]
}