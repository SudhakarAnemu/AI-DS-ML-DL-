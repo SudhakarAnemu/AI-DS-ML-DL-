{
  "nbformat": 4,
  "nbformat_minor": 0,
  "metadata": {
    "colab": {
      "name": "LogAnalysis.ipynb",
      "version": "0.3.2",
      "provenance": [],
      "toc_visible": true,
      "include_colab_link": true
    },
    "kernelspec": {
      "name": "python3",
      "display_name": "Python 3"
    },
    "accelerator": "TPU"
  },
  "cells": [
    {
      "cell_type": "markdown",
      "metadata": {
        "id": "view-in-github",
        "colab_type": "text"
      },
      "source": [
        "<a href=\"https://colab.research.google.com/github/SudhakarAnemu/AI-DS-ML-DL-Materials/blob/master/LogAnalysis.ipynb\" target=\"_parent\"><img src=\"https://colab.research.google.com/assets/colab-badge.svg\" alt=\"Open In Colab\"/></a>"
      ]
    },
    {
      "cell_type": "markdown",
      "metadata": {
        "id": "HUAYJ1TyfdwD",
        "colab_type": "text"
      },
      "source": [
        "This program is talking about Log Analysis - js(Sudhakar Anemu)"
      ]
    },
    {
      "cell_type": "markdown",
      "metadata": {
        "id": "vcJo9dE6fncG",
        "colab_type": "text"
      },
      "source": [
        "# 1. Importing Libraries and the Flow of program"
      ]
    },
    {
      "cell_type": "markdown",
      "metadata": {
        "id": "Tf7ewyy3mDR3",
        "colab_type": "text"
      },
      "source": [
        "## 1.1 Implort all required Libraries"
      ]
    },
    {
      "cell_type": "code",
      "metadata": {
        "id": "4CSq7Q3GAZ6Y",
        "colab_type": "code",
        "outputId": "73b6b72e-bcfd-4673-bc96-b3633044f3a0",
        "colab": {
          "base_uri": "https://localhost:8080/",
          "height": 35
        }
      },
      "source": [
        "import re\n",
        "import pandas as pd\n",
        "import csv\n",
        "import seaborn as sns\n",
        "import matplotlib.pyplot as plt\n",
        "%matplotlib inline\n",
        "import plotly \n",
        "import plotly.plotly as py\n",
        "import plotly.graph_objs as go\n",
        "plotly.tools.set_credentials_file(username='sudhakar.anemu', api_key='gsV5SUHPip75363I87dw')\n",
        "print(\"End of Import\")"
      ],
      "execution_count": 252,
      "outputs": [
        {
          "output_type": "stream",
          "text": [
            "End of Import\n"
          ],
          "name": "stdout"
        }
      ]
    },
    {
      "cell_type": "markdown",
      "metadata": {
        "id": "ZBR7NYPTlHYz",
        "colab_type": "text"
      },
      "source": [
        "## 1.2 Flow of the program\n",
        "\n",
        "1. Read the input file\n",
        "2. Create a file with content of employee id(Grep the employee id)\n",
        "3. Create a file with coma separation of three columns(Date, Time and Employee)\n",
        "4. Create a csv file with delimator of , (from the above file)\n",
        "5. Create Graph's(with dataframes, panda's)\n",
        "\n",
        "Challeng's : \n",
        "\n",
        "1. Manually converted \",\" separted file to csv file. \n",
        "2. Should play with Plotly and provide Graph's\n",
        "3. Did not play properly with Time object"
      ]
    },
    {
      "cell_type": "markdown",
      "metadata": {
        "id": "39rlUJE9QW1r",
        "colab_type": "text"
      },
      "source": [
        "## 1.3 Import required files"
      ]
    },
    {
      "cell_type": "code",
      "metadata": {
        "id": "JFTrOBCPQWGP",
        "colab_type": "code",
        "colab": {}
      },
      "source": [
        "#!wget images/second.txt"
      ],
      "execution_count": 0,
      "outputs": []
    },
    {
      "cell_type": "markdown",
      "metadata": {
        "id": "QiQrGlR8hFrE",
        "colab_type": "text"
      },
      "source": [
        "# 2 Playing with input files and createa a desired csv file"
      ]
    },
    {
      "cell_type": "markdown",
      "metadata": {
        "id": "y3WDrXxEfxbC",
        "colab_type": "text"
      },
      "source": [
        "## 2.1 Read the input file and create a new file with grep of emailid"
      ]
    },
    {
      "cell_type": "code",
      "metadata": {
        "id": "5GnGcQ6cArzF",
        "colab_type": "code",
        "outputId": "8546ec83-15e9-4f9e-8598-90ee1f0190d7",
        "colab": {
          "base_uri": "https://localhost:8080/",
          "height": 35
        }
      },
      "source": [
        "file1 = open(\"second.txt\", \"r\")\n",
        "file2 = open(\"testfile.txt\",\"w\") \n",
        " \n",
        "pattern = r'emailId'\n",
        "#pattern = r'email'\n",
        "\n",
        "for line in file1:\n",
        "  match = re.search(pattern,line)\n",
        "  if(match):\n",
        "    file2.write(line)\n",
        "\n",
        "print(\"End\")\n",
        "\n",
        "file1.close()\n",
        "file2.close() "
      ],
      "execution_count": 254,
      "outputs": [
        {
          "output_type": "stream",
          "text": [
            "End\n"
          ],
          "name": "stdout"
        }
      ]
    },
    {
      "cell_type": "markdown",
      "metadata": {
        "id": "93YwLCfsqghe",
        "colab_type": "text"
      },
      "source": [
        "### 2.1.0 Read the output file"
      ]
    },
    {
      "cell_type": "code",
      "metadata": {
        "id": "m4uedUFpqKEn",
        "colab_type": "code",
        "outputId": "59f74e22-9a08-49cf-c4d9-f33296bdef22",
        "colab": {
          "base_uri": "https://localhost:8080/",
          "height": 219
        }
      },
      "source": [
        "fila = open(\"testfile.txt\",\"r\") \n",
        " \n",
        "for i in range(0,5):\n",
        "  print(fila.readline())\n",
        "\n",
        "fila.close() "
      ],
      "execution_count": 255,
      "outputs": [
        {
          "output_type": "stream",
          "text": [
            "2019-07-02 03:19:53 INFO  PortalUtil:662 - {\"logType\":\"INFO\",\"logMessage\":\" emailId raniagra@us.ibm.com\",\"methodName\":\"getBluePageUserDetails\",\"className\":\"com.ibm.ispw.service.endpoint.home.CommonServiceProvider\",\"timestamp\":\"Tue Jul 02 03:19:53 CDT 2019\"}\n",
            "\n",
            "2019-07-02 05:18:43 INFO  PortalUtil:662 - {\"logType\":\"INFO\",\"logMessage\":\" emailId avinash.chandra@in.ibm.com\",\"methodName\":\"getBluePageUserDetails\",\"className\":\"com.ibm.ispw.service.endpoint.home.CommonServiceProvider\",\"timestamp\":\"Tue Jul 02 05:18:43 CDT 2019\"}\n",
            "\n",
            "2019-07-02 05:33:54 INFO  PortalUtil:662 - {\"logType\":\"INFO\",\"logMessage\":\" emailId avinash.chandra@in.ibm.com\",\"methodName\":\"getBluePageUserDetails\",\"className\":\"com.ibm.ispw.service.endpoint.home.CommonServiceProvider\",\"timestamp\":\"Tue Jul 02 05:33:54 CDT 2019\"}\n",
            "\n",
            "2019-07-02 05:34:33 INFO  PortalUtil:662 - {\"logType\":\"INFO\",\"logMessage\":\" emailId avinash.chandra@in.ibm.com\",\"methodName\":\"getBluePageUserDetails\",\"className\":\"com.ibm.ispw.service.endpoint.home.CommonServiceProvider\",\"timestamp\":\"Tue Jul 02 05:34:33 CDT 2019\"}\n",
            "\n",
            "2019-07-02 05:37:15 INFO  PortalUtil:662 - {\"logType\":\"INFO\",\"logMessage\":\" emailId nganacha@in.ibm.com\",\"methodName\":\"getBluePageUserDetails\",\"className\":\"com.ibm.ispw.service.endpoint.home.CommonServiceProvider\",\"timestamp\":\"Tue Jul 02 05:37:15 CDT 2019\"}\n",
            "\n"
          ],
          "name": "stdout"
        }
      ]
    },
    {
      "cell_type": "markdown",
      "metadata": {
        "id": "PE2Kh4aYgGl1",
        "colab_type": "text"
      },
      "source": [
        "## 2.2 Read the above file and create a new one which contains only Date and Email"
      ]
    },
    {
      "cell_type": "code",
      "metadata": {
        "id": "OhDXByx7_Jc7",
        "colab_type": "code",
        "outputId": "a5a1279c-7969-4407-c022-7e5efa815a10",
        "colab": {
          "base_uri": "https://localhost:8080/",
          "height": 763
        }
      },
      "source": [
        "file = open(\"testfile.txt\", \"r\")\n",
        "#file = open(\"2ConvCsvFile.csv\", \"r\")\n",
        "fila = open(\"testfile1.txt\",\"w\")   \n",
        "\n",
        "for line in file:\n",
        "  a = line.split()\n",
        "#   print(\"\\n Content of a : \\n\", a[0:4])\n",
        "#   print(\"\\n Content of a : \\n\", a[7])\n",
        "  b = a[7].split('\"')\n",
        "#   print(\"\\n Content of b : \\n\", b[0:4])\n",
        "  s = a[0] +\",\"+ a[1]+\",\"+b[0]+\"\\n\"\n",
        "  print(\"s is : \", s)\n",
        "  fila.write(s)\n",
        "  \n",
        "print(\"end\")\n",
        "\n",
        "file.close()\n",
        "fila.close()"
      ],
      "execution_count": 256,
      "outputs": [
        {
          "output_type": "stream",
          "text": [
            "s is :  2019-07-02,03:19:53,raniagra@us.ibm.com\n",
            "\n",
            "s is :  2019-07-02,05:18:43,avinash.chandra@in.ibm.com\n",
            "\n",
            "s is :  2019-07-02,05:33:54,avinash.chandra@in.ibm.com\n",
            "\n",
            "s is :  2019-07-02,05:34:33,avinash.chandra@in.ibm.com\n",
            "\n",
            "s is :  2019-07-02,05:37:15,nganacha@in.ibm.com\n",
            "\n",
            "s is :  2019-07-02,05:37:33,nganacha@in.ibm.com\n",
            "\n",
            "s is :  2019-07-02,05:38:11,avinash.chandra@in.ibm.com\n",
            "\n",
            "s is :  2019-07-02,05:39:58,nganacha@in.ibm.com\n",
            "\n",
            "s is :  2019-07-02,05:40:06,nganacha@in.ibm.com\n",
            "\n",
            "s is :  2019-07-02,05:40:08,nganacha@in.ibm.com\n",
            "\n",
            "s is :  2019-07-02,05:42:19,avinash.chandra@in.ibm.com\n",
            "\n",
            "s is :  2019-07-02,05:42:49,anudchan@in.ibm.com\n",
            "\n",
            "s is :  2019-07-02,05:47:14,kumarr03@avisbudget.com\n",
            "\n",
            "s is :  2019-07-02,05:48:24,kumarr03@avisbudget.com\n",
            "\n",
            "s is :  2019-07-02,06:03:36,nganacha@in.ibm.com\n",
            "\n",
            "s is :  2019-07-02,06:08:23,avinash.chandra@in.ibm.com\n",
            "\n",
            "s is :  2019-07-02,06:13:03,kumarr03@avisbudget.com\n",
            "\n",
            "s is :  2019-07-02,06:14:29,avinash.chandra@in.ibm.com\n",
            "\n",
            "s is :  2019-07-02,06:16:32,nganacha@in.ibm.com\n",
            "\n",
            "s is :  2019-07-02,06:20:42,nganacha@in.ibm.com\n",
            "\n",
            "end\n"
          ],
          "name": "stdout"
        }
      ]
    },
    {
      "cell_type": "markdown",
      "metadata": {
        "id": "Ef999H-AhWDd",
        "colab_type": "text"
      },
      "source": [
        "# 3. Playing with csv file and generating graphs"
      ]
    },
    {
      "cell_type": "markdown",
      "metadata": {
        "id": "m0s9pvSHhd4k",
        "colab_type": "text"
      },
      "source": [
        "## 3.1 Create dataframe for the csv file"
      ]
    },
    {
      "cell_type": "code",
      "metadata": {
        "id": "N6TKemmN70oG",
        "colab_type": "code",
        "outputId": "30e753ff-d972-4112-9621-d1abecea0089",
        "colab": {
          "base_uri": "https://localhost:8080/",
          "height": 0
        }
      },
      "source": [
        "df = pd.read_csv('2ConvCsvFile.csv')\n",
        "print(\"End - read file\")"
      ],
      "execution_count": 257,
      "outputs": [
        {
          "output_type": "stream",
          "text": [
            "End - read file\n"
          ],
          "name": "stdout"
        }
      ]
    },
    {
      "cell_type": "code",
      "metadata": {
        "id": "Kz0FXCpJgjjP",
        "colab_type": "code",
        "colab": {}
      },
      "source": [
        "#df.head(10)"
      ],
      "execution_count": 0,
      "outputs": []
    },
    {
      "cell_type": "markdown",
      "metadata": {
        "id": "-HqKtkVihing",
        "colab_type": "text"
      },
      "source": [
        "## 3.2 Assign columns"
      ]
    },
    {
      "cell_type": "code",
      "metadata": {
        "id": "575oyVJY8EEq",
        "colab_type": "code",
        "outputId": "f76de62b-f7ac-49dd-8419-fb7eb7cb69d4",
        "colab": {
          "base_uri": "https://localhost:8080/",
          "height": 35
        }
      },
      "source": [
        "df.columns = [\"Date\", \"Time\", \"Emailid\"]\n",
        "print(\"End - Add columns\")"
      ],
      "execution_count": 259,
      "outputs": [
        {
          "output_type": "stream",
          "text": [
            "End - Add columns\n"
          ],
          "name": "stdout"
        }
      ]
    },
    {
      "cell_type": "markdown",
      "metadata": {
        "id": "WFn-a4OvipUm",
        "colab_type": "text"
      },
      "source": [
        "#### 3.2.0 Information of the Dataframe"
      ]
    },
    {
      "cell_type": "code",
      "metadata": {
        "id": "9DYna__YikjH",
        "colab_type": "code",
        "outputId": "da0a3f64-5747-4cef-df94-7fca1f1e77d8",
        "colab": {
          "base_uri": "https://localhost:8080/",
          "height": 0
        }
      },
      "source": [
        "df.info()"
      ],
      "execution_count": 260,
      "outputs": [
        {
          "output_type": "stream",
          "text": [
            "<class 'pandas.core.frame.DataFrame'>\n",
            "RangeIndex: 42 entries, 0 to 41\n",
            "Data columns (total 3 columns):\n",
            "Date       42 non-null object\n",
            "Time       42 non-null object\n",
            "Emailid    42 non-null object\n",
            "dtypes: object(3)\n",
            "memory usage: 1.1+ KB\n"
          ],
          "name": "stdout"
        }
      ]
    },
    {
      "cell_type": "markdown",
      "metadata": {
        "id": "n2fKvUsgVLUY",
        "colab_type": "text"
      },
      "source": [
        "### 3.2.1 Splitting the Time column into Hour, Minute and Seconds"
      ]
    },
    {
      "cell_type": "markdown",
      "metadata": {
        "id": "KWrZOYWKg258",
        "colab_type": "text"
      },
      "source": [
        "### 3.2.2 Display head of 5(first five row's)"
      ]
    },
    {
      "cell_type": "code",
      "metadata": {
        "id": "d9O190cxgyRH",
        "colab_type": "code",
        "outputId": "1bf67433-a703-40eb-d94b-34ce575a56a8",
        "colab": {
          "base_uri": "https://localhost:8080/",
          "height": 0
        }
      },
      "source": [
        "df.head(5)"
      ],
      "execution_count": 261,
      "outputs": [
        {
          "output_type": "execute_result",
          "data": {
            "text/html": [
              "<div>\n",
              "<style scoped>\n",
              "    .dataframe tbody tr th:only-of-type {\n",
              "        vertical-align: middle;\n",
              "    }\n",
              "\n",
              "    .dataframe tbody tr th {\n",
              "        vertical-align: top;\n",
              "    }\n",
              "\n",
              "    .dataframe thead th {\n",
              "        text-align: right;\n",
              "    }\n",
              "</style>\n",
              "<table border=\"1\" class=\"dataframe\">\n",
              "  <thead>\n",
              "    <tr style=\"text-align: right;\">\n",
              "      <th></th>\n",
              "      <th>Date</th>\n",
              "      <th>Time</th>\n",
              "      <th>Emailid</th>\n",
              "    </tr>\n",
              "  </thead>\n",
              "  <tbody>\n",
              "    <tr>\n",
              "      <th>0</th>\n",
              "      <td>02-07-2019</td>\n",
              "      <td>05:18:43</td>\n",
              "      <td>avinash.chandra@in.ibm.com</td>\n",
              "    </tr>\n",
              "    <tr>\n",
              "      <th>1</th>\n",
              "      <td>02-07-2019</td>\n",
              "      <td>05:33:54</td>\n",
              "      <td>avinash.chandra@in.ibm.com</td>\n",
              "    </tr>\n",
              "    <tr>\n",
              "      <th>2</th>\n",
              "      <td>02-07-2019</td>\n",
              "      <td>05:34:33</td>\n",
              "      <td>avinash.chandra@in.ibm.com</td>\n",
              "    </tr>\n",
              "    <tr>\n",
              "      <th>3</th>\n",
              "      <td>02-07-2019</td>\n",
              "      <td>05:37:15</td>\n",
              "      <td>nganacha@in.ibm.com</td>\n",
              "    </tr>\n",
              "    <tr>\n",
              "      <th>4</th>\n",
              "      <td>02-07-2019</td>\n",
              "      <td>05:37:33</td>\n",
              "      <td>nganacha@in.ibm.com</td>\n",
              "    </tr>\n",
              "  </tbody>\n",
              "</table>\n",
              "</div>"
            ],
            "text/plain": [
              "         Date      Time                     Emailid\n",
              "0  02-07-2019  05:18:43  avinash.chandra@in.ibm.com\n",
              "1  02-07-2019  05:33:54  avinash.chandra@in.ibm.com\n",
              "2  02-07-2019  05:34:33  avinash.chandra@in.ibm.com\n",
              "3  02-07-2019  05:37:15         nganacha@in.ibm.com\n",
              "4  02-07-2019  05:37:33         nganacha@in.ibm.com"
            ]
          },
          "metadata": {
            "tags": []
          },
          "execution_count": 261
        }
      ]
    },
    {
      "cell_type": "markdown",
      "metadata": {
        "id": "2lLIbRBeiODP",
        "colab_type": "text"
      },
      "source": [
        "### 3.2.3 Split the Date column"
      ]
    },
    {
      "cell_type": "code",
      "metadata": {
        "id": "EAwvvXlOiRTw",
        "colab_type": "code",
        "outputId": "2f8a1986-5938-4a07-d30c-a7e77cc16966",
        "colab": {
          "base_uri": "https://localhost:8080/",
          "height": 0
        }
      },
      "source": [
        "df[['Day','Month','Year']] = df.Date.str.split(\"-\",expand=True) \n",
        "print(\"End\")"
      ],
      "execution_count": 262,
      "outputs": [
        {
          "output_type": "stream",
          "text": [
            "End\n"
          ],
          "name": "stdout"
        }
      ]
    },
    {
      "cell_type": "markdown",
      "metadata": {
        "id": "mmkKBYKXjd3Q",
        "colab_type": "text"
      },
      "source": [
        "### 3.2.4 Split the Email id column"
      ]
    },
    {
      "cell_type": "code",
      "metadata": {
        "id": "5uY0QCg6jkdz",
        "colab_type": "code",
        "outputId": "921eb4db-f6cc-407a-ac6e-a6c345c7b2de",
        "colab": {
          "base_uri": "https://localhost:8080/",
          "height": 0
        }
      },
      "source": [
        "df[['Name', 'EmailTag']] = df.Emailid.str.split(\"@\", expand=True)\n",
        "print(\"End\")"
      ],
      "execution_count": 263,
      "outputs": [
        {
          "output_type": "stream",
          "text": [
            "End\n"
          ],
          "name": "stdout"
        }
      ]
    },
    {
      "cell_type": "markdown",
      "metadata": {
        "id": "9fSEO-MLkQ_R",
        "colab_type": "text"
      },
      "source": [
        "### 3.2.5 Split the EmailTag column"
      ]
    },
    {
      "cell_type": "code",
      "metadata": {
        "id": "TJ0EEsoVkUjU",
        "colab_type": "code",
        "outputId": "893626fe-35d4-4e2e-e294-e34e31685409",
        "colab": {
          "base_uri": "https://localhost:8080/",
          "height": 0
        }
      },
      "source": [
        "df[['Country', 'ibm', 'com']] = df.EmailTag.str.split(\".\", expand=True)\n",
        "print(\"End\")"
      ],
      "execution_count": 264,
      "outputs": [
        {
          "output_type": "stream",
          "text": [
            "End\n"
          ],
          "name": "stdout"
        }
      ]
    },
    {
      "cell_type": "markdown",
      "metadata": {
        "id": "p4I3T2jxZFQw",
        "colab_type": "text"
      },
      "source": [
        "### 3.2.6 Display content of the dataframe"
      ]
    },
    {
      "cell_type": "code",
      "metadata": {
        "id": "-azoFDulZMfp",
        "colab_type": "code",
        "outputId": "3ec0848e-ea71-4de0-e17e-14af7766fa9d",
        "colab": {
          "base_uri": "https://localhost:8080/",
          "height": 0
        }
      },
      "source": [
        "df.head(5)"
      ],
      "execution_count": 265,
      "outputs": [
        {
          "output_type": "execute_result",
          "data": {
            "text/html": [
              "<div>\n",
              "<style scoped>\n",
              "    .dataframe tbody tr th:only-of-type {\n",
              "        vertical-align: middle;\n",
              "    }\n",
              "\n",
              "    .dataframe tbody tr th {\n",
              "        vertical-align: top;\n",
              "    }\n",
              "\n",
              "    .dataframe thead th {\n",
              "        text-align: right;\n",
              "    }\n",
              "</style>\n",
              "<table border=\"1\" class=\"dataframe\">\n",
              "  <thead>\n",
              "    <tr style=\"text-align: right;\">\n",
              "      <th></th>\n",
              "      <th>Date</th>\n",
              "      <th>Time</th>\n",
              "      <th>Emailid</th>\n",
              "      <th>Day</th>\n",
              "      <th>Month</th>\n",
              "      <th>Year</th>\n",
              "      <th>Name</th>\n",
              "      <th>EmailTag</th>\n",
              "      <th>Country</th>\n",
              "      <th>ibm</th>\n",
              "      <th>com</th>\n",
              "    </tr>\n",
              "  </thead>\n",
              "  <tbody>\n",
              "    <tr>\n",
              "      <th>0</th>\n",
              "      <td>02-07-2019</td>\n",
              "      <td>05:18:43</td>\n",
              "      <td>avinash.chandra@in.ibm.com</td>\n",
              "      <td>02</td>\n",
              "      <td>07</td>\n",
              "      <td>2019</td>\n",
              "      <td>avinash.chandra</td>\n",
              "      <td>in.ibm.com</td>\n",
              "      <td>in</td>\n",
              "      <td>ibm</td>\n",
              "      <td>com</td>\n",
              "    </tr>\n",
              "    <tr>\n",
              "      <th>1</th>\n",
              "      <td>02-07-2019</td>\n",
              "      <td>05:33:54</td>\n",
              "      <td>avinash.chandra@in.ibm.com</td>\n",
              "      <td>02</td>\n",
              "      <td>07</td>\n",
              "      <td>2019</td>\n",
              "      <td>avinash.chandra</td>\n",
              "      <td>in.ibm.com</td>\n",
              "      <td>in</td>\n",
              "      <td>ibm</td>\n",
              "      <td>com</td>\n",
              "    </tr>\n",
              "    <tr>\n",
              "      <th>2</th>\n",
              "      <td>02-07-2019</td>\n",
              "      <td>05:34:33</td>\n",
              "      <td>avinash.chandra@in.ibm.com</td>\n",
              "      <td>02</td>\n",
              "      <td>07</td>\n",
              "      <td>2019</td>\n",
              "      <td>avinash.chandra</td>\n",
              "      <td>in.ibm.com</td>\n",
              "      <td>in</td>\n",
              "      <td>ibm</td>\n",
              "      <td>com</td>\n",
              "    </tr>\n",
              "    <tr>\n",
              "      <th>3</th>\n",
              "      <td>02-07-2019</td>\n",
              "      <td>05:37:15</td>\n",
              "      <td>nganacha@in.ibm.com</td>\n",
              "      <td>02</td>\n",
              "      <td>07</td>\n",
              "      <td>2019</td>\n",
              "      <td>nganacha</td>\n",
              "      <td>in.ibm.com</td>\n",
              "      <td>in</td>\n",
              "      <td>ibm</td>\n",
              "      <td>com</td>\n",
              "    </tr>\n",
              "    <tr>\n",
              "      <th>4</th>\n",
              "      <td>02-07-2019</td>\n",
              "      <td>05:37:33</td>\n",
              "      <td>nganacha@in.ibm.com</td>\n",
              "      <td>02</td>\n",
              "      <td>07</td>\n",
              "      <td>2019</td>\n",
              "      <td>nganacha</td>\n",
              "      <td>in.ibm.com</td>\n",
              "      <td>in</td>\n",
              "      <td>ibm</td>\n",
              "      <td>com</td>\n",
              "    </tr>\n",
              "  </tbody>\n",
              "</table>\n",
              "</div>"
            ],
            "text/plain": [
              "         Date      Time                     Emailid  ... Country  ibm  com\n",
              "0  02-07-2019  05:18:43  avinash.chandra@in.ibm.com  ...      in  ibm  com\n",
              "1  02-07-2019  05:33:54  avinash.chandra@in.ibm.com  ...      in  ibm  com\n",
              "2  02-07-2019  05:34:33  avinash.chandra@in.ibm.com  ...      in  ibm  com\n",
              "3  02-07-2019  05:37:15         nganacha@in.ibm.com  ...      in  ibm  com\n",
              "4  02-07-2019  05:37:33         nganacha@in.ibm.com  ...      in  ibm  com\n",
              "\n",
              "[5 rows x 11 columns]"
            ]
          },
          "metadata": {
            "tags": []
          },
          "execution_count": 265
        }
      ]
    },
    {
      "cell_type": "markdown",
      "metadata": {
        "id": "a5w21YpDZQJC",
        "colab_type": "text"
      },
      "source": [
        "### 3.2.7 Add a column CountryName which will derive from Country"
      ]
    },
    {
      "cell_type": "code",
      "metadata": {
        "id": "_V7gc0wlfaFw",
        "colab_type": "code",
        "colab": {
          "base_uri": "https://localhost:8080/",
          "height": 254
        },
        "outputId": "85a46edb-0086-4051-8886-dd34804a9aa9"
      },
      "source": [
        "!wget https://raw.githubusercontent.com/SudhakarAnemu/AI-DS-ML-DL-Materials/master/images/country.txt\n",
        "a = !cat country.txt | wc -l\n",
        "nLns = int(str(a.n)) # error\n",
        "print(\"Value of the nLns is \", nLns, \" and the type is : \", type(nLns))\n",
        "\n",
        "\n",
        "fila = open(\"country.txt\",\"r\") \n",
        "data=fila.read()\n",
        "each_element=str(data).split(\"\\n\")\n",
        "\n",
        "d={}\n",
        "\n",
        "for i in range(0,nLns):\n",
        "  d[each_element[i].split(\":\")[0]] = each_element[i].split(\":\")[1]\n",
        "  \n",
        "print(\"Dictionary is : \", d)\n"
      ],
      "execution_count": 266,
      "outputs": [
        {
          "output_type": "stream",
          "text": [
            "--2019-07-23 01:47:49--  https://raw.githubusercontent.com/SudhakarAnemu/AI-DS-ML-DL-Materials/master/images/country.txt\n",
            "Resolving raw.githubusercontent.com (raw.githubusercontent.com)... 151.101.0.133, 151.101.64.133, 151.101.128.133, ...\n",
            "Connecting to raw.githubusercontent.com (raw.githubusercontent.com)|151.101.0.133|:443... connected.\n",
            "HTTP request sent, awaiting response... 200 OK\n",
            "Length: 59 [text/plain]\n",
            "Saving to: ‘country.txt.3’\n",
            "\n",
            "\rcountry.txt.3         0%[                    ]       0  --.-KB/s               \rcountry.txt.3       100%[===================>]      59  --.-KB/s    in 0s      \n",
            "\n",
            "2019-07-23 01:47:49 (11.3 MB/s) - ‘country.txt.3’ saved [59/59]\n",
            "\n",
            "Value of the nLns is  6  and the type is :  <class 'int'>\n",
            "Dictionary is :  {'in': 'India', 'jp': 'Japan', 'ca': 'Canada', 'us': 'America', 'cn': 'China', 'uk': 'England'}\n"
          ],
          "name": "stdout"
        }
      ]
    },
    {
      "cell_type": "code",
      "metadata": {
        "id": "hK8jm_HKZdVW",
        "colab_type": "code",
        "outputId": "da41700b-0603-49f0-e405-1228cec29518",
        "colab": {
          "base_uri": "https://localhost:8080/",
          "height": 228
        }
      },
      "source": [
        "# cdf = df[\"Country\"] # Displaying the content of Country\n",
        "# print(\"df : \", df.head(2), \" Type of the df : \", type(cdf))\n",
        "# print(\"cdf : \\n\", cdf.head(6), \" Type of the cdf : \", type(cdf))\n",
        "\n",
        "\n",
        "# df[\"CntyNm\"] = df[\"Country\"].apply(lambda x : x + \" js\") # it is good\n",
        "\n",
        "\n",
        "def distAssign(x):\n",
        "  return d[x]\n",
        "\n",
        "df[\"CntyNm\"] = df[\"Country\"].apply(distAssign)\n",
        "\n",
        "df.head(6)\n",
        "\n"
      ],
      "execution_count": 267,
      "outputs": [
        {
          "output_type": "execute_result",
          "data": {
            "text/html": [
              "<div>\n",
              "<style scoped>\n",
              "    .dataframe tbody tr th:only-of-type {\n",
              "        vertical-align: middle;\n",
              "    }\n",
              "\n",
              "    .dataframe tbody tr th {\n",
              "        vertical-align: top;\n",
              "    }\n",
              "\n",
              "    .dataframe thead th {\n",
              "        text-align: right;\n",
              "    }\n",
              "</style>\n",
              "<table border=\"1\" class=\"dataframe\">\n",
              "  <thead>\n",
              "    <tr style=\"text-align: right;\">\n",
              "      <th></th>\n",
              "      <th>Date</th>\n",
              "      <th>Time</th>\n",
              "      <th>Emailid</th>\n",
              "      <th>Day</th>\n",
              "      <th>Month</th>\n",
              "      <th>Year</th>\n",
              "      <th>Name</th>\n",
              "      <th>EmailTag</th>\n",
              "      <th>Country</th>\n",
              "      <th>ibm</th>\n",
              "      <th>com</th>\n",
              "      <th>CntyNm</th>\n",
              "    </tr>\n",
              "  </thead>\n",
              "  <tbody>\n",
              "    <tr>\n",
              "      <th>0</th>\n",
              "      <td>02-07-2019</td>\n",
              "      <td>05:18:43</td>\n",
              "      <td>avinash.chandra@in.ibm.com</td>\n",
              "      <td>02</td>\n",
              "      <td>07</td>\n",
              "      <td>2019</td>\n",
              "      <td>avinash.chandra</td>\n",
              "      <td>in.ibm.com</td>\n",
              "      <td>in</td>\n",
              "      <td>ibm</td>\n",
              "      <td>com</td>\n",
              "      <td>India</td>\n",
              "    </tr>\n",
              "    <tr>\n",
              "      <th>1</th>\n",
              "      <td>02-07-2019</td>\n",
              "      <td>05:33:54</td>\n",
              "      <td>avinash.chandra@in.ibm.com</td>\n",
              "      <td>02</td>\n",
              "      <td>07</td>\n",
              "      <td>2019</td>\n",
              "      <td>avinash.chandra</td>\n",
              "      <td>in.ibm.com</td>\n",
              "      <td>in</td>\n",
              "      <td>ibm</td>\n",
              "      <td>com</td>\n",
              "      <td>India</td>\n",
              "    </tr>\n",
              "    <tr>\n",
              "      <th>2</th>\n",
              "      <td>02-07-2019</td>\n",
              "      <td>05:34:33</td>\n",
              "      <td>avinash.chandra@in.ibm.com</td>\n",
              "      <td>02</td>\n",
              "      <td>07</td>\n",
              "      <td>2019</td>\n",
              "      <td>avinash.chandra</td>\n",
              "      <td>in.ibm.com</td>\n",
              "      <td>in</td>\n",
              "      <td>ibm</td>\n",
              "      <td>com</td>\n",
              "      <td>India</td>\n",
              "    </tr>\n",
              "    <tr>\n",
              "      <th>3</th>\n",
              "      <td>02-07-2019</td>\n",
              "      <td>05:37:15</td>\n",
              "      <td>nganacha@in.ibm.com</td>\n",
              "      <td>02</td>\n",
              "      <td>07</td>\n",
              "      <td>2019</td>\n",
              "      <td>nganacha</td>\n",
              "      <td>in.ibm.com</td>\n",
              "      <td>in</td>\n",
              "      <td>ibm</td>\n",
              "      <td>com</td>\n",
              "      <td>India</td>\n",
              "    </tr>\n",
              "    <tr>\n",
              "      <th>4</th>\n",
              "      <td>02-07-2019</td>\n",
              "      <td>05:37:33</td>\n",
              "      <td>nganacha@in.ibm.com</td>\n",
              "      <td>02</td>\n",
              "      <td>07</td>\n",
              "      <td>2019</td>\n",
              "      <td>nganacha</td>\n",
              "      <td>in.ibm.com</td>\n",
              "      <td>in</td>\n",
              "      <td>ibm</td>\n",
              "      <td>com</td>\n",
              "      <td>India</td>\n",
              "    </tr>\n",
              "    <tr>\n",
              "      <th>5</th>\n",
              "      <td>02-07-2019</td>\n",
              "      <td>05:34:33</td>\n",
              "      <td>rachan@ca.ibm.com</td>\n",
              "      <td>02</td>\n",
              "      <td>07</td>\n",
              "      <td>2019</td>\n",
              "      <td>rachan</td>\n",
              "      <td>ca.ibm.com</td>\n",
              "      <td>ca</td>\n",
              "      <td>ibm</td>\n",
              "      <td>com</td>\n",
              "      <td>Canada</td>\n",
              "    </tr>\n",
              "  </tbody>\n",
              "</table>\n",
              "</div>"
            ],
            "text/plain": [
              "         Date      Time                     Emailid  ...  ibm  com  CntyNm\n",
              "0  02-07-2019  05:18:43  avinash.chandra@in.ibm.com  ...  ibm  com   India\n",
              "1  02-07-2019  05:33:54  avinash.chandra@in.ibm.com  ...  ibm  com   India\n",
              "2  02-07-2019  05:34:33  avinash.chandra@in.ibm.com  ...  ibm  com   India\n",
              "3  02-07-2019  05:37:15         nganacha@in.ibm.com  ...  ibm  com   India\n",
              "4  02-07-2019  05:37:33         nganacha@in.ibm.com  ...  ibm  com   India\n",
              "5  02-07-2019  05:34:33           rachan@ca.ibm.com  ...  ibm  com  Canada\n",
              "\n",
              "[6 rows x 12 columns]"
            ]
          },
          "metadata": {
            "tags": []
          },
          "execution_count": 267
        }
      ]
    },
    {
      "cell_type": "markdown",
      "metadata": {
        "id": "f8JPwk6Vhlge",
        "colab_type": "text"
      },
      "source": [
        "## 3.3 Reading of first 50 rows"
      ]
    },
    {
      "cell_type": "code",
      "metadata": {
        "id": "e6oFRj9Q0zMt",
        "colab_type": "code",
        "outputId": "4416dcf3-3ba6-4361-9e8c-3929ac4a50a3",
        "colab": {
          "base_uri": "https://localhost:8080/",
          "height": 1000
        }
      },
      "source": [
        "df.head(50)"
      ],
      "execution_count": 268,
      "outputs": [
        {
          "output_type": "execute_result",
          "data": {
            "text/html": [
              "<div>\n",
              "<style scoped>\n",
              "    .dataframe tbody tr th:only-of-type {\n",
              "        vertical-align: middle;\n",
              "    }\n",
              "\n",
              "    .dataframe tbody tr th {\n",
              "        vertical-align: top;\n",
              "    }\n",
              "\n",
              "    .dataframe thead th {\n",
              "        text-align: right;\n",
              "    }\n",
              "</style>\n",
              "<table border=\"1\" class=\"dataframe\">\n",
              "  <thead>\n",
              "    <tr style=\"text-align: right;\">\n",
              "      <th></th>\n",
              "      <th>Date</th>\n",
              "      <th>Time</th>\n",
              "      <th>Emailid</th>\n",
              "      <th>Day</th>\n",
              "      <th>Month</th>\n",
              "      <th>Year</th>\n",
              "      <th>Name</th>\n",
              "      <th>EmailTag</th>\n",
              "      <th>Country</th>\n",
              "      <th>ibm</th>\n",
              "      <th>com</th>\n",
              "      <th>CntyNm</th>\n",
              "    </tr>\n",
              "  </thead>\n",
              "  <tbody>\n",
              "    <tr>\n",
              "      <th>0</th>\n",
              "      <td>02-07-2019</td>\n",
              "      <td>05:18:43</td>\n",
              "      <td>avinash.chandra@in.ibm.com</td>\n",
              "      <td>02</td>\n",
              "      <td>07</td>\n",
              "      <td>2019</td>\n",
              "      <td>avinash.chandra</td>\n",
              "      <td>in.ibm.com</td>\n",
              "      <td>in</td>\n",
              "      <td>ibm</td>\n",
              "      <td>com</td>\n",
              "      <td>India</td>\n",
              "    </tr>\n",
              "    <tr>\n",
              "      <th>1</th>\n",
              "      <td>02-07-2019</td>\n",
              "      <td>05:33:54</td>\n",
              "      <td>avinash.chandra@in.ibm.com</td>\n",
              "      <td>02</td>\n",
              "      <td>07</td>\n",
              "      <td>2019</td>\n",
              "      <td>avinash.chandra</td>\n",
              "      <td>in.ibm.com</td>\n",
              "      <td>in</td>\n",
              "      <td>ibm</td>\n",
              "      <td>com</td>\n",
              "      <td>India</td>\n",
              "    </tr>\n",
              "    <tr>\n",
              "      <th>2</th>\n",
              "      <td>02-07-2019</td>\n",
              "      <td>05:34:33</td>\n",
              "      <td>avinash.chandra@in.ibm.com</td>\n",
              "      <td>02</td>\n",
              "      <td>07</td>\n",
              "      <td>2019</td>\n",
              "      <td>avinash.chandra</td>\n",
              "      <td>in.ibm.com</td>\n",
              "      <td>in</td>\n",
              "      <td>ibm</td>\n",
              "      <td>com</td>\n",
              "      <td>India</td>\n",
              "    </tr>\n",
              "    <tr>\n",
              "      <th>3</th>\n",
              "      <td>02-07-2019</td>\n",
              "      <td>05:37:15</td>\n",
              "      <td>nganacha@in.ibm.com</td>\n",
              "      <td>02</td>\n",
              "      <td>07</td>\n",
              "      <td>2019</td>\n",
              "      <td>nganacha</td>\n",
              "      <td>in.ibm.com</td>\n",
              "      <td>in</td>\n",
              "      <td>ibm</td>\n",
              "      <td>com</td>\n",
              "      <td>India</td>\n",
              "    </tr>\n",
              "    <tr>\n",
              "      <th>4</th>\n",
              "      <td>02-07-2019</td>\n",
              "      <td>05:37:33</td>\n",
              "      <td>nganacha@in.ibm.com</td>\n",
              "      <td>02</td>\n",
              "      <td>07</td>\n",
              "      <td>2019</td>\n",
              "      <td>nganacha</td>\n",
              "      <td>in.ibm.com</td>\n",
              "      <td>in</td>\n",
              "      <td>ibm</td>\n",
              "      <td>com</td>\n",
              "      <td>India</td>\n",
              "    </tr>\n",
              "    <tr>\n",
              "      <th>5</th>\n",
              "      <td>02-07-2019</td>\n",
              "      <td>05:34:33</td>\n",
              "      <td>rachan@ca.ibm.com</td>\n",
              "      <td>02</td>\n",
              "      <td>07</td>\n",
              "      <td>2019</td>\n",
              "      <td>rachan</td>\n",
              "      <td>ca.ibm.com</td>\n",
              "      <td>ca</td>\n",
              "      <td>ibm</td>\n",
              "      <td>com</td>\n",
              "      <td>Canada</td>\n",
              "    </tr>\n",
              "    <tr>\n",
              "      <th>6</th>\n",
              "      <td>02-07-2019</td>\n",
              "      <td>05:37:15</td>\n",
              "      <td>thor@us.ibm.com</td>\n",
              "      <td>02</td>\n",
              "      <td>07</td>\n",
              "      <td>2019</td>\n",
              "      <td>thor</td>\n",
              "      <td>us.ibm.com</td>\n",
              "      <td>us</td>\n",
              "      <td>ibm</td>\n",
              "      <td>com</td>\n",
              "      <td>America</td>\n",
              "    </tr>\n",
              "    <tr>\n",
              "      <th>7</th>\n",
              "      <td>02-07-2019</td>\n",
              "      <td>05:37:33</td>\n",
              "      <td>nganacha@in.ibm.com</td>\n",
              "      <td>02</td>\n",
              "      <td>07</td>\n",
              "      <td>2019</td>\n",
              "      <td>nganacha</td>\n",
              "      <td>in.ibm.com</td>\n",
              "      <td>in</td>\n",
              "      <td>ibm</td>\n",
              "      <td>com</td>\n",
              "      <td>India</td>\n",
              "    </tr>\n",
              "    <tr>\n",
              "      <th>8</th>\n",
              "      <td>02-07-2019</td>\n",
              "      <td>05:40:08</td>\n",
              "      <td>appar@ca.ibm.com</td>\n",
              "      <td>02</td>\n",
              "      <td>07</td>\n",
              "      <td>2019</td>\n",
              "      <td>appar</td>\n",
              "      <td>ca.ibm.com</td>\n",
              "      <td>ca</td>\n",
              "      <td>ibm</td>\n",
              "      <td>com</td>\n",
              "      <td>Canada</td>\n",
              "    </tr>\n",
              "    <tr>\n",
              "      <th>9</th>\n",
              "      <td>02-07-2019</td>\n",
              "      <td>05:42:19</td>\n",
              "      <td>avinash.chandra@in.ibm.com</td>\n",
              "      <td>02</td>\n",
              "      <td>07</td>\n",
              "      <td>2019</td>\n",
              "      <td>avinash.chandra</td>\n",
              "      <td>in.ibm.com</td>\n",
              "      <td>in</td>\n",
              "      <td>ibm</td>\n",
              "      <td>com</td>\n",
              "      <td>India</td>\n",
              "    </tr>\n",
              "    <tr>\n",
              "      <th>10</th>\n",
              "      <td>02-07-2019</td>\n",
              "      <td>05:42:49</td>\n",
              "      <td>anudchan@in.ibm.com</td>\n",
              "      <td>02</td>\n",
              "      <td>07</td>\n",
              "      <td>2019</td>\n",
              "      <td>anudchan</td>\n",
              "      <td>in.ibm.com</td>\n",
              "      <td>in</td>\n",
              "      <td>ibm</td>\n",
              "      <td>com</td>\n",
              "      <td>India</td>\n",
              "    </tr>\n",
              "    <tr>\n",
              "      <th>11</th>\n",
              "      <td>02-07-2019</td>\n",
              "      <td>05:47:14</td>\n",
              "      <td>chig@cn.ibm.com</td>\n",
              "      <td>02</td>\n",
              "      <td>07</td>\n",
              "      <td>2019</td>\n",
              "      <td>chig</td>\n",
              "      <td>cn.ibm.com</td>\n",
              "      <td>cn</td>\n",
              "      <td>ibm</td>\n",
              "      <td>com</td>\n",
              "      <td>China</td>\n",
              "    </tr>\n",
              "    <tr>\n",
              "      <th>12</th>\n",
              "      <td>02-07-2019</td>\n",
              "      <td>05:48:24</td>\n",
              "      <td>kumarr03@jp.ibm.com</td>\n",
              "      <td>02</td>\n",
              "      <td>07</td>\n",
              "      <td>2019</td>\n",
              "      <td>kumarr03</td>\n",
              "      <td>jp.ibm.com</td>\n",
              "      <td>jp</td>\n",
              "      <td>ibm</td>\n",
              "      <td>com</td>\n",
              "      <td>Japan</td>\n",
              "    </tr>\n",
              "    <tr>\n",
              "      <th>13</th>\n",
              "      <td>02-07-2019</td>\n",
              "      <td>06:03:36</td>\n",
              "      <td>nganacha@in.ibm.com</td>\n",
              "      <td>02</td>\n",
              "      <td>07</td>\n",
              "      <td>2019</td>\n",
              "      <td>nganacha</td>\n",
              "      <td>in.ibm.com</td>\n",
              "      <td>in</td>\n",
              "      <td>ibm</td>\n",
              "      <td>com</td>\n",
              "      <td>India</td>\n",
              "    </tr>\n",
              "    <tr>\n",
              "      <th>14</th>\n",
              "      <td>02-07-2019</td>\n",
              "      <td>06:08:23</td>\n",
              "      <td>avinash.chandra@in.ibm.com</td>\n",
              "      <td>02</td>\n",
              "      <td>07</td>\n",
              "      <td>2019</td>\n",
              "      <td>avinash.chandra</td>\n",
              "      <td>in.ibm.com</td>\n",
              "      <td>in</td>\n",
              "      <td>ibm</td>\n",
              "      <td>com</td>\n",
              "      <td>India</td>\n",
              "    </tr>\n",
              "    <tr>\n",
              "      <th>15</th>\n",
              "      <td>02-07-2019</td>\n",
              "      <td>06:13:03</td>\n",
              "      <td>kumarr03@jp.ibm.com</td>\n",
              "      <td>02</td>\n",
              "      <td>07</td>\n",
              "      <td>2019</td>\n",
              "      <td>kumarr03</td>\n",
              "      <td>jp.ibm.com</td>\n",
              "      <td>jp</td>\n",
              "      <td>ibm</td>\n",
              "      <td>com</td>\n",
              "      <td>Japan</td>\n",
              "    </tr>\n",
              "    <tr>\n",
              "      <th>16</th>\n",
              "      <td>02-07-2019</td>\n",
              "      <td>06:14:29</td>\n",
              "      <td>avinash.chandra@in.ibm.com</td>\n",
              "      <td>02</td>\n",
              "      <td>07</td>\n",
              "      <td>2019</td>\n",
              "      <td>avinash.chandra</td>\n",
              "      <td>in.ibm.com</td>\n",
              "      <td>in</td>\n",
              "      <td>ibm</td>\n",
              "      <td>com</td>\n",
              "      <td>India</td>\n",
              "    </tr>\n",
              "    <tr>\n",
              "      <th>17</th>\n",
              "      <td>02-07-2019</td>\n",
              "      <td>06:16:32</td>\n",
              "      <td>nganacha@in.ibm.com</td>\n",
              "      <td>02</td>\n",
              "      <td>07</td>\n",
              "      <td>2019</td>\n",
              "      <td>nganacha</td>\n",
              "      <td>in.ibm.com</td>\n",
              "      <td>in</td>\n",
              "      <td>ibm</td>\n",
              "      <td>com</td>\n",
              "      <td>India</td>\n",
              "    </tr>\n",
              "    <tr>\n",
              "      <th>18</th>\n",
              "      <td>02-07-2019</td>\n",
              "      <td>06:20:42</td>\n",
              "      <td>nganacha@in.ibm.com</td>\n",
              "      <td>02</td>\n",
              "      <td>07</td>\n",
              "      <td>2019</td>\n",
              "      <td>nganacha</td>\n",
              "      <td>in.ibm.com</td>\n",
              "      <td>in</td>\n",
              "      <td>ibm</td>\n",
              "      <td>com</td>\n",
              "      <td>India</td>\n",
              "    </tr>\n",
              "    <tr>\n",
              "      <th>19</th>\n",
              "      <td>03-07-2019</td>\n",
              "      <td>05:37:15</td>\n",
              "      <td>nganacha@in.ibm.com</td>\n",
              "      <td>03</td>\n",
              "      <td>07</td>\n",
              "      <td>2019</td>\n",
              "      <td>nganacha</td>\n",
              "      <td>in.ibm.com</td>\n",
              "      <td>in</td>\n",
              "      <td>ibm</td>\n",
              "      <td>com</td>\n",
              "      <td>India</td>\n",
              "    </tr>\n",
              "    <tr>\n",
              "      <th>20</th>\n",
              "      <td>03-07-2019</td>\n",
              "      <td>05:37:33</td>\n",
              "      <td>nganacha@in.ibm.com</td>\n",
              "      <td>03</td>\n",
              "      <td>07</td>\n",
              "      <td>2019</td>\n",
              "      <td>nganacha</td>\n",
              "      <td>in.ibm.com</td>\n",
              "      <td>in</td>\n",
              "      <td>ibm</td>\n",
              "      <td>com</td>\n",
              "      <td>India</td>\n",
              "    </tr>\n",
              "    <tr>\n",
              "      <th>21</th>\n",
              "      <td>03-07-2019</td>\n",
              "      <td>05:38:11</td>\n",
              "      <td>avinash.chandra@in.ibm.com</td>\n",
              "      <td>03</td>\n",
              "      <td>07</td>\n",
              "      <td>2019</td>\n",
              "      <td>avinash.chandra</td>\n",
              "      <td>in.ibm.com</td>\n",
              "      <td>in</td>\n",
              "      <td>ibm</td>\n",
              "      <td>com</td>\n",
              "      <td>India</td>\n",
              "    </tr>\n",
              "    <tr>\n",
              "      <th>22</th>\n",
              "      <td>03-07-2019</td>\n",
              "      <td>05:39:58</td>\n",
              "      <td>nganacha@in.ibm.com</td>\n",
              "      <td>03</td>\n",
              "      <td>07</td>\n",
              "      <td>2019</td>\n",
              "      <td>nganacha</td>\n",
              "      <td>in.ibm.com</td>\n",
              "      <td>in</td>\n",
              "      <td>ibm</td>\n",
              "      <td>com</td>\n",
              "      <td>India</td>\n",
              "    </tr>\n",
              "    <tr>\n",
              "      <th>23</th>\n",
              "      <td>03-07-2019</td>\n",
              "      <td>05:34:33</td>\n",
              "      <td>rachan@ca.ibm.com</td>\n",
              "      <td>03</td>\n",
              "      <td>07</td>\n",
              "      <td>2019</td>\n",
              "      <td>rachan</td>\n",
              "      <td>ca.ibm.com</td>\n",
              "      <td>ca</td>\n",
              "      <td>ibm</td>\n",
              "      <td>com</td>\n",
              "      <td>Canada</td>\n",
              "    </tr>\n",
              "    <tr>\n",
              "      <th>24</th>\n",
              "      <td>03-07-2019</td>\n",
              "      <td>05:37:15</td>\n",
              "      <td>thor@us.ibm.com</td>\n",
              "      <td>03</td>\n",
              "      <td>07</td>\n",
              "      <td>2019</td>\n",
              "      <td>thor</td>\n",
              "      <td>us.ibm.com</td>\n",
              "      <td>us</td>\n",
              "      <td>ibm</td>\n",
              "      <td>com</td>\n",
              "      <td>America</td>\n",
              "    </tr>\n",
              "    <tr>\n",
              "      <th>25</th>\n",
              "      <td>03-07-2019</td>\n",
              "      <td>05:37:33</td>\n",
              "      <td>nganacha@in.ibm.com</td>\n",
              "      <td>03</td>\n",
              "      <td>07</td>\n",
              "      <td>2019</td>\n",
              "      <td>nganacha</td>\n",
              "      <td>in.ibm.com</td>\n",
              "      <td>in</td>\n",
              "      <td>ibm</td>\n",
              "      <td>com</td>\n",
              "      <td>India</td>\n",
              "    </tr>\n",
              "    <tr>\n",
              "      <th>26</th>\n",
              "      <td>03-07-2019</td>\n",
              "      <td>05:40:08</td>\n",
              "      <td>appar@ca.ibm.com</td>\n",
              "      <td>03</td>\n",
              "      <td>07</td>\n",
              "      <td>2019</td>\n",
              "      <td>appar</td>\n",
              "      <td>ca.ibm.com</td>\n",
              "      <td>ca</td>\n",
              "      <td>ibm</td>\n",
              "      <td>com</td>\n",
              "      <td>Canada</td>\n",
              "    </tr>\n",
              "    <tr>\n",
              "      <th>27</th>\n",
              "      <td>03-07-2019</td>\n",
              "      <td>05:42:19</td>\n",
              "      <td>avinash.chandra@in.ibm.com</td>\n",
              "      <td>03</td>\n",
              "      <td>07</td>\n",
              "      <td>2019</td>\n",
              "      <td>avinash.chandra</td>\n",
              "      <td>in.ibm.com</td>\n",
              "      <td>in</td>\n",
              "      <td>ibm</td>\n",
              "      <td>com</td>\n",
              "      <td>India</td>\n",
              "    </tr>\n",
              "    <tr>\n",
              "      <th>28</th>\n",
              "      <td>03-07-2019</td>\n",
              "      <td>05:42:49</td>\n",
              "      <td>anudchan@in.ibm.com</td>\n",
              "      <td>03</td>\n",
              "      <td>07</td>\n",
              "      <td>2019</td>\n",
              "      <td>anudchan</td>\n",
              "      <td>in.ibm.com</td>\n",
              "      <td>in</td>\n",
              "      <td>ibm</td>\n",
              "      <td>com</td>\n",
              "      <td>India</td>\n",
              "    </tr>\n",
              "    <tr>\n",
              "      <th>29</th>\n",
              "      <td>03-07-2019</td>\n",
              "      <td>05:47:14</td>\n",
              "      <td>chig@cn.ibm.com</td>\n",
              "      <td>03</td>\n",
              "      <td>07</td>\n",
              "      <td>2019</td>\n",
              "      <td>chig</td>\n",
              "      <td>cn.ibm.com</td>\n",
              "      <td>cn</td>\n",
              "      <td>ibm</td>\n",
              "      <td>com</td>\n",
              "      <td>China</td>\n",
              "    </tr>\n",
              "    <tr>\n",
              "      <th>30</th>\n",
              "      <td>04-07-2019</td>\n",
              "      <td>05:42:19</td>\n",
              "      <td>avinash.chandra@in.ibm.com</td>\n",
              "      <td>04</td>\n",
              "      <td>07</td>\n",
              "      <td>2019</td>\n",
              "      <td>avinash.chandra</td>\n",
              "      <td>in.ibm.com</td>\n",
              "      <td>in</td>\n",
              "      <td>ibm</td>\n",
              "      <td>com</td>\n",
              "      <td>India</td>\n",
              "    </tr>\n",
              "    <tr>\n",
              "      <th>31</th>\n",
              "      <td>04-07-2019</td>\n",
              "      <td>05:42:49</td>\n",
              "      <td>anudchan@in.ibm.com</td>\n",
              "      <td>04</td>\n",
              "      <td>07</td>\n",
              "      <td>2019</td>\n",
              "      <td>anudchan</td>\n",
              "      <td>in.ibm.com</td>\n",
              "      <td>in</td>\n",
              "      <td>ibm</td>\n",
              "      <td>com</td>\n",
              "      <td>India</td>\n",
              "    </tr>\n",
              "    <tr>\n",
              "      <th>32</th>\n",
              "      <td>04-07-2019</td>\n",
              "      <td>05:47:14</td>\n",
              "      <td>kumarr03@jp.ibm.com</td>\n",
              "      <td>04</td>\n",
              "      <td>07</td>\n",
              "      <td>2019</td>\n",
              "      <td>kumarr03</td>\n",
              "      <td>jp.ibm.com</td>\n",
              "      <td>jp</td>\n",
              "      <td>ibm</td>\n",
              "      <td>com</td>\n",
              "      <td>Japan</td>\n",
              "    </tr>\n",
              "    <tr>\n",
              "      <th>33</th>\n",
              "      <td>04-07-2019</td>\n",
              "      <td>05:48:24</td>\n",
              "      <td>kumarr03@jp.ibm.com</td>\n",
              "      <td>04</td>\n",
              "      <td>07</td>\n",
              "      <td>2019</td>\n",
              "      <td>kumarr03</td>\n",
              "      <td>jp.ibm.com</td>\n",
              "      <td>jp</td>\n",
              "      <td>ibm</td>\n",
              "      <td>com</td>\n",
              "      <td>Japan</td>\n",
              "    </tr>\n",
              "    <tr>\n",
              "      <th>34</th>\n",
              "      <td>04-07-2019</td>\n",
              "      <td>06:03:36</td>\n",
              "      <td>nganacha@in.ibm.com</td>\n",
              "      <td>04</td>\n",
              "      <td>07</td>\n",
              "      <td>2019</td>\n",
              "      <td>nganacha</td>\n",
              "      <td>in.ibm.com</td>\n",
              "      <td>in</td>\n",
              "      <td>ibm</td>\n",
              "      <td>com</td>\n",
              "      <td>India</td>\n",
              "    </tr>\n",
              "    <tr>\n",
              "      <th>35</th>\n",
              "      <td>04-07-2019</td>\n",
              "      <td>06:08:23</td>\n",
              "      <td>avinash.chandra@in.ibm.com</td>\n",
              "      <td>04</td>\n",
              "      <td>07</td>\n",
              "      <td>2019</td>\n",
              "      <td>avinash.chandra</td>\n",
              "      <td>in.ibm.com</td>\n",
              "      <td>in</td>\n",
              "      <td>ibm</td>\n",
              "      <td>com</td>\n",
              "      <td>India</td>\n",
              "    </tr>\n",
              "    <tr>\n",
              "      <th>36</th>\n",
              "      <td>05-07-2019</td>\n",
              "      <td>05:42:19</td>\n",
              "      <td>chigch@cn.ibm.com</td>\n",
              "      <td>05</td>\n",
              "      <td>07</td>\n",
              "      <td>2019</td>\n",
              "      <td>chigch</td>\n",
              "      <td>cn.ibm.com</td>\n",
              "      <td>cn</td>\n",
              "      <td>ibm</td>\n",
              "      <td>com</td>\n",
              "      <td>China</td>\n",
              "    </tr>\n",
              "    <tr>\n",
              "      <th>37</th>\n",
              "      <td>05-07-2019</td>\n",
              "      <td>05:42:49</td>\n",
              "      <td>forct@ca.ibm.com</td>\n",
              "      <td>05</td>\n",
              "      <td>07</td>\n",
              "      <td>2019</td>\n",
              "      <td>forct</td>\n",
              "      <td>ca.ibm.com</td>\n",
              "      <td>ca</td>\n",
              "      <td>ibm</td>\n",
              "      <td>com</td>\n",
              "      <td>Canada</td>\n",
              "    </tr>\n",
              "    <tr>\n",
              "      <th>38</th>\n",
              "      <td>05-07-2019</td>\n",
              "      <td>05:47:14</td>\n",
              "      <td>hitler@jp.ibm.com</td>\n",
              "      <td>05</td>\n",
              "      <td>07</td>\n",
              "      <td>2019</td>\n",
              "      <td>hitler</td>\n",
              "      <td>jp.ibm.com</td>\n",
              "      <td>jp</td>\n",
              "      <td>ibm</td>\n",
              "      <td>com</td>\n",
              "      <td>Japan</td>\n",
              "    </tr>\n",
              "    <tr>\n",
              "      <th>39</th>\n",
              "      <td>05-07-2019</td>\n",
              "      <td>05:48:24</td>\n",
              "      <td>samkri@us.ibm.com</td>\n",
              "      <td>05</td>\n",
              "      <td>07</td>\n",
              "      <td>2019</td>\n",
              "      <td>samkri</td>\n",
              "      <td>us.ibm.com</td>\n",
              "      <td>us</td>\n",
              "      <td>ibm</td>\n",
              "      <td>com</td>\n",
              "      <td>America</td>\n",
              "    </tr>\n",
              "    <tr>\n",
              "      <th>40</th>\n",
              "      <td>05-07-2019</td>\n",
              "      <td>06:03:36</td>\n",
              "      <td>nganacha@in.ibm.com</td>\n",
              "      <td>05</td>\n",
              "      <td>07</td>\n",
              "      <td>2019</td>\n",
              "      <td>nganacha</td>\n",
              "      <td>in.ibm.com</td>\n",
              "      <td>in</td>\n",
              "      <td>ibm</td>\n",
              "      <td>com</td>\n",
              "      <td>India</td>\n",
              "    </tr>\n",
              "    <tr>\n",
              "      <th>41</th>\n",
              "      <td>05-07-2019</td>\n",
              "      <td>06:08:23</td>\n",
              "      <td>avinash.chandra@in.ibm.com</td>\n",
              "      <td>05</td>\n",
              "      <td>07</td>\n",
              "      <td>2019</td>\n",
              "      <td>avinash.chandra</td>\n",
              "      <td>in.ibm.com</td>\n",
              "      <td>in</td>\n",
              "      <td>ibm</td>\n",
              "      <td>com</td>\n",
              "      <td>India</td>\n",
              "    </tr>\n",
              "  </tbody>\n",
              "</table>\n",
              "</div>"
            ],
            "text/plain": [
              "          Date      Time                     Emailid  ...  ibm  com   CntyNm\n",
              "0   02-07-2019  05:18:43  avinash.chandra@in.ibm.com  ...  ibm  com    India\n",
              "1   02-07-2019  05:33:54  avinash.chandra@in.ibm.com  ...  ibm  com    India\n",
              "2   02-07-2019  05:34:33  avinash.chandra@in.ibm.com  ...  ibm  com    India\n",
              "3   02-07-2019  05:37:15         nganacha@in.ibm.com  ...  ibm  com    India\n",
              "4   02-07-2019  05:37:33         nganacha@in.ibm.com  ...  ibm  com    India\n",
              "5   02-07-2019  05:34:33           rachan@ca.ibm.com  ...  ibm  com   Canada\n",
              "6   02-07-2019  05:37:15             thor@us.ibm.com  ...  ibm  com  America\n",
              "7   02-07-2019  05:37:33         nganacha@in.ibm.com  ...  ibm  com    India\n",
              "8   02-07-2019  05:40:08            appar@ca.ibm.com  ...  ibm  com   Canada\n",
              "9   02-07-2019  05:42:19  avinash.chandra@in.ibm.com  ...  ibm  com    India\n",
              "10  02-07-2019  05:42:49         anudchan@in.ibm.com  ...  ibm  com    India\n",
              "11  02-07-2019  05:47:14             chig@cn.ibm.com  ...  ibm  com    China\n",
              "12  02-07-2019  05:48:24         kumarr03@jp.ibm.com  ...  ibm  com    Japan\n",
              "13  02-07-2019  06:03:36         nganacha@in.ibm.com  ...  ibm  com    India\n",
              "14  02-07-2019  06:08:23  avinash.chandra@in.ibm.com  ...  ibm  com    India\n",
              "15  02-07-2019  06:13:03         kumarr03@jp.ibm.com  ...  ibm  com    Japan\n",
              "16  02-07-2019  06:14:29  avinash.chandra@in.ibm.com  ...  ibm  com    India\n",
              "17  02-07-2019  06:16:32         nganacha@in.ibm.com  ...  ibm  com    India\n",
              "18  02-07-2019  06:20:42         nganacha@in.ibm.com  ...  ibm  com    India\n",
              "19  03-07-2019  05:37:15         nganacha@in.ibm.com  ...  ibm  com    India\n",
              "20  03-07-2019  05:37:33         nganacha@in.ibm.com  ...  ibm  com    India\n",
              "21  03-07-2019  05:38:11  avinash.chandra@in.ibm.com  ...  ibm  com    India\n",
              "22  03-07-2019  05:39:58         nganacha@in.ibm.com  ...  ibm  com    India\n",
              "23  03-07-2019  05:34:33           rachan@ca.ibm.com  ...  ibm  com   Canada\n",
              "24  03-07-2019  05:37:15             thor@us.ibm.com  ...  ibm  com  America\n",
              "25  03-07-2019  05:37:33         nganacha@in.ibm.com  ...  ibm  com    India\n",
              "26  03-07-2019  05:40:08            appar@ca.ibm.com  ...  ibm  com   Canada\n",
              "27  03-07-2019  05:42:19  avinash.chandra@in.ibm.com  ...  ibm  com    India\n",
              "28  03-07-2019  05:42:49         anudchan@in.ibm.com  ...  ibm  com    India\n",
              "29  03-07-2019  05:47:14             chig@cn.ibm.com  ...  ibm  com    China\n",
              "30  04-07-2019  05:42:19  avinash.chandra@in.ibm.com  ...  ibm  com    India\n",
              "31  04-07-2019  05:42:49         anudchan@in.ibm.com  ...  ibm  com    India\n",
              "32  04-07-2019  05:47:14         kumarr03@jp.ibm.com  ...  ibm  com    Japan\n",
              "33  04-07-2019  05:48:24         kumarr03@jp.ibm.com  ...  ibm  com    Japan\n",
              "34  04-07-2019  06:03:36         nganacha@in.ibm.com  ...  ibm  com    India\n",
              "35  04-07-2019  06:08:23  avinash.chandra@in.ibm.com  ...  ibm  com    India\n",
              "36  05-07-2019  05:42:19           chigch@cn.ibm.com  ...  ibm  com    China\n",
              "37  05-07-2019  05:42:49            forct@ca.ibm.com  ...  ibm  com   Canada\n",
              "38  05-07-2019  05:47:14           hitler@jp.ibm.com  ...  ibm  com    Japan\n",
              "39  05-07-2019  05:48:24           samkri@us.ibm.com  ...  ibm  com  America\n",
              "40  05-07-2019  06:03:36         nganacha@in.ibm.com  ...  ibm  com    India\n",
              "41  05-07-2019  06:08:23  avinash.chandra@in.ibm.com  ...  ibm  com    India\n",
              "\n",
              "[42 rows x 12 columns]"
            ]
          },
          "metadata": {
            "tags": []
          },
          "execution_count": 268
        }
      ]
    },
    {
      "cell_type": "markdown",
      "metadata": {
        "id": "OYUsrE0ohzv0",
        "colab_type": "text"
      },
      "source": [
        "## 3.4 Verify columns"
      ]
    },
    {
      "cell_type": "code",
      "metadata": {
        "id": "BFEOGG3n9JF5",
        "colab_type": "code",
        "outputId": "463de04c-f55d-4f66-fd8b-0f52cb20b377",
        "colab": {
          "base_uri": "https://localhost:8080/",
          "height": 0
        }
      },
      "source": [
        "df.columns"
      ],
      "execution_count": 269,
      "outputs": [
        {
          "output_type": "execute_result",
          "data": {
            "text/plain": [
              "Index(['Date', 'Time', 'Emailid', 'Day', 'Month', 'Year', 'Name', 'EmailTag',\n",
              "       'Country', 'ibm', 'com', 'CntyNm'],\n",
              "      dtype='object')"
            ]
          },
          "metadata": {
            "tags": []
          },
          "execution_count": 269
        }
      ]
    },
    {
      "cell_type": "markdown",
      "metadata": {
        "id": "qAl_9nw0h3yJ",
        "colab_type": "text"
      },
      "source": [
        "## 3.5 Verify shape of the Dataframe"
      ]
    },
    {
      "cell_type": "code",
      "metadata": {
        "id": "vo-f0xOS06uK",
        "colab_type": "code",
        "outputId": "06df92d0-a596-4d7e-a52b-919682b3ba0a",
        "colab": {
          "base_uri": "https://localhost:8080/",
          "height": 0
        }
      },
      "source": [
        "df.shape"
      ],
      "execution_count": 270,
      "outputs": [
        {
          "output_type": "execute_result",
          "data": {
            "text/plain": [
              "(42, 12)"
            ]
          },
          "metadata": {
            "tags": []
          },
          "execution_count": 270
        }
      ]
    },
    {
      "cell_type": "markdown",
      "metadata": {
        "id": "jz1eLp-Bh7xb",
        "colab_type": "text"
      },
      "source": [
        "## 3.6 Verify information of the dataframe"
      ]
    },
    {
      "cell_type": "code",
      "metadata": {
        "id": "0Vgcqpob1ymi",
        "colab_type": "code",
        "outputId": "dbbd430e-363d-41fb-b555-3ad3a6a9adf8",
        "colab": {
          "base_uri": "https://localhost:8080/",
          "height": 0
        }
      },
      "source": [
        "df.info()"
      ],
      "execution_count": 271,
      "outputs": [
        {
          "output_type": "stream",
          "text": [
            "<class 'pandas.core.frame.DataFrame'>\n",
            "RangeIndex: 42 entries, 0 to 41\n",
            "Data columns (total 12 columns):\n",
            "Date        42 non-null object\n",
            "Time        42 non-null object\n",
            "Emailid     42 non-null object\n",
            "Day         42 non-null object\n",
            "Month       42 non-null object\n",
            "Year        42 non-null object\n",
            "Name        42 non-null object\n",
            "EmailTag    42 non-null object\n",
            "Country     42 non-null object\n",
            "ibm         42 non-null object\n",
            "com         42 non-null object\n",
            "CntyNm      42 non-null object\n",
            "dtypes: object(12)\n",
            "memory usage: 4.0+ KB\n"
          ],
          "name": "stdout"
        }
      ]
    },
    {
      "cell_type": "markdown",
      "metadata": {
        "id": "XjstC1WciBOh",
        "colab_type": "text"
      },
      "source": [
        "## 3.7 Convert data type of the date format"
      ]
    },
    {
      "cell_type": "code",
      "metadata": {
        "id": "HfgagigpEzFI",
        "colab_type": "code",
        "colab": {}
      },
      "source": [
        "df[\"Date\"]=df[\"Date\"].astype(\"datetime64\")"
      ],
      "execution_count": 0,
      "outputs": []
    },
    {
      "cell_type": "markdown",
      "metadata": {
        "id": "RyBfHQBmiJh0",
        "colab_type": "text"
      },
      "source": [
        "## 3.8 Verify information of the dataframe"
      ]
    },
    {
      "cell_type": "code",
      "metadata": {
        "id": "c1jAVrZxE61d",
        "colab_type": "code",
        "outputId": "788ac9a9-673a-4076-f477-d9035fe09dbf",
        "colab": {
          "base_uri": "https://localhost:8080/",
          "height": 0
        }
      },
      "source": [
        "df.info()"
      ],
      "execution_count": 273,
      "outputs": [
        {
          "output_type": "stream",
          "text": [
            "<class 'pandas.core.frame.DataFrame'>\n",
            "RangeIndex: 42 entries, 0 to 41\n",
            "Data columns (total 12 columns):\n",
            "Date        42 non-null datetime64[ns]\n",
            "Time        42 non-null object\n",
            "Emailid     42 non-null object\n",
            "Day         42 non-null object\n",
            "Month       42 non-null object\n",
            "Year        42 non-null object\n",
            "Name        42 non-null object\n",
            "EmailTag    42 non-null object\n",
            "Country     42 non-null object\n",
            "ibm         42 non-null object\n",
            "com         42 non-null object\n",
            "CntyNm      42 non-null object\n",
            "dtypes: datetime64[ns](1), object(11)\n",
            "memory usage: 4.0+ KB\n"
          ],
          "name": "stdout"
        }
      ]
    },
    {
      "cell_type": "code",
      "metadata": {
        "id": "ZH3ZvygKFrKJ",
        "colab_type": "code",
        "outputId": "dd67dead-316e-47d3-ab63-2ac937db31f8",
        "colab": {
          "base_uri": "https://localhost:8080/",
          "height": 0
        }
      },
      "source": [
        "df.head(5)"
      ],
      "execution_count": 274,
      "outputs": [
        {
          "output_type": "execute_result",
          "data": {
            "text/html": [
              "<div>\n",
              "<style scoped>\n",
              "    .dataframe tbody tr th:only-of-type {\n",
              "        vertical-align: middle;\n",
              "    }\n",
              "\n",
              "    .dataframe tbody tr th {\n",
              "        vertical-align: top;\n",
              "    }\n",
              "\n",
              "    .dataframe thead th {\n",
              "        text-align: right;\n",
              "    }\n",
              "</style>\n",
              "<table border=\"1\" class=\"dataframe\">\n",
              "  <thead>\n",
              "    <tr style=\"text-align: right;\">\n",
              "      <th></th>\n",
              "      <th>Date</th>\n",
              "      <th>Time</th>\n",
              "      <th>Emailid</th>\n",
              "      <th>Day</th>\n",
              "      <th>Month</th>\n",
              "      <th>Year</th>\n",
              "      <th>Name</th>\n",
              "      <th>EmailTag</th>\n",
              "      <th>Country</th>\n",
              "      <th>ibm</th>\n",
              "      <th>com</th>\n",
              "      <th>CntyNm</th>\n",
              "    </tr>\n",
              "  </thead>\n",
              "  <tbody>\n",
              "    <tr>\n",
              "      <th>0</th>\n",
              "      <td>2019-02-07</td>\n",
              "      <td>05:18:43</td>\n",
              "      <td>avinash.chandra@in.ibm.com</td>\n",
              "      <td>02</td>\n",
              "      <td>07</td>\n",
              "      <td>2019</td>\n",
              "      <td>avinash.chandra</td>\n",
              "      <td>in.ibm.com</td>\n",
              "      <td>in</td>\n",
              "      <td>ibm</td>\n",
              "      <td>com</td>\n",
              "      <td>India</td>\n",
              "    </tr>\n",
              "    <tr>\n",
              "      <th>1</th>\n",
              "      <td>2019-02-07</td>\n",
              "      <td>05:33:54</td>\n",
              "      <td>avinash.chandra@in.ibm.com</td>\n",
              "      <td>02</td>\n",
              "      <td>07</td>\n",
              "      <td>2019</td>\n",
              "      <td>avinash.chandra</td>\n",
              "      <td>in.ibm.com</td>\n",
              "      <td>in</td>\n",
              "      <td>ibm</td>\n",
              "      <td>com</td>\n",
              "      <td>India</td>\n",
              "    </tr>\n",
              "    <tr>\n",
              "      <th>2</th>\n",
              "      <td>2019-02-07</td>\n",
              "      <td>05:34:33</td>\n",
              "      <td>avinash.chandra@in.ibm.com</td>\n",
              "      <td>02</td>\n",
              "      <td>07</td>\n",
              "      <td>2019</td>\n",
              "      <td>avinash.chandra</td>\n",
              "      <td>in.ibm.com</td>\n",
              "      <td>in</td>\n",
              "      <td>ibm</td>\n",
              "      <td>com</td>\n",
              "      <td>India</td>\n",
              "    </tr>\n",
              "    <tr>\n",
              "      <th>3</th>\n",
              "      <td>2019-02-07</td>\n",
              "      <td>05:37:15</td>\n",
              "      <td>nganacha@in.ibm.com</td>\n",
              "      <td>02</td>\n",
              "      <td>07</td>\n",
              "      <td>2019</td>\n",
              "      <td>nganacha</td>\n",
              "      <td>in.ibm.com</td>\n",
              "      <td>in</td>\n",
              "      <td>ibm</td>\n",
              "      <td>com</td>\n",
              "      <td>India</td>\n",
              "    </tr>\n",
              "    <tr>\n",
              "      <th>4</th>\n",
              "      <td>2019-02-07</td>\n",
              "      <td>05:37:33</td>\n",
              "      <td>nganacha@in.ibm.com</td>\n",
              "      <td>02</td>\n",
              "      <td>07</td>\n",
              "      <td>2019</td>\n",
              "      <td>nganacha</td>\n",
              "      <td>in.ibm.com</td>\n",
              "      <td>in</td>\n",
              "      <td>ibm</td>\n",
              "      <td>com</td>\n",
              "      <td>India</td>\n",
              "    </tr>\n",
              "  </tbody>\n",
              "</table>\n",
              "</div>"
            ],
            "text/plain": [
              "        Date      Time                     Emailid Day  ... Country  ibm  com CntyNm\n",
              "0 2019-02-07  05:18:43  avinash.chandra@in.ibm.com  02  ...      in  ibm  com  India\n",
              "1 2019-02-07  05:33:54  avinash.chandra@in.ibm.com  02  ...      in  ibm  com  India\n",
              "2 2019-02-07  05:34:33  avinash.chandra@in.ibm.com  02  ...      in  ibm  com  India\n",
              "3 2019-02-07  05:37:15         nganacha@in.ibm.com  02  ...      in  ibm  com  India\n",
              "4 2019-02-07  05:37:33         nganacha@in.ibm.com  02  ...      in  ibm  com  India\n",
              "\n",
              "[5 rows x 12 columns]"
            ]
          },
          "metadata": {
            "tags": []
          },
          "execution_count": 274
        }
      ]
    },
    {
      "cell_type": "markdown",
      "metadata": {
        "id": "RN39bFhJiPov",
        "colab_type": "text"
      },
      "source": [
        "## 3.9 Verify description of the dataframe"
      ]
    },
    {
      "cell_type": "code",
      "metadata": {
        "id": "DOSa1GXj8bPZ",
        "colab_type": "code",
        "outputId": "187aacca-ecd2-42a1-d9f7-281ce27fc721",
        "colab": {
          "base_uri": "https://localhost:8080/",
          "height": 0
        }
      },
      "source": [
        "df.describe()"
      ],
      "execution_count": 275,
      "outputs": [
        {
          "output_type": "execute_result",
          "data": {
            "text/html": [
              "<div>\n",
              "<style scoped>\n",
              "    .dataframe tbody tr th:only-of-type {\n",
              "        vertical-align: middle;\n",
              "    }\n",
              "\n",
              "    .dataframe tbody tr th {\n",
              "        vertical-align: top;\n",
              "    }\n",
              "\n",
              "    .dataframe thead th {\n",
              "        text-align: right;\n",
              "    }\n",
              "</style>\n",
              "<table border=\"1\" class=\"dataframe\">\n",
              "  <thead>\n",
              "    <tr style=\"text-align: right;\">\n",
              "      <th></th>\n",
              "      <th>Date</th>\n",
              "      <th>Time</th>\n",
              "      <th>Emailid</th>\n",
              "      <th>Day</th>\n",
              "      <th>Month</th>\n",
              "      <th>Year</th>\n",
              "      <th>Name</th>\n",
              "      <th>EmailTag</th>\n",
              "      <th>Country</th>\n",
              "      <th>ibm</th>\n",
              "      <th>com</th>\n",
              "      <th>CntyNm</th>\n",
              "    </tr>\n",
              "  </thead>\n",
              "  <tbody>\n",
              "    <tr>\n",
              "      <th>count</th>\n",
              "      <td>42</td>\n",
              "      <td>42</td>\n",
              "      <td>42</td>\n",
              "      <td>42</td>\n",
              "      <td>42</td>\n",
              "      <td>42</td>\n",
              "      <td>42</td>\n",
              "      <td>42</td>\n",
              "      <td>42</td>\n",
              "      <td>42</td>\n",
              "      <td>42</td>\n",
              "      <td>42</td>\n",
              "    </tr>\n",
              "    <tr>\n",
              "      <th>unique</th>\n",
              "      <td>4</td>\n",
              "      <td>18</td>\n",
              "      <td>12</td>\n",
              "      <td>4</td>\n",
              "      <td>1</td>\n",
              "      <td>1</td>\n",
              "      <td>12</td>\n",
              "      <td>5</td>\n",
              "      <td>5</td>\n",
              "      <td>1</td>\n",
              "      <td>1</td>\n",
              "      <td>5</td>\n",
              "    </tr>\n",
              "    <tr>\n",
              "      <th>top</th>\n",
              "      <td>2019-02-07 00:00:00</td>\n",
              "      <td>05:42:49</td>\n",
              "      <td>nganacha@in.ibm.com</td>\n",
              "      <td>02</td>\n",
              "      <td>07</td>\n",
              "      <td>2019</td>\n",
              "      <td>nganacha</td>\n",
              "      <td>in.ibm.com</td>\n",
              "      <td>in</td>\n",
              "      <td>ibm</td>\n",
              "      <td>com</td>\n",
              "      <td>India</td>\n",
              "    </tr>\n",
              "    <tr>\n",
              "      <th>freq</th>\n",
              "      <td>19</td>\n",
              "      <td>4</td>\n",
              "      <td>12</td>\n",
              "      <td>19</td>\n",
              "      <td>42</td>\n",
              "      <td>42</td>\n",
              "      <td>12</td>\n",
              "      <td>26</td>\n",
              "      <td>26</td>\n",
              "      <td>42</td>\n",
              "      <td>42</td>\n",
              "      <td>26</td>\n",
              "    </tr>\n",
              "    <tr>\n",
              "      <th>first</th>\n",
              "      <td>2019-02-07 00:00:00</td>\n",
              "      <td>NaN</td>\n",
              "      <td>NaN</td>\n",
              "      <td>NaN</td>\n",
              "      <td>NaN</td>\n",
              "      <td>NaN</td>\n",
              "      <td>NaN</td>\n",
              "      <td>NaN</td>\n",
              "      <td>NaN</td>\n",
              "      <td>NaN</td>\n",
              "      <td>NaN</td>\n",
              "      <td>NaN</td>\n",
              "    </tr>\n",
              "    <tr>\n",
              "      <th>last</th>\n",
              "      <td>2019-05-07 00:00:00</td>\n",
              "      <td>NaN</td>\n",
              "      <td>NaN</td>\n",
              "      <td>NaN</td>\n",
              "      <td>NaN</td>\n",
              "      <td>NaN</td>\n",
              "      <td>NaN</td>\n",
              "      <td>NaN</td>\n",
              "      <td>NaN</td>\n",
              "      <td>NaN</td>\n",
              "      <td>NaN</td>\n",
              "      <td>NaN</td>\n",
              "    </tr>\n",
              "  </tbody>\n",
              "</table>\n",
              "</div>"
            ],
            "text/plain": [
              "                       Date      Time              Emailid  ...  ibm  com CntyNm\n",
              "count                    42        42                   42  ...   42   42     42\n",
              "unique                    4        18                   12  ...    1    1      5\n",
              "top     2019-02-07 00:00:00  05:42:49  nganacha@in.ibm.com  ...  ibm  com  India\n",
              "freq                     19         4                   12  ...   42   42     26\n",
              "first   2019-02-07 00:00:00       NaN                  NaN  ...  NaN  NaN    NaN\n",
              "last    2019-05-07 00:00:00       NaN                  NaN  ...  NaN  NaN    NaN\n",
              "\n",
              "[6 rows x 12 columns]"
            ]
          },
          "metadata": {
            "tags": []
          },
          "execution_count": 275
        }
      ]
    },
    {
      "cell_type": "markdown",
      "metadata": {
        "id": "hqnMGTJpiXbX",
        "colab_type": "text"
      },
      "source": [
        "## 3.10 Verify null values of all feature"
      ]
    },
    {
      "cell_type": "code",
      "metadata": {
        "id": "4UM4QDBx9DoN",
        "colab_type": "code",
        "outputId": "936de3c8-0dae-4c07-d1f1-39c5d673c81d",
        "colab": {
          "base_uri": "https://localhost:8080/",
          "height": 0
        }
      },
      "source": [
        "df.isnull().sum()"
      ],
      "execution_count": 276,
      "outputs": [
        {
          "output_type": "execute_result",
          "data": {
            "text/plain": [
              "Date        0\n",
              "Time        0\n",
              "Emailid     0\n",
              "Day         0\n",
              "Month       0\n",
              "Year        0\n",
              "Name        0\n",
              "EmailTag    0\n",
              "Country     0\n",
              "ibm         0\n",
              "com         0\n",
              "CntyNm      0\n",
              "dtype: int64"
            ]
          },
          "metadata": {
            "tags": []
          },
          "execution_count": 276
        }
      ]
    },
    {
      "cell_type": "markdown",
      "metadata": {
        "id": "edfXOWFNibnO",
        "colab_type": "text"
      },
      "source": [
        "## 3.11 Verify Unique values of each feature"
      ]
    },
    {
      "cell_type": "code",
      "metadata": {
        "id": "5TbPsr7w9qX6",
        "colab_type": "code",
        "outputId": "eaf2334d-b84b-4a09-a67a-8b7aa7615bf9",
        "colab": {
          "base_uri": "https://localhost:8080/",
          "height": 0
        }
      },
      "source": [
        "colList = [\"Date\", \"Time\", \"Emailid\"]\n",
        "count=1\n",
        "for i in range(0,len(colList)):\n",
        "    print(\"~~~~~~~~~~~~~~~~~~~~~~~~~~~~~~~Start {} ~~~~~~~~~~~~~~~~~~~~~~~~~~~~~~~~~~~~~~~~~~~~~~~~~\\n\".format(count))\n",
        "    print(\"Name of the column : \",colList[i])\n",
        "    print(df[colList[i]].unique())\n",
        "    print(\"~~~~~~~~~~~~~~~~~~~~~~~~~~~~~~~End~~~~~~~~~~~~~~~~~~~~~~~~~~~~~~~~~~~~~~~~~~~~~~~~~\\n\")\n",
        "    count = count + 1\n",
        "print(\"End of For\")"
      ],
      "execution_count": 277,
      "outputs": [
        {
          "output_type": "stream",
          "text": [
            "~~~~~~~~~~~~~~~~~~~~~~~~~~~~~~~Start 1 ~~~~~~~~~~~~~~~~~~~~~~~~~~~~~~~~~~~~~~~~~~~~~~~~~\n",
            "\n",
            "Name of the column :  Date\n",
            "['2019-02-07T00:00:00.000000000' '2019-03-07T00:00:00.000000000'\n",
            " '2019-04-07T00:00:00.000000000' '2019-05-07T00:00:00.000000000']\n",
            "~~~~~~~~~~~~~~~~~~~~~~~~~~~~~~~End~~~~~~~~~~~~~~~~~~~~~~~~~~~~~~~~~~~~~~~~~~~~~~~~~\n",
            "\n",
            "~~~~~~~~~~~~~~~~~~~~~~~~~~~~~~~Start 2 ~~~~~~~~~~~~~~~~~~~~~~~~~~~~~~~~~~~~~~~~~~~~~~~~~\n",
            "\n",
            "Name of the column :  Time\n",
            "['05:18:43' '05:33:54' '05:34:33' '05:37:15' '05:37:33' '05:40:08'\n",
            " '05:42:19' '05:42:49' '05:47:14' '05:48:24' '06:03:36' '06:08:23'\n",
            " '06:13:03' '06:14:29' '06:16:32' '06:20:42' '05:38:11' '05:39:58']\n",
            "~~~~~~~~~~~~~~~~~~~~~~~~~~~~~~~End~~~~~~~~~~~~~~~~~~~~~~~~~~~~~~~~~~~~~~~~~~~~~~~~~\n",
            "\n",
            "~~~~~~~~~~~~~~~~~~~~~~~~~~~~~~~Start 3 ~~~~~~~~~~~~~~~~~~~~~~~~~~~~~~~~~~~~~~~~~~~~~~~~~\n",
            "\n",
            "Name of the column :  Emailid\n",
            "['avinash.chandra@in.ibm.com' 'nganacha@in.ibm.com' 'rachan@ca.ibm.com'\n",
            " 'thor@us.ibm.com' 'appar@ca.ibm.com' 'anudchan@in.ibm.com'\n",
            " 'chig@cn.ibm.com' 'kumarr03@jp.ibm.com' 'chigch@cn.ibm.com'\n",
            " 'forct@ca.ibm.com' 'hitler@jp.ibm.com' 'samkri@us.ibm.com']\n",
            "~~~~~~~~~~~~~~~~~~~~~~~~~~~~~~~End~~~~~~~~~~~~~~~~~~~~~~~~~~~~~~~~~~~~~~~~~~~~~~~~~\n",
            "\n",
            "End of For\n"
          ],
          "name": "stdout"
        }
      ]
    },
    {
      "cell_type": "markdown",
      "metadata": {
        "id": "PgoL6oH6iiIX",
        "colab_type": "text"
      },
      "source": [
        "## 3.12 Verify Count of each feature"
      ]
    },
    {
      "cell_type": "code",
      "metadata": {
        "id": "u6ju7zR397PM",
        "colab_type": "code",
        "outputId": "ce24a360-d0a3-490f-8ed8-8162a2656013",
        "colab": {
          "base_uri": "https://localhost:8080/",
          "height": 0
        }
      },
      "source": [
        "df.count()"
      ],
      "execution_count": 278,
      "outputs": [
        {
          "output_type": "execute_result",
          "data": {
            "text/plain": [
              "Date        42\n",
              "Time        42\n",
              "Emailid     42\n",
              "Day         42\n",
              "Month       42\n",
              "Year        42\n",
              "Name        42\n",
              "EmailTag    42\n",
              "Country     42\n",
              "ibm         42\n",
              "com         42\n",
              "CntyNm      42\n",
              "dtype: int64"
            ]
          },
          "metadata": {
            "tags": []
          },
          "execution_count": 278
        }
      ]
    },
    {
      "cell_type": "markdown",
      "metadata": {
        "id": "vUiTo_7uin0A",
        "colab_type": "text"
      },
      "source": [
        "## 3.13 Verify Count of each Employee based on date"
      ]
    },
    {
      "cell_type": "code",
      "metadata": {
        "id": "muecWLMD-wMb",
        "colab_type": "code",
        "outputId": "40de264b-b62c-466e-bdcf-4ab4f0466b07",
        "colab": {
          "base_uri": "https://localhost:8080/",
          "height": 0
        }
      },
      "source": [
        "df.groupby('Emailid').count()[['Date']]"
      ],
      "execution_count": 279,
      "outputs": [
        {
          "output_type": "execute_result",
          "data": {
            "text/html": [
              "<div>\n",
              "<style scoped>\n",
              "    .dataframe tbody tr th:only-of-type {\n",
              "        vertical-align: middle;\n",
              "    }\n",
              "\n",
              "    .dataframe tbody tr th {\n",
              "        vertical-align: top;\n",
              "    }\n",
              "\n",
              "    .dataframe thead th {\n",
              "        text-align: right;\n",
              "    }\n",
              "</style>\n",
              "<table border=\"1\" class=\"dataframe\">\n",
              "  <thead>\n",
              "    <tr style=\"text-align: right;\">\n",
              "      <th></th>\n",
              "      <th>Date</th>\n",
              "    </tr>\n",
              "    <tr>\n",
              "      <th>Emailid</th>\n",
              "      <th></th>\n",
              "    </tr>\n",
              "  </thead>\n",
              "  <tbody>\n",
              "    <tr>\n",
              "      <th>anudchan@in.ibm.com</th>\n",
              "      <td>3</td>\n",
              "    </tr>\n",
              "    <tr>\n",
              "      <th>appar@ca.ibm.com</th>\n",
              "      <td>2</td>\n",
              "    </tr>\n",
              "    <tr>\n",
              "      <th>avinash.chandra@in.ibm.com</th>\n",
              "      <td>11</td>\n",
              "    </tr>\n",
              "    <tr>\n",
              "      <th>chig@cn.ibm.com</th>\n",
              "      <td>2</td>\n",
              "    </tr>\n",
              "    <tr>\n",
              "      <th>chigch@cn.ibm.com</th>\n",
              "      <td>1</td>\n",
              "    </tr>\n",
              "    <tr>\n",
              "      <th>forct@ca.ibm.com</th>\n",
              "      <td>1</td>\n",
              "    </tr>\n",
              "    <tr>\n",
              "      <th>hitler@jp.ibm.com</th>\n",
              "      <td>1</td>\n",
              "    </tr>\n",
              "    <tr>\n",
              "      <th>kumarr03@jp.ibm.com</th>\n",
              "      <td>4</td>\n",
              "    </tr>\n",
              "    <tr>\n",
              "      <th>nganacha@in.ibm.com</th>\n",
              "      <td>12</td>\n",
              "    </tr>\n",
              "    <tr>\n",
              "      <th>rachan@ca.ibm.com</th>\n",
              "      <td>2</td>\n",
              "    </tr>\n",
              "    <tr>\n",
              "      <th>samkri@us.ibm.com</th>\n",
              "      <td>1</td>\n",
              "    </tr>\n",
              "    <tr>\n",
              "      <th>thor@us.ibm.com</th>\n",
              "      <td>2</td>\n",
              "    </tr>\n",
              "  </tbody>\n",
              "</table>\n",
              "</div>"
            ],
            "text/plain": [
              "                            Date\n",
              "Emailid                         \n",
              "anudchan@in.ibm.com            3\n",
              "appar@ca.ibm.com               2\n",
              "avinash.chandra@in.ibm.com    11\n",
              "chig@cn.ibm.com                2\n",
              "chigch@cn.ibm.com              1\n",
              "forct@ca.ibm.com               1\n",
              "hitler@jp.ibm.com              1\n",
              "kumarr03@jp.ibm.com            4\n",
              "nganacha@in.ibm.com           12\n",
              "rachan@ca.ibm.com              2\n",
              "samkri@us.ibm.com              1\n",
              "thor@us.ibm.com                2"
            ]
          },
          "metadata": {
            "tags": []
          },
          "execution_count": 279
        }
      ]
    },
    {
      "cell_type": "markdown",
      "metadata": {
        "id": "2AQcdjeziutP",
        "colab_type": "text"
      },
      "source": [
        "## 3.14 Verify count of Employee based on date"
      ]
    },
    {
      "cell_type": "code",
      "metadata": {
        "id": "aFquUEM5A1F4",
        "colab_type": "code",
        "outputId": "d434d573-9a0c-4e69-b091-4f083dfc4373",
        "colab": {
          "base_uri": "https://localhost:8080/",
          "height": 0
        }
      },
      "source": [
        "df.groupby('Date').count()[['Emailid']]"
      ],
      "execution_count": 280,
      "outputs": [
        {
          "output_type": "execute_result",
          "data": {
            "text/html": [
              "<div>\n",
              "<style scoped>\n",
              "    .dataframe tbody tr th:only-of-type {\n",
              "        vertical-align: middle;\n",
              "    }\n",
              "\n",
              "    .dataframe tbody tr th {\n",
              "        vertical-align: top;\n",
              "    }\n",
              "\n",
              "    .dataframe thead th {\n",
              "        text-align: right;\n",
              "    }\n",
              "</style>\n",
              "<table border=\"1\" class=\"dataframe\">\n",
              "  <thead>\n",
              "    <tr style=\"text-align: right;\">\n",
              "      <th></th>\n",
              "      <th>Emailid</th>\n",
              "    </tr>\n",
              "    <tr>\n",
              "      <th>Date</th>\n",
              "      <th></th>\n",
              "    </tr>\n",
              "  </thead>\n",
              "  <tbody>\n",
              "    <tr>\n",
              "      <th>2019-02-07</th>\n",
              "      <td>19</td>\n",
              "    </tr>\n",
              "    <tr>\n",
              "      <th>2019-03-07</th>\n",
              "      <td>11</td>\n",
              "    </tr>\n",
              "    <tr>\n",
              "      <th>2019-04-07</th>\n",
              "      <td>6</td>\n",
              "    </tr>\n",
              "    <tr>\n",
              "      <th>2019-05-07</th>\n",
              "      <td>6</td>\n",
              "    </tr>\n",
              "  </tbody>\n",
              "</table>\n",
              "</div>"
            ],
            "text/plain": [
              "            Emailid\n",
              "Date               \n",
              "2019-02-07       19\n",
              "2019-03-07       11\n",
              "2019-04-07        6\n",
              "2019-05-07        6"
            ]
          },
          "metadata": {
            "tags": []
          },
          "execution_count": 280
        }
      ]
    },
    {
      "cell_type": "markdown",
      "metadata": {
        "id": "D2SVEl2xi2D2",
        "colab_type": "text"
      },
      "source": [
        "## 3.15 Graph - count of each employee"
      ]
    },
    {
      "cell_type": "code",
      "metadata": {
        "id": "tOQ9I_WOBKY6",
        "colab_type": "code",
        "outputId": "d86aca44-b707-42a1-e1f9-8d62d71db5c3",
        "colab": {
          "base_uri": "https://localhost:8080/",
          "height": 0
        }
      },
      "source": [
        "sns.countplot(x='Emailid', data=df).set_title('Count based on employee')"
      ],
      "execution_count": 281,
      "outputs": [
        {
          "output_type": "execute_result",
          "data": {
            "text/plain": [
              "Text(0.5, 1.0, 'Count based on employee')"
            ]
          },
          "metadata": {
            "tags": []
          },
          "execution_count": 281
        },
        {
          "output_type": "display_data",
          "data": {
            "image/png": "[encoded data removed]",
            "text/plain": [
              "<Figure size 432x288 with 1 Axes>"
            ]
          },
          "metadata": {
            "tags": []
          }
        }
      ]
    },
    {
      "cell_type": "markdown",
      "metadata": {
        "id": "HCEBB5IVi8gx",
        "colab_type": "text"
      },
      "source": [
        "## 3.16 Graph - Count of Date column"
      ]
    },
    {
      "cell_type": "code",
      "metadata": {
        "id": "8ALlDwmFFJDR",
        "colab_type": "code",
        "outputId": "7cc68838-2783-4325-b2c6-970fc36b7835",
        "colab": {
          "base_uri": "https://localhost:8080/",
          "height": 0
        }
      },
      "source": [
        "sns.countplot(x='Date', data=df).set_title('Count based on Date')"
      ],
      "execution_count": 282,
      "outputs": [
        {
          "output_type": "execute_result",
          "data": {
            "text/plain": [
              "Text(0.5, 1.0, 'Count based on Date')"
            ]
          },
          "metadata": {
            "tags": []
          },
          "execution_count": 282
        },
        {
          "output_type": "display_data",
          "data": {
            "image/png": "[encoded data removed]",
            "text/plain": [
              "<Figure size 432x288 with 1 Axes>"
            ]
          },
          "metadata": {
            "tags": []
          }
        }
      ]
    },
    {
      "cell_type": "markdown",
      "metadata": {
        "id": "ZclZL2ZdjBI6",
        "colab_type": "text"
      },
      "source": [
        "## 3.17 Count based on Group by Date and Employee"
      ]
    },
    {
      "cell_type": "code",
      "metadata": {
        "id": "-6rUIf5EP1Pd",
        "colab_type": "code",
        "outputId": "8cc26ab1-c80f-43de-c9ee-991231f64bc3",
        "colab": {
          "base_uri": "https://localhost:8080/",
          "height": 0
        }
      },
      "source": [
        "df.groupby(['Date', 'Emailid']).size().reset_index(name='counts')"
      ],
      "execution_count": 283,
      "outputs": [
        {
          "output_type": "execute_result",
          "data": {
            "text/html": [
              "<div>\n",
              "<style scoped>\n",
              "    .dataframe tbody tr th:only-of-type {\n",
              "        vertical-align: middle;\n",
              "    }\n",
              "\n",
              "    .dataframe tbody tr th {\n",
              "        vertical-align: top;\n",
              "    }\n",
              "\n",
              "    .dataframe thead th {\n",
              "        text-align: right;\n",
              "    }\n",
              "</style>\n",
              "<table border=\"1\" class=\"dataframe\">\n",
              "  <thead>\n",
              "    <tr style=\"text-align: right;\">\n",
              "      <th></th>\n",
              "      <th>Date</th>\n",
              "      <th>Emailid</th>\n",
              "      <th>counts</th>\n",
              "    </tr>\n",
              "  </thead>\n",
              "  <tbody>\n",
              "    <tr>\n",
              "      <th>0</th>\n",
              "      <td>2019-02-07</td>\n",
              "      <td>anudchan@in.ibm.com</td>\n",
              "      <td>1</td>\n",
              "    </tr>\n",
              "    <tr>\n",
              "      <th>1</th>\n",
              "      <td>2019-02-07</td>\n",
              "      <td>appar@ca.ibm.com</td>\n",
              "      <td>1</td>\n",
              "    </tr>\n",
              "    <tr>\n",
              "      <th>2</th>\n",
              "      <td>2019-02-07</td>\n",
              "      <td>avinash.chandra@in.ibm.com</td>\n",
              "      <td>6</td>\n",
              "    </tr>\n",
              "    <tr>\n",
              "      <th>3</th>\n",
              "      <td>2019-02-07</td>\n",
              "      <td>chig@cn.ibm.com</td>\n",
              "      <td>1</td>\n",
              "    </tr>\n",
              "    <tr>\n",
              "      <th>4</th>\n",
              "      <td>2019-02-07</td>\n",
              "      <td>kumarr03@jp.ibm.com</td>\n",
              "      <td>2</td>\n",
              "    </tr>\n",
              "    <tr>\n",
              "      <th>5</th>\n",
              "      <td>2019-02-07</td>\n",
              "      <td>nganacha@in.ibm.com</td>\n",
              "      <td>6</td>\n",
              "    </tr>\n",
              "    <tr>\n",
              "      <th>6</th>\n",
              "      <td>2019-02-07</td>\n",
              "      <td>rachan@ca.ibm.com</td>\n",
              "      <td>1</td>\n",
              "    </tr>\n",
              "    <tr>\n",
              "      <th>7</th>\n",
              "      <td>2019-02-07</td>\n",
              "      <td>thor@us.ibm.com</td>\n",
              "      <td>1</td>\n",
              "    </tr>\n",
              "    <tr>\n",
              "      <th>8</th>\n",
              "      <td>2019-03-07</td>\n",
              "      <td>anudchan@in.ibm.com</td>\n",
              "      <td>1</td>\n",
              "    </tr>\n",
              "    <tr>\n",
              "      <th>9</th>\n",
              "      <td>2019-03-07</td>\n",
              "      <td>appar@ca.ibm.com</td>\n",
              "      <td>1</td>\n",
              "    </tr>\n",
              "    <tr>\n",
              "      <th>10</th>\n",
              "      <td>2019-03-07</td>\n",
              "      <td>avinash.chandra@in.ibm.com</td>\n",
              "      <td>2</td>\n",
              "    </tr>\n",
              "    <tr>\n",
              "      <th>11</th>\n",
              "      <td>2019-03-07</td>\n",
              "      <td>chig@cn.ibm.com</td>\n",
              "      <td>1</td>\n",
              "    </tr>\n",
              "    <tr>\n",
              "      <th>12</th>\n",
              "      <td>2019-03-07</td>\n",
              "      <td>nganacha@in.ibm.com</td>\n",
              "      <td>4</td>\n",
              "    </tr>\n",
              "    <tr>\n",
              "      <th>13</th>\n",
              "      <td>2019-03-07</td>\n",
              "      <td>rachan@ca.ibm.com</td>\n",
              "      <td>1</td>\n",
              "    </tr>\n",
              "    <tr>\n",
              "      <th>14</th>\n",
              "      <td>2019-03-07</td>\n",
              "      <td>thor@us.ibm.com</td>\n",
              "      <td>1</td>\n",
              "    </tr>\n",
              "    <tr>\n",
              "      <th>15</th>\n",
              "      <td>2019-04-07</td>\n",
              "      <td>anudchan@in.ibm.com</td>\n",
              "      <td>1</td>\n",
              "    </tr>\n",
              "    <tr>\n",
              "      <th>16</th>\n",
              "      <td>2019-04-07</td>\n",
              "      <td>avinash.chandra@in.ibm.com</td>\n",
              "      <td>2</td>\n",
              "    </tr>\n",
              "    <tr>\n",
              "      <th>17</th>\n",
              "      <td>2019-04-07</td>\n",
              "      <td>kumarr03@jp.ibm.com</td>\n",
              "      <td>2</td>\n",
              "    </tr>\n",
              "    <tr>\n",
              "      <th>18</th>\n",
              "      <td>2019-04-07</td>\n",
              "      <td>nganacha@in.ibm.com</td>\n",
              "      <td>1</td>\n",
              "    </tr>\n",
              "    <tr>\n",
              "      <th>19</th>\n",
              "      <td>2019-05-07</td>\n",
              "      <td>avinash.chandra@in.ibm.com</td>\n",
              "      <td>1</td>\n",
              "    </tr>\n",
              "    <tr>\n",
              "      <th>20</th>\n",
              "      <td>2019-05-07</td>\n",
              "      <td>chigch@cn.ibm.com</td>\n",
              "      <td>1</td>\n",
              "    </tr>\n",
              "    <tr>\n",
              "      <th>21</th>\n",
              "      <td>2019-05-07</td>\n",
              "      <td>forct@ca.ibm.com</td>\n",
              "      <td>1</td>\n",
              "    </tr>\n",
              "    <tr>\n",
              "      <th>22</th>\n",
              "      <td>2019-05-07</td>\n",
              "      <td>hitler@jp.ibm.com</td>\n",
              "      <td>1</td>\n",
              "    </tr>\n",
              "    <tr>\n",
              "      <th>23</th>\n",
              "      <td>2019-05-07</td>\n",
              "      <td>nganacha@in.ibm.com</td>\n",
              "      <td>1</td>\n",
              "    </tr>\n",
              "    <tr>\n",
              "      <th>24</th>\n",
              "      <td>2019-05-07</td>\n",
              "      <td>samkri@us.ibm.com</td>\n",
              "      <td>1</td>\n",
              "    </tr>\n",
              "  </tbody>\n",
              "</table>\n",
              "</div>"
            ],
            "text/plain": [
              "         Date                     Emailid  counts\n",
              "0  2019-02-07         anudchan@in.ibm.com       1\n",
              "1  2019-02-07            appar@ca.ibm.com       1\n",
              "2  2019-02-07  avinash.chandra@in.ibm.com       6\n",
              "3  2019-02-07             chig@cn.ibm.com       1\n",
              "4  2019-02-07         kumarr03@jp.ibm.com       2\n",
              "5  2019-02-07         nganacha@in.ibm.com       6\n",
              "6  2019-02-07           rachan@ca.ibm.com       1\n",
              "7  2019-02-07             thor@us.ibm.com       1\n",
              "8  2019-03-07         anudchan@in.ibm.com       1\n",
              "9  2019-03-07            appar@ca.ibm.com       1\n",
              "10 2019-03-07  avinash.chandra@in.ibm.com       2\n",
              "11 2019-03-07             chig@cn.ibm.com       1\n",
              "12 2019-03-07         nganacha@in.ibm.com       4\n",
              "13 2019-03-07           rachan@ca.ibm.com       1\n",
              "14 2019-03-07             thor@us.ibm.com       1\n",
              "15 2019-04-07         anudchan@in.ibm.com       1\n",
              "16 2019-04-07  avinash.chandra@in.ibm.com       2\n",
              "17 2019-04-07         kumarr03@jp.ibm.com       2\n",
              "18 2019-04-07         nganacha@in.ibm.com       1\n",
              "19 2019-05-07  avinash.chandra@in.ibm.com       1\n",
              "20 2019-05-07           chigch@cn.ibm.com       1\n",
              "21 2019-05-07            forct@ca.ibm.com       1\n",
              "22 2019-05-07           hitler@jp.ibm.com       1\n",
              "23 2019-05-07         nganacha@in.ibm.com       1\n",
              "24 2019-05-07           samkri@us.ibm.com       1"
            ]
          },
          "metadata": {
            "tags": []
          },
          "execution_count": 283
        }
      ]
    },
    {
      "cell_type": "markdown",
      "metadata": {
        "id": "JJiljgKAjw0s",
        "colab_type": "text"
      },
      "source": [
        "## 3.18 Graph - Count of each Employee based on the Date"
      ]
    },
    {
      "cell_type": "code",
      "metadata": {
        "id": "F88abtD7Hb2F",
        "colab_type": "code",
        "outputId": "97584f29-0ae4-45c7-cc5b-fbfa8033cb92",
        "colab": {
          "base_uri": "https://localhost:8080/",
          "height": 0
        }
      },
      "source": [
        "sns.factorplot('Date', hue='Emailid', kind='count', data=df);\n",
        "plt.title('Factor plot for the Employee and Date')"
      ],
      "execution_count": 284,
      "outputs": [
        {
          "output_type": "stream",
          "text": [
            "/usr/local/lib/python3.6/dist-packages/seaborn/categorical.py:3666: UserWarning:\n",
            "\n",
            "The `factorplot` function has been renamed to `catplot`. The original name will be removed in a future release. Please update your code. Note that the default `kind` in `factorplot` (`'point'`) has changed `'strip'` in `catplot`.\n",
            "\n"
          ],
          "name": "stderr"
        },
        {
          "output_type": "execute_result",
          "data": {
            "text/plain": [
              "Text(0.5, 1.0, 'Factor plot for the Employee and Date')"
            ]
          },
          "metadata": {
            "tags": []
          },
          "execution_count": 284
        },
        {
          "output_type": "display_data",
          "data": {
            "image/png": "[encoded data removed]",
            "text/plain": [
              "<Figure size 544.875x360 with 1 Axes>"
            ]
          },
          "metadata": {
            "tags": []
          }
        }
      ]
    },
    {
      "cell_type": "markdown",
      "metadata": {
        "id": "-2wz_Pwij7pB",
        "colab_type": "text"
      },
      "source": [
        "## 3.19 Graph - Cont of the Date by each Employee"
      ]
    },
    {
      "cell_type": "code",
      "metadata": {
        "id": "-IhWrWRIQ0Y2",
        "colab_type": "code",
        "outputId": "ebf4a6b4-2deb-47b6-9948-762497e4d28c",
        "colab": {
          "base_uri": "https://localhost:8080/",
          "height": 0
        }
      },
      "source": [
        "sns.factorplot('Emailid', hue='Date', kind='count', data=df);\n",
        "plt.title('Factor plot for the Employee and Date')"
      ],
      "execution_count": 285,
      "outputs": [
        {
          "output_type": "stream",
          "text": [
            "/usr/local/lib/python3.6/dist-packages/seaborn/categorical.py:3666: UserWarning:\n",
            "\n",
            "The `factorplot` function has been renamed to `catplot`. The original name will be removed in a future release. Please update your code. Note that the default `kind` in `factorplot` (`'point'`) has changed `'strip'` in `catplot`.\n",
            "\n"
          ],
          "name": "stderr"
        },
        {
          "output_type": "execute_result",
          "data": {
            "text/plain": [
              "Text(0.5, 1.0, 'Factor plot for the Employee and Date')"
            ]
          },
          "metadata": {
            "tags": []
          },
          "execution_count": 285
        },
        {
          "output_type": "display_data",
          "data": {
            "image/png": "[encoded data removed]",
            "text/plain": [
              "<Figure size 563.375x360 with 1 Axes>"
            ]
          },
          "metadata": {
            "tags": []
          }
        }
      ]
    },
    {
      "cell_type": "markdown",
      "metadata": {
        "id": "lf8gHdZKSjGU",
        "colab_type": "text"
      },
      "source": [
        "# Quick code for validation"
      ]
    },
    {
      "cell_type": "code",
      "metadata": {
        "id": "WC-iORqRSon3",
        "colab_type": "code",
        "outputId": "3aac9afe-7693-46e7-8d91-d6151ebb6981",
        "colab": {
          "base_uri": "https://localhost:8080/",
          "height": 437
        }
      },
      "source": [
        "fila = open(\"testfile.txt\",\"r\") \n",
        " \n",
        "print(\"\")\n",
        "print(\"\", fila.read())\n",
        "\n",
        "fila.close() "
      ],
      "execution_count": 286,
      "outputs": [
        {
          "output_type": "stream",
          "text": [
            "\n",
            " 2019-07-02 03:19:53 INFO  PortalUtil:662 - {\"logType\":\"INFO\",\"logMessage\":\" emailId raniagra@us.ibm.com\",\"methodName\":\"getBluePageUserDetails\",\"className\":\"com.ibm.ispw.service.endpoint.home.CommonServiceProvider\",\"timestamp\":\"Tue Jul 02 03:19:53 CDT 2019\"}\n",
            "2019-07-02 05:18:43 INFO  PortalUtil:662 - {\"logType\":\"INFO\",\"logMessage\":\" emailId avinash.chandra@in.ibm.com\",\"methodName\":\"getBluePageUserDetails\",\"className\":\"com.ibm.ispw.service.endpoint.home.CommonServiceProvider\",\"timestamp\":\"Tue Jul 02 05:18:43 CDT 2019\"}\n",
            "2019-07-02 05:33:54 INFO  PortalUtil:662 - {\"logType\":\"INFO\",\"logMessage\":\" emailId avinash.chandra@in.ibm.com\",\"methodName\":\"getBluePageUserDetails\",\"className\":\"com.ibm.ispw.service.endpoint.home.CommonServiceProvider\",\"timestamp\":\"Tue Jul 02 05:33:54 CDT 2019\"}\n",
            "2019-07-02 05:34:33 INFO  PortalUtil:662 - {\"logType\":\"INFO\",\"logMessage\":\" emailId avinash.chandra@in.ibm.com\",\"methodName\":\"getBluePageUserDetails\",\"className\":\"com.ibm.ispw.service.endpoint.home.CommonServiceProvider\",\"timestamp\":\"Tue Jul 02 05:34:33 CDT 2019\"}\n",
            "2019-07-02 05:37:15 INFO  PortalUtil:662 - {\"logType\":\"INFO\",\"logMessage\":\" emailId nganacha@in.ibm.com\",\"methodName\":\"getBluePageUserDetails\",\"className\":\"com.ibm.ispw.service.endpoint.home.CommonServiceProvider\",\"timestamp\":\"Tue Jul 02 05:37:15 CDT 2019\"}\n",
            "2019-07-02 05:37:33 INFO  PortalUtil:662 - {\"logType\":\"INFO\",\"logMessage\":\" emailId nganacha@in.ibm.com\",\"methodName\":\"getBluePageUserDetails\",\"className\":\"com.ibm.ispw.service.endpoint.home.CommonServiceProvider\",\"timestamp\":\"Tue Jul 02 05:37:33 CDT 2019\"}\n",
            "2019-07-02 05:38:11 INFO  PortalUtil:662 - {\"logType\":\"INFO\",\"logMessage\":\" emailId avinash.chandra@in.ibm.com\",\"methodName\":\"getBluePageUserDetails\",\"className\":\"com.ibm.ispw.service.endpoint.home.CommonServiceProvider\",\"timestamp\":\"Tue Jul 02 05:38:11 CDT 2019\"}\n",
            "2019-07-02 05:39:58 INFO  PortalUtil:662 - {\"logType\":\"INFO\",\"logMessage\":\" emailId nganacha@in.ibm.com\",\"methodName\":\"getBluePageUserDetails\",\"className\":\"com.ibm.ispw.service.endpoint.home.CommonServiceProvider\",\"timestamp\":\"Tue Jul 02 05:39:58 CDT 2019\"}\n",
            "2019-07-02 05:40:06 INFO  PortalUtil:662 - {\"logType\":\"INFO\",\"logMessage\":\" emailId nganacha@in.ibm.com\",\"methodName\":\"getBluePageUserDetails\",\"className\":\"com.ibm.ispw.service.endpoint.home.CommonServiceProvider\",\"timestamp\":\"Tue Jul 02 05:40:06 CDT 2019\"}\n",
            "2019-07-02 05:40:08 INFO  PortalUtil:662 - {\"logType\":\"INFO\",\"logMessage\":\" emailId nganacha@in.ibm.com\",\"methodName\":\"getBluePageUserDetails\",\"className\":\"com.ibm.ispw.service.endpoint.home.CommonServiceProvider\",\"timestamp\":\"Tue Jul 02 05:40:08 CDT 2019\"}\n",
            "2019-07-02 05:42:19 INFO  PortalUtil:662 - {\"logType\":\"INFO\",\"logMessage\":\" emailId avinash.chandra@in.ibm.com\",\"methodName\":\"getBluePageUserDetails\",\"className\":\"com.ibm.ispw.service.endpoint.home.CommonServiceProvider\",\"timestamp\":\"Tue Jul 02 05:42:19 CDT 2019\"}\n",
            "2019-07-02 05:42:49 INFO  PortalUtil:662 - {\"logType\":\"INFO\",\"logMessage\":\" emailId anudchan@in.ibm.com\",\"methodName\":\"getBluePageUserDetails\",\"className\":\"com.ibm.ispw.service.endpoint.home.CommonServiceProvider\",\"timestamp\":\"Tue Jul 02 05:42:49 CDT 2019\"}\n",
            "2019-07-02 05:47:14 INFO  PortalUtil:662 - {\"logType\":\"INFO\",\"logMessage\":\" emailId kumarr03@avisbudget.com\",\"methodName\":\"getBluePageUserDetails\",\"className\":\"com.ibm.ispw.service.endpoint.home.CommonServiceProvider\",\"timestamp\":\"Tue Jul 02 05:47:14 CDT 2019\"}\n",
            "2019-07-02 05:48:24 INFO  PortalUtil:662 - {\"logType\":\"INFO\",\"logMessage\":\" emailId kumarr03@avisbudget.com\",\"methodName\":\"getBluePageUserDetails\",\"className\":\"com.ibm.ispw.service.endpoint.home.CommonServiceProvider\",\"timestamp\":\"Tue Jul 02 05:48:24 CDT 2019\"}\n",
            "2019-07-02 06:03:36 INFO  PortalUtil:662 - {\"logType\":\"INFO\",\"logMessage\":\" emailId nganacha@in.ibm.com\",\"methodName\":\"getBluePageUserDetails\",\"className\":\"com.ibm.ispw.service.endpoint.home.CommonServiceProvider\",\"timestamp\":\"Tue Jul 02 06:03:36 CDT 2019\"}\n",
            "2019-07-02 06:08:23 INFO  PortalUtil:662 - {\"logType\":\"INFO\",\"logMessage\":\" emailId avinash.chandra@in.ibm.com\",\"methodName\":\"getBluePageUserDetails\",\"className\":\"com.ibm.ispw.service.endpoint.home.CommonServiceProvider\",\"timestamp\":\"Tue Jul 02 06:08:23 CDT 2019\"}\n",
            "2019-07-02 06:13:03 INFO  PortalUtil:662 - {\"logType\":\"INFO\",\"logMessage\":\" emailId kumarr03@avisbudget.com\",\"methodName\":\"getBluePageUserDetails\",\"className\":\"com.ibm.ispw.service.endpoint.home.CommonServiceProvider\",\"timestamp\":\"Tue Jul 02 06:13:03 CDT 2019\"}\n",
            "2019-07-02 06:14:29 INFO  PortalUtil:662 - {\"logType\":\"INFO\",\"logMessage\":\" emailId avinash.chandra@in.ibm.com\",\"methodName\":\"getBluePageUserDetails\",\"className\":\"com.ibm.ispw.service.endpoint.home.CommonServiceProvider\",\"timestamp\":\"Tue Jul 02 06:14:29 CDT 2019\"}\n",
            "2019-07-02 06:16:32 INFO  PortalUtil:662 - {\"logType\":\"INFO\",\"logMessage\":\" emailId nganacha@in.ibm.com\",\"methodName\":\"getBluePageUserDetails\",\"className\":\"com.ibm.ispw.service.endpoint.home.CommonServiceProvider\",\"timestamp\":\"Tue Jul 02 06:16:32 CDT 2019\"}\n",
            "2019-07-02 06:20:42 INFO  PortalUtil:662 - {\"logType\":\"INFO\",\"logMessage\":\" emailId nganacha@in.ibm.com\",\"methodName\":\"getBluePageUserDetails\",\"className\":\"com.ibm.ispw.service.endpoint.home.CommonServiceProvider\",\"timestamp\":\"Tue Jul 02 06:20:42 CDT 2019\"}\n",
            "\n"
          ],
          "name": "stdout"
        }
      ]
    },
    {
      "cell_type": "markdown",
      "metadata": {
        "id": "jzftV2wY3wFT",
        "colab_type": "text"
      },
      "source": [
        "# 4 Working with subset of the Dataset"
      ]
    },
    {
      "cell_type": "markdown",
      "metadata": {
        "id": "o1WHz1r24DG3",
        "colab_type": "text"
      },
      "source": [
        "## 4.1 Creation of subset of the Dataset"
      ]
    },
    {
      "cell_type": "code",
      "metadata": {
        "id": "x-c7-tH54H5F",
        "colab_type": "code",
        "outputId": "26f6b11a-a400-492e-a1db-631b32677a6a",
        "colab": {
          "base_uri": "https://localhost:8080/",
          "height": 72
        }
      },
      "source": [
        "df.columns"
      ],
      "execution_count": 295,
      "outputs": [
        {
          "output_type": "execute_result",
          "data": {
            "text/plain": [
              "Index(['Date', 'Time', 'Emailid', 'Day', 'Month', 'Year', 'Name', 'EmailTag',\n",
              "       'Country', 'ibm', 'com', 'CntyNm'],\n",
              "      dtype='object')"
            ]
          },
          "metadata": {
            "tags": []
          },
          "execution_count": 295
        }
      ]
    },
    {
      "cell_type": "code",
      "metadata": {
        "id": "_1RQEyNS4msH",
        "colab_type": "code",
        "colab": {}
      },
      "source": [
        "df1 = df[['Name','CntyNm','Day','Month','Year']]"
      ],
      "execution_count": 0,
      "outputs": []
    },
    {
      "cell_type": "code",
      "metadata": {
        "id": "4TA766ff4tWe",
        "colab_type": "code",
        "outputId": "ca94eb7d-2f33-4eef-b6fc-db9a2dcbdc80",
        "colab": {
          "base_uri": "https://localhost:8080/",
          "height": 199
        }
      },
      "source": [
        "df1.info()"
      ],
      "execution_count": 297,
      "outputs": [
        {
          "output_type": "stream",
          "text": [
            "<class 'pandas.core.frame.DataFrame'>\n",
            "RangeIndex: 42 entries, 0 to 41\n",
            "Data columns (total 5 columns):\n",
            "Name      42 non-null object\n",
            "CntyNm    42 non-null object\n",
            "Day       42 non-null object\n",
            "Month     42 non-null object\n",
            "Year      42 non-null object\n",
            "dtypes: object(5)\n",
            "memory usage: 1.7+ KB\n"
          ],
          "name": "stdout"
        }
      ]
    },
    {
      "cell_type": "code",
      "metadata": {
        "id": "IKCPEosK5Nct",
        "colab_type": "code",
        "outputId": "ed332b2f-6dae-4456-d40b-e76f03d800a9",
        "colab": {
          "base_uri": "https://localhost:8080/",
          "height": 454
        }
      },
      "source": [
        "df1['Day'] = df1['Day'].astype(int)\n",
        "df1['Month'] = df1['Month'].astype(int)\n",
        "df1['Year'] = df1['Year'].astype(int)"
      ],
      "execution_count": 298,
      "outputs": [
        {
          "output_type": "stream",
          "text": [
            "/usr/local/lib/python3.6/dist-packages/ipykernel_launcher.py:1: SettingWithCopyWarning:\n",
            "\n",
            "\n",
            "A value is trying to be set on a copy of a slice from a DataFrame.\n",
            "Try using .loc[row_indexer,col_indexer] = value instead\n",
            "\n",
            "See the caveats in the documentation: http://pandas.pydata.org/pandas-docs/stable/indexing.html#indexing-view-versus-copy\n",
            "\n",
            "/usr/local/lib/python3.6/dist-packages/ipykernel_launcher.py:2: SettingWithCopyWarning:\n",
            "\n",
            "\n",
            "A value is trying to be set on a copy of a slice from a DataFrame.\n",
            "Try using .loc[row_indexer,col_indexer] = value instead\n",
            "\n",
            "See the caveats in the documentation: http://pandas.pydata.org/pandas-docs/stable/indexing.html#indexing-view-versus-copy\n",
            "\n",
            "/usr/local/lib/python3.6/dist-packages/ipykernel_launcher.py:3: SettingWithCopyWarning:\n",
            "\n",
            "\n",
            "A value is trying to be set on a copy of a slice from a DataFrame.\n",
            "Try using .loc[row_indexer,col_indexer] = value instead\n",
            "\n",
            "See the caveats in the documentation: http://pandas.pydata.org/pandas-docs/stable/indexing.html#indexing-view-versus-copy\n",
            "\n"
          ],
          "name": "stderr"
        }
      ]
    },
    {
      "cell_type": "code",
      "metadata": {
        "id": "TiNOs_6q58SA",
        "colab_type": "code",
        "outputId": "b784ae4e-250e-4444-cd4c-aff26333a8eb",
        "colab": {
          "base_uri": "https://localhost:8080/",
          "height": 199
        }
      },
      "source": [
        "df1.info()"
      ],
      "execution_count": 299,
      "outputs": [
        {
          "output_type": "stream",
          "text": [
            "<class 'pandas.core.frame.DataFrame'>\n",
            "RangeIndex: 42 entries, 0 to 41\n",
            "Data columns (total 5 columns):\n",
            "Name      42 non-null object\n",
            "CntyNm    42 non-null object\n",
            "Day       42 non-null int64\n",
            "Month     42 non-null int64\n",
            "Year      42 non-null int64\n",
            "dtypes: int64(3), object(2)\n",
            "memory usage: 1.7+ KB\n"
          ],
          "name": "stdout"
        }
      ]
    },
    {
      "cell_type": "code",
      "metadata": {
        "id": "DjHVF2MR-1v4",
        "colab_type": "code",
        "outputId": "42212408-70db-4b42-a104-b33e6645abf6",
        "colab": {
          "base_uri": "https://localhost:8080/",
          "height": 348
        }
      },
      "source": [
        "df1.tail(10)"
      ],
      "execution_count": 300,
      "outputs": [
        {
          "output_type": "execute_result",
          "data": {
            "text/html": [
              "<div>\n",
              "<style scoped>\n",
              "    .dataframe tbody tr th:only-of-type {\n",
              "        vertical-align: middle;\n",
              "    }\n",
              "\n",
              "    .dataframe tbody tr th {\n",
              "        vertical-align: top;\n",
              "    }\n",
              "\n",
              "    .dataframe thead th {\n",
              "        text-align: right;\n",
              "    }\n",
              "</style>\n",
              "<table border=\"1\" class=\"dataframe\">\n",
              "  <thead>\n",
              "    <tr style=\"text-align: right;\">\n",
              "      <th></th>\n",
              "      <th>Name</th>\n",
              "      <th>CntyNm</th>\n",
              "      <th>Day</th>\n",
              "      <th>Month</th>\n",
              "      <th>Year</th>\n",
              "    </tr>\n",
              "  </thead>\n",
              "  <tbody>\n",
              "    <tr>\n",
              "      <th>32</th>\n",
              "      <td>kumarr03</td>\n",
              "      <td>Japan</td>\n",
              "      <td>4</td>\n",
              "      <td>7</td>\n",
              "      <td>2019</td>\n",
              "    </tr>\n",
              "    <tr>\n",
              "      <th>33</th>\n",
              "      <td>kumarr03</td>\n",
              "      <td>Japan</td>\n",
              "      <td>4</td>\n",
              "      <td>7</td>\n",
              "      <td>2019</td>\n",
              "    </tr>\n",
              "    <tr>\n",
              "      <th>34</th>\n",
              "      <td>nganacha</td>\n",
              "      <td>India</td>\n",
              "      <td>4</td>\n",
              "      <td>7</td>\n",
              "      <td>2019</td>\n",
              "    </tr>\n",
              "    <tr>\n",
              "      <th>35</th>\n",
              "      <td>avinash.chandra</td>\n",
              "      <td>India</td>\n",
              "      <td>4</td>\n",
              "      <td>7</td>\n",
              "      <td>2019</td>\n",
              "    </tr>\n",
              "    <tr>\n",
              "      <th>36</th>\n",
              "      <td>chigch</td>\n",
              "      <td>China</td>\n",
              "      <td>5</td>\n",
              "      <td>7</td>\n",
              "      <td>2019</td>\n",
              "    </tr>\n",
              "    <tr>\n",
              "      <th>37</th>\n",
              "      <td>forct</td>\n",
              "      <td>Canada</td>\n",
              "      <td>5</td>\n",
              "      <td>7</td>\n",
              "      <td>2019</td>\n",
              "    </tr>\n",
              "    <tr>\n",
              "      <th>38</th>\n",
              "      <td>hitler</td>\n",
              "      <td>Japan</td>\n",
              "      <td>5</td>\n",
              "      <td>7</td>\n",
              "      <td>2019</td>\n",
              "    </tr>\n",
              "    <tr>\n",
              "      <th>39</th>\n",
              "      <td>samkri</td>\n",
              "      <td>America</td>\n",
              "      <td>5</td>\n",
              "      <td>7</td>\n",
              "      <td>2019</td>\n",
              "    </tr>\n",
              "    <tr>\n",
              "      <th>40</th>\n",
              "      <td>nganacha</td>\n",
              "      <td>India</td>\n",
              "      <td>5</td>\n",
              "      <td>7</td>\n",
              "      <td>2019</td>\n",
              "    </tr>\n",
              "    <tr>\n",
              "      <th>41</th>\n",
              "      <td>avinash.chandra</td>\n",
              "      <td>India</td>\n",
              "      <td>5</td>\n",
              "      <td>7</td>\n",
              "      <td>2019</td>\n",
              "    </tr>\n",
              "  </tbody>\n",
              "</table>\n",
              "</div>"
            ],
            "text/plain": [
              "               Name   CntyNm  Day  Month  Year\n",
              "32         kumarr03    Japan    4      7  2019\n",
              "33         kumarr03    Japan    4      7  2019\n",
              "34         nganacha    India    4      7  2019\n",
              "35  avinash.chandra    India    4      7  2019\n",
              "36           chigch    China    5      7  2019\n",
              "37            forct   Canada    5      7  2019\n",
              "38           hitler    Japan    5      7  2019\n",
              "39           samkri  America    5      7  2019\n",
              "40         nganacha    India    5      7  2019\n",
              "41  avinash.chandra    India    5      7  2019"
            ]
          },
          "metadata": {
            "tags": []
          },
          "execution_count": 300
        }
      ]
    },
    {
      "cell_type": "code",
      "metadata": {
        "id": "9Vp_Oyoj6IJF",
        "colab_type": "code",
        "outputId": "db45e098-74bd-492a-d2d2-a6024f81965f",
        "colab": {
          "base_uri": "https://localhost:8080/",
          "height": 494
        }
      },
      "source": [
        "sns.factorplot('Name', hue='CntyNm', kind='count', data=df);\n",
        "plt.title('Factor plot for the Employee and Date')"
      ],
      "execution_count": 301,
      "outputs": [
        {
          "output_type": "stream",
          "text": [
            "/usr/local/lib/python3.6/dist-packages/seaborn/categorical.py:3666: UserWarning:\n",
            "\n",
            "The `factorplot` function has been renamed to `catplot`. The original name will be removed in a future release. Please update your code. Note that the default `kind` in `factorplot` (`'point'`) has changed `'strip'` in `catplot`.\n",
            "\n"
          ],
          "name": "stderr"
        },
        {
          "output_type": "execute_result",
          "data": {
            "text/plain": [
              "Text(0.5, 1.0, 'Factor plot for the Employee and Date')"
            ]
          },
          "metadata": {
            "tags": []
          },
          "execution_count": 301
        },
        {
          "output_type": "display_data",
          "data": {
            "image/png": "[encoded data removed]",
            "text/plain": [
              "<Figure size 437.25x360 with 1 Axes>"
            ]
          },
          "metadata": {
            "tags": []
          }
        }
      ]
    },
    {
      "cell_type": "code",
      "metadata": {
        "id": "7qLaw-S0-_iq",
        "colab_type": "code",
        "outputId": "608e880c-b3cd-447d-e70a-de721313b125",
        "colab": {
          "base_uri": "https://localhost:8080/",
          "height": 494
        }
      },
      "source": [
        "sns.factorplot('CntyNm', hue='Name', kind='count', data=df);\n",
        "plt.title('Factor plot for the Employee and Date')"
      ],
      "execution_count": 302,
      "outputs": [
        {
          "output_type": "stream",
          "text": [
            "/usr/local/lib/python3.6/dist-packages/seaborn/categorical.py:3666: UserWarning:\n",
            "\n",
            "The `factorplot` function has been renamed to `catplot`. The original name will be removed in a future release. Please update your code. Note that the default `kind` in `factorplot` (`'point'`) has changed `'strip'` in `catplot`.\n",
            "\n"
          ],
          "name": "stderr"
        },
        {
          "output_type": "execute_result",
          "data": {
            "text/plain": [
              "Text(0.5, 1.0, 'Factor plot for the Employee and Date')"
            ]
          },
          "metadata": {
            "tags": []
          },
          "execution_count": 302
        },
        {
          "output_type": "display_data",
          "data": {
            "image/png": "[encoded data removed]",
            "text/plain": [
              "<Figure size 479.25x360 with 1 Axes>"
            ]
          },
          "metadata": {
            "tags": []
          }
        }
      ]
    }
  ]
}