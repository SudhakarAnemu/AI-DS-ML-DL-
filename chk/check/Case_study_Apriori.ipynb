{
  "nbformat": 4,
  "nbformat_minor": 0,
  "metadata": {
    "kernelspec": {
      "display_name": "Python 3",
      "language": "python",
      "name": "python3"
    },
    "language_info": {
      "codemirror_mode": {
        "name": "ipython",
        "version": 3
      },
      "file_extension": ".py",
      "mimetype": "text/x-python",
      "name": "python",
      "nbconvert_exporter": "python",
      "pygments_lexer": "ipython3",
      "version": "3.6.5"
    },
    "colab": {
      "name": "Case-study - Apriori.ipynb",
      "provenance": [],
      "include_colab_link": true
    }
  },
  "cells": [
    {
      "cell_type": "markdown",
      "metadata": {
        "id": "view-in-github",
        "colab_type": "text"
      },
      "source": [
        "<a href=\"https://colab.research.google.com/github/SudhakarAnemu/AI-DS-ML-DL/blob/master/Case_study_Apriori.ipynb\" target=\"_parent\"><img src=\"https://colab.research.google.com/assets/colab-badge.svg\" alt=\"Open In Colab\"/></a>"
      ]
    },
    {
      "cell_type": "markdown",
      "metadata": {
        "id": "WYVwJxaFcNl6",
        "colab_type": "text"
      },
      "source": [
        "<img src=\"https://github.com/insaid2018/Term-1/blob/master/Images/INSAID_Full%20Logo.png?raw=true\" width=\"240\" height=\"360\" />\n",
        "\n",
        "# Apriori Algorithm"
      ]
    },
    {
      "cell_type": "markdown",
      "metadata": {
        "id": "IIbBrbLGcNl9",
        "colab_type": "text"
      },
      "source": [
        "## Table of Content\n",
        "\n",
        "1. [Introduction](#Introduction)<br>\n",
        "2. [Apriori Algorithm](#Apriori Algorithm)<br>\n",
        "3. [About the Dataset](#About the dataset)<br>\n",
        "4. [Data Loading and Preprocessing](#Data Loading and Preprocessing)<br>\n",
        "5. [Applying Apriori Algorithm](#Applying Apriori Algorithm)<br>\n",
        "6. [Conclusion](#Conclusion)<br>"
      ]
    },
    {
      "cell_type": "markdown",
      "metadata": {
        "id": "yV4K3GfrcNl-",
        "colab_type": "text"
      },
      "source": [
        "## 1. Introduction <a name = \"Introduction\"></a>\n",
        "\n",
        "Short stories or tales always help us in understanding a concept better but this is a true story.<br/>\n",
        "- __Wal-Mart’s beer diaper parable__<br/>\n",
        "![image.png](attachment:image.png)\n",
        "Wal-Mart discovered through data mining that the sales of diapers and beer were correlated on Friday nights. It determined that the correlation was based on working men who had been asked to pick up diapers on their way home from work. On Fridays the men figured they deserved a six-pack of beer for their trouble; hence the connection between beer and diapers. By moving these two items closer together, Wal-Mart reportedly saw the sales of both items increase geometrically."
      ]
    },
    {
      "cell_type": "markdown",
      "metadata": {
        "id": "ak9kQQntcNl_",
        "colab_type": "text"
      },
      "source": [
        "![image.png](attachment:image.png)"
      ]
    },
    {
      "cell_type": "markdown",
      "metadata": {
        "id": "OyI8txNNcNmA",
        "colab_type": "text"
      },
      "source": [
        "- You must have noticed the local vegetable seller selling __onion and potato together in bundles__. <br/>He even offers a discount to people who buy these bundles.<br/>Why does he do so? <br/> He realises that people who buy potatoes also buy onions. Therefore, by bunching them together, he makes it easy for the customers. At the same time, he also increases his sales performance.\n",
        "![image.png](attachment:image.png)"
      ]
    },
    {
      "cell_type": "markdown",
      "metadata": {
        "id": "3B2MoGuycNmB",
        "colab_type": "text"
      },
      "source": [
        "- Even if you cant correlate to all the previous examples you must have tried __McDonald's combo packs__<br/>\n",
        "![image.png](attachment:image.png)"
      ]
    },
    {
      "cell_type": "markdown",
      "metadata": {
        "id": "XN6hQcUjcNmD",
        "colab_type": "text"
      },
      "source": [
        "- When you go to a store, would you not want the aisles to be ordered in such a manner that __reduces your efforts__ to buy things?For example, the toothbrush, the paste, the mouthwash  & other dental products on a single aisle – because when we buy them, e tend to buy them together. Similarly, in supermarket, you will find bread, butter, and jam bundled together or near by each other in the shelf. Also, all vegetables are placed in the same aisle, all dairy items are placed together and cosmetics form another set of such groups. Investing time and resources on deliberate product placements like this not only __reduces a customer’s shopping time__, but also reminds the customer of what __relevant items__ he might be interested in buying, thus helping stores __cross-sell__ in the process. Association rules help uncover all such relationships between items from huge databases.\n",
        "![image.png](attachment:image.png)"
      ]
    },
    {
      "cell_type": "markdown",
      "metadata": {
        "id": "BsrvJMBCcNmE",
        "colab_type": "text"
      },
      "source": [
        "## 2. Apriori Algorithm <a name = \"Apriori Algorithm\"></a>\n",
        "With the quick growth in e-commerce applications, there is an accumulation of vast quantity of data every month. Data Mining, also known as __Knowledge Discovery in Databases__(KDD) includes the tasks to find anomalies, correlations, patterns, and trends to predict outcomes.\n",
        "\n",
        "It has got this odd name because it uses __‘prior’ knowledge of frequent itemset__ properties. The credit for introducing this algorithm goes to Rakesh Agrawal and Ramakrishnan Srikant in 1994.<br/>\n",
        "Apriori algorithm is a classical algorithm in data mining. It is used for __mining frequent itemsets and relevant association rules__. It is devised to operate on a database containing a lot of transactions, for instance, items brought by customers in a store.\n",
        "![image.png](attachment:image.png)<br/>\n",
        "__Applications__\n",
        "- It is very important for effective __Market Basket Analysis__ and it helps the customers in purchasing their items with more ease which increases the sales of the markets. \n",
        "- This also has utility in the field of healthcare as it can help in detecting __adverse drug reactions__ (ADR) by producing association rules to indicate the combination of medications and patient characteristics that could lead to ADRs."
      ]
    },
    {
      "cell_type": "markdown",
      "metadata": {
        "id": "Sf75GJHccNmF",
        "colab_type": "text"
      },
      "source": [
        "__Market Basket Analysis__ is one of the key techniques used by large retailers to uncover __associations__ between items. It works by looking for combinations of items that occur together __frequently__ in transactions. To put it in another way, it allows retailers to identify __relationships__ between the items that people buy.<br/>\n",
        "\n",
        "__Association Rules (Antecedent and Consequent)__\n",
        "\n",
        "Association rule learning is a rule-based machine learning method for discovering interesting relations between variables in large databases. It identifies frequent __if-then associations__ called association rules which consists of an __antecedent (if)__ and a __consequent (then)__\n",
        "Association Rules is one of the very important concepts of machine learning being used in market basket analysis. \n",
        "Lets now see what an association rule exactly looks like. It consists of an __antecedent (if)__ and a __consequent(then)__, both of which are a list of items. \n",
        "\n",
        "For example: “__If tea and milk, then sugar__” (“If tea and milk are purchased, then sugar would also be bought by the customer”)\n",
        "\n",
        "- Antecedent: Tea and Milk\n",
        "\n",
        "- Consequent: Sugar.\n"
      ]
    },
    {
      "cell_type": "markdown",
      "metadata": {
        "id": "eYwtEcfscNmF",
        "colab_type": "text"
      },
      "source": [
        " For example,\n",
        " Below are a set of transactions :\n",
        "\n",
        " ![image.png](attachment:image.png)"
      ]
    },
    {
      "cell_type": "markdown",
      "metadata": {
        "id": "zthq-aiJcNmH",
        "colab_type": "text"
      },
      "source": [
        "## How does Apriori algorithm work?\n",
        "So far, we learned what the Apriori algorithm is and why is important to learn it.\n",
        "\n",
        "A key concept in Apriori algorithm is the __anti-monotonicity of the support measure__. It assumes that\n",
        "\n",
        "- __All subsets of a frequent itemset must be frequent__<br/>\n",
        "    􀂄 A transaction containing {apple, beer, rice} also contains {apple, beer}.<br/>\n",
        "    􀂄 If {apple, beer, rice} is __frequent__ then {apple, beer} must also be frequent.\n",
        "    \n",
        "    \n",
        "- Similarly, __for any infrequent itemset, all its supersets must be infrequent too.__<br/>\n",
        "    􀂄 If {pear} is __infrequent__ then {pear, apple}, {pear, milk} must also be.<br/>"
      ]
    },
    {
      "cell_type": "markdown",
      "metadata": {
        "_cell_guid": "e7552ed1-fcfe-422b-a76c-f1bf91a2e064",
        "_uuid": "2bfe59ecf1564e278d73bee93e222372f0c01dd3",
        "id": "7imdvtKFcNmI",
        "colab_type": "text"
      },
      "source": [
        "### Applying Apriori algorithm : \n",
        "Apriori algorithm uses \"bottom up\" approach, first identifying individual items that satisfy a __minimum occurence threshold__. It then extends the item set, adding one item at a time and checking if the resulting item set still satisfies the specified threshold.  The algorithm stops when there are no more items to add that meet the minimum occurrence requirement.  Here's an example of apriori in action, assuming a __minimum occurence threshold of 3__:\n",
        "\n",
        "    \n",
        "    Iteration 1:  Count the number of times each item occurs  \n",
        "    \n",
        "    item set           occurrence count    \n",
        "    {apple}                    4   \n",
        "    {beer}                     6   \n",
        "    {rice}                     4 \n",
        "    {milk}                     4 \n",
        "    {meat}                     2  \n",
        "    {pear}                     2\n",
        "    \n",
        "    Setting the threshold to be 3.\n",
        "    {meat} and {pear} are eliminated because they do not meet the minimum occurrence threshold.\n",
        "\n",
        "\n",
        "    Iteration 2: Build item sets of size 2 using the remaining items from Iteration 1.\n",
        "    Using the property that for any infrequent itemset, all its supersets must be infrequent too.\n",
        "                 (ie: apple, beer, rice, milk)  \n",
        "                 \n",
        "    item set           occurence count  \n",
        "    {apple, beer}              3  \n",
        "    {apple, rice}              2\n",
        "    {apple, milk}              0\n",
        "    {beer, rice}               2\n",
        "    {beer, milk}               3\n",
        "    {rice, milk}               2\n",
        "    \n",
        "    {apple, milk}, {beer, rice}, {rice, milk} and {apple, rice} are eliminated.\n",
        "    Only {apple, beer} and {beer, milk} remains. \n",
        "    \n",
        "    Iteration 3: Build item sets of size 3 using the remaining items from Iteration 2.\n",
        "    \n",
        "    item set              occurence count \n",
        "    {apple, beer, milk}        0\n",
        "    \n",
        "   \n",
        "If we had more orders and items, we can continue to iterate, building item sets consisting of more than 3 elements.<br/>\n",
        "Therefore, __{apple, beer} and {beer, milk}__ are the only frequent items based on the transactions and rest all itemsets are infrequent."
      ]
    },
    {
      "cell_type": "markdown",
      "metadata": {
        "id": "n2Xy-5uLcNmJ",
        "colab_type": "text"
      },
      "source": [
        "There are three common metrics to measure association:\n",
        "\n",
        "__Support__ is an indication of how frequently the items appear in the data. Mathematically, support is the fraction of the total number of transactions in which the item set occurs.\n",
        "![image.png](attachment:image.png)\n",
        "- If the sales of a particular product (item) above a certain proportion have a meaningful effect on profits, that proportion can be considered as the __support threshold__.\n",
        "- Furthermore, we can identify itemsets that have support values beyond this threshold as significant or __frequent itemsets__."
      ]
    },
    {
      "cell_type": "markdown",
      "metadata": {
        "id": "a2NXrXBLcNmK",
        "colab_type": "text"
      },
      "source": [
        "![image.png](attachment:image.png)\n",
        " \n",
        "- Support{apple}  =  4/8, or 50%.\n",
        "- Support{apple,beer}  =  3/8 or 37.5%."
      ]
    },
    {
      "cell_type": "markdown",
      "metadata": {
        "id": "ZGss0oNdcNmK",
        "colab_type": "text"
      },
      "source": [
        "__Confidence__ indicates the number of times the if-then statements are found true. Confidence is the conditional probability of occurrence of consequent given the antecedent.<br/> \n",
        "![image.png](attachment:image.png)\n"
      ]
    },
    {
      "cell_type": "markdown",
      "metadata": {
        "id": "FakJqPM7cNmL",
        "colab_type": "text"
      },
      "source": [
        "![image.png](attachment:image.png)\n",
        "This says how likely item Y is purchased when item X is purchased, expressed as {X -> Y}. "
      ]
    },
    {
      "cell_type": "markdown",
      "metadata": {
        "id": "jBti8jD0cNmM",
        "colab_type": "text"
      },
      "source": [
        "Confidence of {apple -> beer} is 3 out of 4, or 75%.![image.png](attachment:image.png) \n",
        "\n",
        "confidence{apple->beer}  =  support{apple,beer} / support{apple}\n",
        "                                            =  (3/8) / (4/8)\n",
        "                                            =  0.75 or 75%\n",
        "\n",
        "    A confidence value of 0.75 implies that out of all orders that contain apple, 75% of them also contain beer.\n",
        "- One __drawback of the confidence__ measure is that it might misrepresent the importance of an association.\n",
        "- This is because it only accounts for how popular apples are, but not beers. If beers are also very popular in general, there will be a higher chance that a transaction containing apples will also contain beers, thus inflating the confidence measure. \n",
        "- Basically to account for the base popularity of both constituent items, we use a third measure called __lift__."
      ]
    },
    {
      "cell_type": "markdown",
      "metadata": {
        "id": "jcaIMBlvcNmN",
        "colab_type": "text"
      },
      "source": [
        "__Lift__ can be used to compare confidence with expected confidence. This says how likely item Y is purchased when item X is purchased, while controlling for how popular item Y is. Mathematically,\n",
        "![image.png](attachment:image.png)"
      ]
    },
    {
      "cell_type": "markdown",
      "metadata": {
        "id": "6LUwE8ercNmN",
        "colab_type": "text"
      },
      "source": [
        "![image.png](attachment:image.png)\n",
        "\n",
        "This says how likely item Y is purchased when item X is purchased, while controlling for how popular item Y is.<br/>\n",
        "- A lift value __greater than 1__ means that item Y is __likely__ to be bought if item X is bought, \n",
        "- While a value __less than 1__ means that item Y is __unlikely__ to be bought if item X is bought.\n",
        "- A lift of vlaue __equal to 1__ indicates that occurence of item Y is __independent__ of the occurence of item X."
      ]
    },
    {
      "cell_type": "markdown",
      "metadata": {
        "id": "ugXzbrIxcNmO",
        "colab_type": "text"
      },
      "source": [
        " Lift of {apple -> beer} is 1,which implies no association between items.\n",
        " ![image.png](attachment:image.png)\n",
        " \n",
        " lift{apple,beer}  =  lift{beer,apple}  =  support{apple,beer} / (support{apple} `*` support{beer})\n",
        "                          =  (3/8) / (4/8 `*` 6/8) \n",
        "                          =  1  \n",
        "                         \n"
      ]
    },
    {
      "cell_type": "markdown",
      "metadata": {
        "id": "7qDct2iwcNmQ",
        "colab_type": "text"
      },
      "source": [
        "lift{beer,milk}  =  lift{milk,beer}  =  support{beer,milk} `/` (support{beer} `*` support{milk})\n",
        "                                   =  (3/8) `/` (6/8 `*` 4/8) \n",
        "                                   =  1  \n",
        "                                  \n",
        "Lift value is 1 in both the cases implies there is no relationship between them.<br/>\n",
        "\n",
        "Armed with knowledge of apriori and association rules mining, let's dive into our data and code to see what relationships we unravel!"
      ]
    },
    {
      "cell_type": "markdown",
      "metadata": {
        "id": "OhTT-3KMcNmS",
        "colab_type": "text"
      },
      "source": [
        "## 3. About the dataset <a name = \"About the dataset\"></a>"
      ]
    },
    {
      "cell_type": "markdown",
      "metadata": {
        "id": "RjMRHn-UcNmU",
        "colab_type": "text"
      },
      "source": [
        "The data belongs to a bakery called \"The Bread Basket\", located in the historic center of Edinburgh. This bakery presents a refreshing offer of Argentine and Spanish products.\n",
        "![image.png](attachment:image.png)"
      ]
    },
    {
      "cell_type": "markdown",
      "metadata": {
        "id": "oLhIstZxcNmW",
        "colab_type": "text"
      },
      "source": [
        "Content Data set containing 15 010 observations and more than 6 000 transactions from a bakery. The data set contains the following columns:\n",
        "\n",
        "- **Date**. Categorical variable that tells us the date of the transactions (YYYY-MM-DD format). The column includes dates from 30/10/2016 to 09/04/2017.\n",
        "\n",
        "- **Time**. Categorical variable that tells us the time of the transactions (HH:MM:SS format).\n",
        "\n",
        "- **Transaction**. Quantitative variable that allows us to differentiate the transactions. The rows that share the same value in this field belong to the same transaction, that's why the data set has less transactions than observations."
      ]
    },
    {
      "cell_type": "markdown",
      "metadata": {
        "id": "gr1e68dAcNmY",
        "colab_type": "text"
      },
      "source": [
        "## 4. Data Loading and Preprocessing <a name = \"Data Loading and Preprocessing\"></a>"
      ]
    },
    {
      "cell_type": "code",
      "metadata": {
        "_uuid": "59edfd1e4f6ae0a6d67b3dd326286f57d1df7150",
        "id": "H6vjY-2xcNmZ",
        "colab_type": "code",
        "colab": {}
      },
      "source": [
        "import pandas as pd\n",
        "import numpy as np\n",
        "import warnings\n",
        "warnings.filterwarnings('ignore')\n",
        "bakery = pd.read_csv('https://raw.githubusercontent.com/02asmita/Term-4/patch-1/Data/Assignment/BreadBasket_DMS.csv')"
      ],
      "execution_count": 0,
      "outputs": []
    },
    {
      "cell_type": "code",
      "metadata": {
        "_uuid": "2e7a637a71b4b0454b89909e815f71dac91df51e",
        "id": "dIITYqrocNmd",
        "colab_type": "code",
        "colab": {}
      },
      "source": [
        "bakery['Item'] = bakery['Item'].str.lower()"
      ],
      "execution_count": 0,
      "outputs": []
    },
    {
      "cell_type": "code",
      "metadata": {
        "_uuid": "f3bef65c16bcaefa1a600d76ccfd4b1ceeca4d9a",
        "id": "BBGOB-lzcNmj",
        "colab_type": "code",
        "colab": {},
        "outputId": "ac6c4042-9fb0-441b-caf7-ce74bb97a64a"
      },
      "source": [
        "bakery = bakery.drop(bakery[bakery.Item  ==  'none'].index)\n",
        "bakery.head()"
      ],
      "execution_count": 0,
      "outputs": [
        {
          "output_type": "execute_result",
          "data": {
            "text/html": [
              "<div>\n",
              "<style scoped>\n",
              "    .dataframe tbody tr th:only-of-type {\n",
              "        vertical-align: middle;\n",
              "    }\n",
              "\n",
              "    .dataframe tbody tr th {\n",
              "        vertical-align: top;\n",
              "    }\n",
              "\n",
              "    .dataframe thead th {\n",
              "        text-align: right;\n",
              "    }\n",
              "</style>\n",
              "<table border=\"1\" class=\"dataframe\">\n",
              "  <thead>\n",
              "    <tr style=\"text-align: right;\">\n",
              "      <th></th>\n",
              "      <th>Date</th>\n",
              "      <th>Time</th>\n",
              "      <th>Transaction</th>\n",
              "      <th>Item</th>\n",
              "    </tr>\n",
              "  </thead>\n",
              "  <tbody>\n",
              "    <tr>\n",
              "      <th>0</th>\n",
              "      <td>2016-10-30</td>\n",
              "      <td>09:58:11</td>\n",
              "      <td>1</td>\n",
              "      <td>bread</td>\n",
              "    </tr>\n",
              "    <tr>\n",
              "      <th>1</th>\n",
              "      <td>2016-10-30</td>\n",
              "      <td>10:05:34</td>\n",
              "      <td>2</td>\n",
              "      <td>scandinavian</td>\n",
              "    </tr>\n",
              "    <tr>\n",
              "      <th>2</th>\n",
              "      <td>2016-10-30</td>\n",
              "      <td>10:05:34</td>\n",
              "      <td>2</td>\n",
              "      <td>scandinavian</td>\n",
              "    </tr>\n",
              "    <tr>\n",
              "      <th>3</th>\n",
              "      <td>2016-10-30</td>\n",
              "      <td>10:07:57</td>\n",
              "      <td>3</td>\n",
              "      <td>hot chocolate</td>\n",
              "    </tr>\n",
              "    <tr>\n",
              "      <th>4</th>\n",
              "      <td>2016-10-30</td>\n",
              "      <td>10:07:57</td>\n",
              "      <td>3</td>\n",
              "      <td>jam</td>\n",
              "    </tr>\n",
              "  </tbody>\n",
              "</table>\n",
              "</div>"
            ],
            "text/plain": [
              "         Date      Time  Transaction           Item\n",
              "0  2016-10-30  09:58:11            1          bread\n",
              "1  2016-10-30  10:05:34            2   scandinavian\n",
              "2  2016-10-30  10:05:34            2   scandinavian\n",
              "3  2016-10-30  10:07:57            3  hot chocolate\n",
              "4  2016-10-30  10:07:57            3            jam"
            ]
          },
          "metadata": {
            "tags": []
          },
          "execution_count": 3
        }
      ]
    },
    {
      "cell_type": "code",
      "metadata": {
        "_uuid": "056d5c4627a5d8c5abffb18781f592a1171199f3",
        "id": "92fibLutcNmq",
        "colab_type": "code",
        "colab": {},
        "outputId": "ac27b49d-5990-47e3-b6fd-462a64302665"
      },
      "source": [
        "len(bakery['Item'].unique())"
      ],
      "execution_count": 0,
      "outputs": [
        {
          "output_type": "execute_result",
          "data": {
            "text/plain": [
              "94"
            ]
          },
          "metadata": {
            "tags": []
          },
          "execution_count": 4
        }
      ]
    },
    {
      "cell_type": "markdown",
      "metadata": {
        "_uuid": "0238b093859629631f84db5cc335577fe8a965ff",
        "id": "KXwKVpa2cNmt",
        "colab_type": "text"
      },
      "source": [
        "There are 94 different unique items sold by bakery or simply only these items are present in the Items column."
      ]
    },
    {
      "cell_type": "code",
      "metadata": {
        "_uuid": "09e5b51ea5d99142049b0d0a01f0bb6021c2f685",
        "id": "sOVSVVWDcNmv",
        "colab_type": "code",
        "colab": {},
        "outputId": "0ac0e1f5-d271-4dd9-dfcc-4be281e37869"
      },
      "source": [
        "import matplotlib.pyplot as plt\n",
        "import seaborn as sns\n",
        "%matplotlib inline\n",
        "\n",
        "fig  =  plt.figure(figsize = (15,8))\n",
        "sns.countplot(x  =  'Item', data  =  bakery, order  =  bakery['Item'].value_counts().iloc[:10].index)\n",
        "plt.xticks(rotation = 90)\n",
        "plt.title('Top 5 most selling items')\n",
        "plt.show()"
      ],
      "execution_count": 0,
      "outputs": [
        {
          "output_type": "display_data",
          "data": {
            "image/png": "[encoded data removed]",
            "text/plain": [
              "<Figure size 1080x576 with 1 Axes>"
            ]
          },
          "metadata": {
            "tags": []
          }
        }
      ]
    },
    {
      "cell_type": "markdown",
      "metadata": {
        "id": "SNPh1rg1cNmz",
        "colab_type": "text"
      },
      "source": [
        "The graph belows shows the top 10 items sold at BreadBasket. I guess everyone loves to drink coffee! \n",
        "\n",
        "\n",
        "![Coffee](https://media.giphy.com/media/zJ8ldRaGLnHTa/giphy.gif)\n",
        "\n",
        "\n",
        "Now, we need to run apriori algorithm to get insight that if a customer buys one item which item he/she buys next ."
      ]
    },
    {
      "cell_type": "markdown",
      "metadata": {
        "_uuid": "90850f79c996d3863d05f6275bb674a169a80928",
        "id": "-UzVFWnycNm0",
        "colab_type": "text"
      },
      "source": [
        "## 5. Applying Apriori Algorithm <a name = \"Applying Apriori Algorithm\"></a>"
      ]
    },
    {
      "cell_type": "markdown",
      "metadata": {
        "id": "X0uNZBxicNm1",
        "colab_type": "text"
      },
      "source": [
        "We can use [__mlxtend__](http://rasbt.github.io/mlxtend/user_guide/frequent_patterns/apriori/) as well as [__apyori__](https://pypi.org/project/apyori) library for the implementation of Apriori algorithm. \n",
        "<br/><br/>\n",
        "Here we'll use mlxtend library "
      ]
    },
    {
      "cell_type": "code",
      "metadata": {
        "_uuid": "dd2350c7d234208507407ec13d01259b782aadc2",
        "id": "9uJCEWJZcNm1",
        "colab_type": "code",
        "colab": {}
      },
      "source": [
        "from mlxtend.frequent_patterns import apriori\n",
        "from mlxtend.frequent_patterns import association_rules"
      ],
      "execution_count": 0,
      "outputs": []
    },
    {
      "cell_type": "code",
      "metadata": {
        "_uuid": "f864146aef7f2ee734ec5c12ca198389b584093f",
        "id": "u8dNOIkQcNm4",
        "colab_type": "code",
        "colab": {},
        "outputId": "d65870c2-9484-4575-834e-bd06a1bed7f6"
      },
      "source": [
        "hot_encoded_bakery = bakery.groupby(['Transaction','Item'])['Item'].count().unstack().reset_index().fillna(0).set_index('Transaction')\n",
        "hot_encoded_bakery.head()"
      ],
      "execution_count": 0,
      "outputs": [
        {
          "output_type": "execute_result",
          "data": {
            "text/html": [
              "<div>\n",
              "<style scoped>\n",
              "    .dataframe tbody tr th:only-of-type {\n",
              "        vertical-align: middle;\n",
              "    }\n",
              "\n",
              "    .dataframe tbody tr th {\n",
              "        vertical-align: top;\n",
              "    }\n",
              "\n",
              "    .dataframe thead th {\n",
              "        text-align: right;\n",
              "    }\n",
              "</style>\n",
              "<table border=\"1\" class=\"dataframe\">\n",
              "  <thead>\n",
              "    <tr style=\"text-align: right;\">\n",
              "      <th>Item</th>\n",
              "      <th>adjustment</th>\n",
              "      <th>afternoon with the baker</th>\n",
              "      <th>alfajores</th>\n",
              "      <th>argentina night</th>\n",
              "      <th>art tray</th>\n",
              "      <th>bacon</th>\n",
              "      <th>baguette</th>\n",
              "      <th>bakewell</th>\n",
              "      <th>bare popcorn</th>\n",
              "      <th>basket</th>\n",
              "      <th>...</th>\n",
              "      <th>the bart</th>\n",
              "      <th>the nomad</th>\n",
              "      <th>tiffin</th>\n",
              "      <th>toast</th>\n",
              "      <th>truffles</th>\n",
              "      <th>tshirt</th>\n",
              "      <th>valentine's card</th>\n",
              "      <th>vegan feast</th>\n",
              "      <th>vegan mincepie</th>\n",
              "      <th>victorian sponge</th>\n",
              "    </tr>\n",
              "    <tr>\n",
              "      <th>Transaction</th>\n",
              "      <th></th>\n",
              "      <th></th>\n",
              "      <th></th>\n",
              "      <th></th>\n",
              "      <th></th>\n",
              "      <th></th>\n",
              "      <th></th>\n",
              "      <th></th>\n",
              "      <th></th>\n",
              "      <th></th>\n",
              "      <th></th>\n",
              "      <th></th>\n",
              "      <th></th>\n",
              "      <th></th>\n",
              "      <th></th>\n",
              "      <th></th>\n",
              "      <th></th>\n",
              "      <th></th>\n",
              "      <th></th>\n",
              "      <th></th>\n",
              "      <th></th>\n",
              "    </tr>\n",
              "  </thead>\n",
              "  <tbody>\n",
              "    <tr>\n",
              "      <th>1</th>\n",
              "      <td>0.0</td>\n",
              "      <td>0.0</td>\n",
              "      <td>0.0</td>\n",
              "      <td>0.0</td>\n",
              "      <td>0.0</td>\n",
              "      <td>0.0</td>\n",
              "      <td>0.0</td>\n",
              "      <td>0.0</td>\n",
              "      <td>0.0</td>\n",
              "      <td>0.0</td>\n",
              "      <td>...</td>\n",
              "      <td>0.0</td>\n",
              "      <td>0.0</td>\n",
              "      <td>0.0</td>\n",
              "      <td>0.0</td>\n",
              "      <td>0.0</td>\n",
              "      <td>0.0</td>\n",
              "      <td>0.0</td>\n",
              "      <td>0.0</td>\n",
              "      <td>0.0</td>\n",
              "      <td>0.0</td>\n",
              "    </tr>\n",
              "    <tr>\n",
              "      <th>2</th>\n",
              "      <td>0.0</td>\n",
              "      <td>0.0</td>\n",
              "      <td>0.0</td>\n",
              "      <td>0.0</td>\n",
              "      <td>0.0</td>\n",
              "      <td>0.0</td>\n",
              "      <td>0.0</td>\n",
              "      <td>0.0</td>\n",
              "      <td>0.0</td>\n",
              "      <td>0.0</td>\n",
              "      <td>...</td>\n",
              "      <td>0.0</td>\n",
              "      <td>0.0</td>\n",
              "      <td>0.0</td>\n",
              "      <td>0.0</td>\n",
              "      <td>0.0</td>\n",
              "      <td>0.0</td>\n",
              "      <td>0.0</td>\n",
              "      <td>0.0</td>\n",
              "      <td>0.0</td>\n",
              "      <td>0.0</td>\n",
              "    </tr>\n",
              "    <tr>\n",
              "      <th>3</th>\n",
              "      <td>0.0</td>\n",
              "      <td>0.0</td>\n",
              "      <td>0.0</td>\n",
              "      <td>0.0</td>\n",
              "      <td>0.0</td>\n",
              "      <td>0.0</td>\n",
              "      <td>0.0</td>\n",
              "      <td>0.0</td>\n",
              "      <td>0.0</td>\n",
              "      <td>0.0</td>\n",
              "      <td>...</td>\n",
              "      <td>0.0</td>\n",
              "      <td>0.0</td>\n",
              "      <td>0.0</td>\n",
              "      <td>0.0</td>\n",
              "      <td>0.0</td>\n",
              "      <td>0.0</td>\n",
              "      <td>0.0</td>\n",
              "      <td>0.0</td>\n",
              "      <td>0.0</td>\n",
              "      <td>0.0</td>\n",
              "    </tr>\n",
              "    <tr>\n",
              "      <th>4</th>\n",
              "      <td>0.0</td>\n",
              "      <td>0.0</td>\n",
              "      <td>0.0</td>\n",
              "      <td>0.0</td>\n",
              "      <td>0.0</td>\n",
              "      <td>0.0</td>\n",
              "      <td>0.0</td>\n",
              "      <td>0.0</td>\n",
              "      <td>0.0</td>\n",
              "      <td>0.0</td>\n",
              "      <td>...</td>\n",
              "      <td>0.0</td>\n",
              "      <td>0.0</td>\n",
              "      <td>0.0</td>\n",
              "      <td>0.0</td>\n",
              "      <td>0.0</td>\n",
              "      <td>0.0</td>\n",
              "      <td>0.0</td>\n",
              "      <td>0.0</td>\n",
              "      <td>0.0</td>\n",
              "      <td>0.0</td>\n",
              "    </tr>\n",
              "    <tr>\n",
              "      <th>5</th>\n",
              "      <td>0.0</td>\n",
              "      <td>0.0</td>\n",
              "      <td>0.0</td>\n",
              "      <td>0.0</td>\n",
              "      <td>0.0</td>\n",
              "      <td>0.0</td>\n",
              "      <td>0.0</td>\n",
              "      <td>0.0</td>\n",
              "      <td>0.0</td>\n",
              "      <td>0.0</td>\n",
              "      <td>...</td>\n",
              "      <td>0.0</td>\n",
              "      <td>0.0</td>\n",
              "      <td>0.0</td>\n",
              "      <td>0.0</td>\n",
              "      <td>0.0</td>\n",
              "      <td>0.0</td>\n",
              "      <td>0.0</td>\n",
              "      <td>0.0</td>\n",
              "      <td>0.0</td>\n",
              "      <td>0.0</td>\n",
              "    </tr>\n",
              "  </tbody>\n",
              "</table>\n",
              "<p>5 rows × 94 columns</p>\n",
              "</div>"
            ],
            "text/plain": [
              "Item         adjustment  afternoon with the baker  alfajores  argentina night  \\\n",
              "Transaction                                                                     \n",
              "1                   0.0                       0.0        0.0              0.0   \n",
              "2                   0.0                       0.0        0.0              0.0   \n",
              "3                   0.0                       0.0        0.0              0.0   \n",
              "4                   0.0                       0.0        0.0              0.0   \n",
              "5                   0.0                       0.0        0.0              0.0   \n",
              "\n",
              "Item         art tray  bacon  baguette  bakewell  bare popcorn  basket  \\\n",
              "Transaction                                                              \n",
              "1                 0.0    0.0       0.0       0.0           0.0     0.0   \n",
              "2                 0.0    0.0       0.0       0.0           0.0     0.0   \n",
              "3                 0.0    0.0       0.0       0.0           0.0     0.0   \n",
              "4                 0.0    0.0       0.0       0.0           0.0     0.0   \n",
              "5                 0.0    0.0       0.0       0.0           0.0     0.0   \n",
              "\n",
              "Item               ...         the bart  the nomad  tiffin  toast  truffles  \\\n",
              "Transaction        ...                                                        \n",
              "1                  ...              0.0        0.0     0.0    0.0       0.0   \n",
              "2                  ...              0.0        0.0     0.0    0.0       0.0   \n",
              "3                  ...              0.0        0.0     0.0    0.0       0.0   \n",
              "4                  ...              0.0        0.0     0.0    0.0       0.0   \n",
              "5                  ...              0.0        0.0     0.0    0.0       0.0   \n",
              "\n",
              "Item         tshirt  valentine's card  vegan feast  vegan mincepie  \\\n",
              "Transaction                                                          \n",
              "1               0.0               0.0          0.0             0.0   \n",
              "2               0.0               0.0          0.0             0.0   \n",
              "3               0.0               0.0          0.0             0.0   \n",
              "4               0.0               0.0          0.0             0.0   \n",
              "5               0.0               0.0          0.0             0.0   \n",
              "\n",
              "Item         victorian sponge  \n",
              "Transaction                    \n",
              "1                         0.0  \n",
              "2                         0.0  \n",
              "3                         0.0  \n",
              "4                         0.0  \n",
              "5                         0.0  \n",
              "\n",
              "[5 rows x 94 columns]"
            ]
          },
          "metadata": {
            "tags": []
          },
          "execution_count": 7
        }
      ]
    },
    {
      "cell_type": "markdown",
      "metadata": {
        "_uuid": "2d3ad8810e811fccb77b8b129862e997d4753469",
        "id": "n52uBWhncNm7",
        "colab_type": "text"
      },
      "source": [
        "Above line of code is to transfrom the data to make items as columns and each transaction as a row and count same Items bought in one transaction but fill other cloumns of the row with 0 to represent item which are not bought."
      ]
    },
    {
      "cell_type": "code",
      "metadata": {
        "_uuid": "a06868c6ddc7d4aa356740eb30924e6c27970004",
        "id": "cYsblVpAcNm8",
        "colab_type": "code",
        "colab": {}
      },
      "source": [
        "def encode_units(x):\n",
        "    if x <=  0:\n",
        "        return 0\n",
        "    if x >=  1:\n",
        "        return 1\n",
        "hot_encoded_bakery  =  hot_encoded_bakery.applymap(encode_units)"
      ],
      "execution_count": 0,
      "outputs": []
    },
    {
      "cell_type": "markdown",
      "metadata": {
        "id": "PfWnWHI5cNm-",
        "colab_type": "text"
      },
      "source": [
        "__Choice of support and confidence__<br/>\n",
        "- The first step in order to create a set of association rules is to determine the optimal thresholds for __support and confidence__. \n",
        "- If we set these values __too low__, then the algorithm will take __longer to execute__ and we will get a __lot of rules__ (most of them will not be useful). \n",
        "- Further we will use __confidence__ for __sorting__ purpose and to find the most important relationships."
      ]
    },
    {
      "cell_type": "markdown",
      "metadata": {
        "_uuid": "2d3ad8810e811fccb77b8b129862e997d4753469",
        "id": "q2JDdBoycNm_",
        "colab_type": "text"
      },
      "source": [
        "Using __min_support__ as __0.01__ to be the threshhold"
      ]
    },
    {
      "cell_type": "code",
      "metadata": {
        "_uuid": "0cd26e72810c6a9b5e38e8fb9e5439f97da04bc5",
        "id": "1bLjiaDPcNnA",
        "colab_type": "code",
        "colab": {}
      },
      "source": [
        "frequent_itemsets  =  apriori(hot_encoded_bakery, min_support = 0.01, use_colnames = True)"
      ],
      "execution_count": 0,
      "outputs": []
    },
    {
      "cell_type": "markdown",
      "metadata": {
        "_uuid": "c9869d974a72b4abdd5b28ba8884df9c3d0db2cf",
        "id": "Q9LGzYCBcNnF",
        "colab_type": "text"
      },
      "source": [
        "- Support is an indication of how frequently the itemset appears in the dataset.\n",
        "- Confidence is an indication of how often the rule has been found to be true."
      ]
    },
    {
      "cell_type": "code",
      "metadata": {
        "_uuid": "550749132316d6ee184653b1f44acc023e8c5a24",
        "id": "6uy9QNyvcNnJ",
        "colab_type": "code",
        "colab": {},
        "outputId": "3af6cd2f-bace-42a2-da0a-58774d2070cd"
      },
      "source": [
        "rules  =  association_rules(frequent_itemsets, metric = \"lift\", min_threshold = 1)\n",
        "rules.head(10)"
      ],
      "execution_count": 0,
      "outputs": [
        {
          "output_type": "execute_result",
          "data": {
            "text/html": [
              "<div>\n",
              "<style scoped>\n",
              "    .dataframe tbody tr th:only-of-type {\n",
              "        vertical-align: middle;\n",
              "    }\n",
              "\n",
              "    .dataframe tbody tr th {\n",
              "        vertical-align: top;\n",
              "    }\n",
              "\n",
              "    .dataframe thead th {\n",
              "        text-align: right;\n",
              "    }\n",
              "</style>\n",
              "<table border=\"1\" class=\"dataframe\">\n",
              "  <thead>\n",
              "    <tr style=\"text-align: right;\">\n",
              "      <th></th>\n",
              "      <th>antecedents</th>\n",
              "      <th>consequents</th>\n",
              "      <th>antecedent support</th>\n",
              "      <th>consequent support</th>\n",
              "      <th>support</th>\n",
              "      <th>confidence</th>\n",
              "      <th>lift</th>\n",
              "      <th>leverage</th>\n",
              "      <th>conviction</th>\n",
              "    </tr>\n",
              "  </thead>\n",
              "  <tbody>\n",
              "    <tr>\n",
              "      <th>0</th>\n",
              "      <td>(alfajores)</td>\n",
              "      <td>(coffee)</td>\n",
              "      <td>0.036344</td>\n",
              "      <td>0.478394</td>\n",
              "      <td>0.019651</td>\n",
              "      <td>0.540698</td>\n",
              "      <td>1.130235</td>\n",
              "      <td>0.002264</td>\n",
              "      <td>1.135648</td>\n",
              "    </tr>\n",
              "    <tr>\n",
              "      <th>1</th>\n",
              "      <td>(coffee)</td>\n",
              "      <td>(alfajores)</td>\n",
              "      <td>0.478394</td>\n",
              "      <td>0.036344</td>\n",
              "      <td>0.019651</td>\n",
              "      <td>0.041078</td>\n",
              "      <td>1.130235</td>\n",
              "      <td>0.002264</td>\n",
              "      <td>1.004936</td>\n",
              "    </tr>\n",
              "    <tr>\n",
              "      <th>2</th>\n",
              "      <td>(pastry)</td>\n",
              "      <td>(bread)</td>\n",
              "      <td>0.086107</td>\n",
              "      <td>0.327205</td>\n",
              "      <td>0.029160</td>\n",
              "      <td>0.338650</td>\n",
              "      <td>1.034977</td>\n",
              "      <td>0.000985</td>\n",
              "      <td>1.017305</td>\n",
              "    </tr>\n",
              "    <tr>\n",
              "      <th>3</th>\n",
              "      <td>(bread)</td>\n",
              "      <td>(pastry)</td>\n",
              "      <td>0.327205</td>\n",
              "      <td>0.086107</td>\n",
              "      <td>0.029160</td>\n",
              "      <td>0.089119</td>\n",
              "      <td>1.034977</td>\n",
              "      <td>0.000985</td>\n",
              "      <td>1.003306</td>\n",
              "    </tr>\n",
              "    <tr>\n",
              "      <th>4</th>\n",
              "      <td>(coffee)</td>\n",
              "      <td>(brownie)</td>\n",
              "      <td>0.478394</td>\n",
              "      <td>0.040042</td>\n",
              "      <td>0.019651</td>\n",
              "      <td>0.041078</td>\n",
              "      <td>1.025860</td>\n",
              "      <td>0.000495</td>\n",
              "      <td>1.001080</td>\n",
              "    </tr>\n",
              "    <tr>\n",
              "      <th>5</th>\n",
              "      <td>(brownie)</td>\n",
              "      <td>(coffee)</td>\n",
              "      <td>0.040042</td>\n",
              "      <td>0.478394</td>\n",
              "      <td>0.019651</td>\n",
              "      <td>0.490765</td>\n",
              "      <td>1.025860</td>\n",
              "      <td>0.000495</td>\n",
              "      <td>1.024293</td>\n",
              "    </tr>\n",
              "    <tr>\n",
              "      <th>6</th>\n",
              "      <td>(coffee)</td>\n",
              "      <td>(cake)</td>\n",
              "      <td>0.478394</td>\n",
              "      <td>0.103856</td>\n",
              "      <td>0.054728</td>\n",
              "      <td>0.114399</td>\n",
              "      <td>1.101515</td>\n",
              "      <td>0.005044</td>\n",
              "      <td>1.011905</td>\n",
              "    </tr>\n",
              "    <tr>\n",
              "      <th>7</th>\n",
              "      <td>(cake)</td>\n",
              "      <td>(coffee)</td>\n",
              "      <td>0.103856</td>\n",
              "      <td>0.478394</td>\n",
              "      <td>0.054728</td>\n",
              "      <td>0.526958</td>\n",
              "      <td>1.101515</td>\n",
              "      <td>0.005044</td>\n",
              "      <td>1.102664</td>\n",
              "    </tr>\n",
              "    <tr>\n",
              "      <th>8</th>\n",
              "      <td>(cake)</td>\n",
              "      <td>(hot chocolate)</td>\n",
              "      <td>0.103856</td>\n",
              "      <td>0.058320</td>\n",
              "      <td>0.011410</td>\n",
              "      <td>0.109868</td>\n",
              "      <td>1.883874</td>\n",
              "      <td>0.005354</td>\n",
              "      <td>1.057910</td>\n",
              "    </tr>\n",
              "    <tr>\n",
              "      <th>9</th>\n",
              "      <td>(hot chocolate)</td>\n",
              "      <td>(cake)</td>\n",
              "      <td>0.058320</td>\n",
              "      <td>0.103856</td>\n",
              "      <td>0.011410</td>\n",
              "      <td>0.195652</td>\n",
              "      <td>1.883874</td>\n",
              "      <td>0.005354</td>\n",
              "      <td>1.114125</td>\n",
              "    </tr>\n",
              "  </tbody>\n",
              "</table>\n",
              "</div>"
            ],
            "text/plain": [
              "       antecedents      consequents  antecedent support  consequent support  \\\n",
              "0      (alfajores)         (coffee)            0.036344            0.478394   \n",
              "1         (coffee)      (alfajores)            0.478394            0.036344   \n",
              "2         (pastry)          (bread)            0.086107            0.327205   \n",
              "3          (bread)         (pastry)            0.327205            0.086107   \n",
              "4         (coffee)        (brownie)            0.478394            0.040042   \n",
              "5        (brownie)         (coffee)            0.040042            0.478394   \n",
              "6         (coffee)           (cake)            0.478394            0.103856   \n",
              "7           (cake)         (coffee)            0.103856            0.478394   \n",
              "8           (cake)  (hot chocolate)            0.103856            0.058320   \n",
              "9  (hot chocolate)           (cake)            0.058320            0.103856   \n",
              "\n",
              "    support  confidence      lift  leverage  conviction  \n",
              "0  0.019651    0.540698  1.130235  0.002264    1.135648  \n",
              "1  0.019651    0.041078  1.130235  0.002264    1.004936  \n",
              "2  0.029160    0.338650  1.034977  0.000985    1.017305  \n",
              "3  0.029160    0.089119  1.034977  0.000985    1.003306  \n",
              "4  0.019651    0.041078  1.025860  0.000495    1.001080  \n",
              "5  0.019651    0.490765  1.025860  0.000495    1.024293  \n",
              "6  0.054728    0.114399  1.101515  0.005044    1.011905  \n",
              "7  0.054728    0.526958  1.101515  0.005044    1.102664  \n",
              "8  0.011410    0.109868  1.883874  0.005354    1.057910  \n",
              "9  0.011410    0.195652  1.883874  0.005354    1.114125  "
            ]
          },
          "metadata": {
            "tags": []
          },
          "execution_count": 10
        }
      ]
    },
    {
      "cell_type": "code",
      "metadata": {
        "id": "4D6n_lZucNnN",
        "colab_type": "code",
        "colab": {},
        "outputId": "490fcb31-66ce-4923-ae0b-7412efe70dae"
      },
      "source": [
        "rules.sort_values('confidence', ascending  =  False, inplace  =  True)\n",
        "rules.head(10)"
      ],
      "execution_count": 0,
      "outputs": [
        {
          "output_type": "execute_result",
          "data": {
            "text/html": [
              "<div>\n",
              "<style scoped>\n",
              "    .dataframe tbody tr th:only-of-type {\n",
              "        vertical-align: middle;\n",
              "    }\n",
              "\n",
              "    .dataframe tbody tr th {\n",
              "        vertical-align: top;\n",
              "    }\n",
              "\n",
              "    .dataframe thead th {\n",
              "        text-align: right;\n",
              "    }\n",
              "</style>\n",
              "<table border=\"1\" class=\"dataframe\">\n",
              "  <thead>\n",
              "    <tr style=\"text-align: right;\">\n",
              "      <th></th>\n",
              "      <th>antecedents</th>\n",
              "      <th>consequents</th>\n",
              "      <th>antecedent support</th>\n",
              "      <th>consequent support</th>\n",
              "      <th>support</th>\n",
              "      <th>confidence</th>\n",
              "      <th>lift</th>\n",
              "      <th>leverage</th>\n",
              "      <th>conviction</th>\n",
              "    </tr>\n",
              "  </thead>\n",
              "  <tbody>\n",
              "    <tr>\n",
              "      <th>31</th>\n",
              "      <td>(toast)</td>\n",
              "      <td>(coffee)</td>\n",
              "      <td>0.033597</td>\n",
              "      <td>0.478394</td>\n",
              "      <td>0.023666</td>\n",
              "      <td>0.704403</td>\n",
              "      <td>1.472431</td>\n",
              "      <td>0.007593</td>\n",
              "      <td>1.764582</td>\n",
              "    </tr>\n",
              "    <tr>\n",
              "      <th>29</th>\n",
              "      <td>(spanish brunch)</td>\n",
              "      <td>(coffee)</td>\n",
              "      <td>0.018172</td>\n",
              "      <td>0.478394</td>\n",
              "      <td>0.010882</td>\n",
              "      <td>0.598837</td>\n",
              "      <td>1.251766</td>\n",
              "      <td>0.002189</td>\n",
              "      <td>1.300235</td>\n",
              "    </tr>\n",
              "    <tr>\n",
              "      <th>18</th>\n",
              "      <td>(medialuna)</td>\n",
              "      <td>(coffee)</td>\n",
              "      <td>0.061807</td>\n",
              "      <td>0.478394</td>\n",
              "      <td>0.035182</td>\n",
              "      <td>0.569231</td>\n",
              "      <td>1.189878</td>\n",
              "      <td>0.005614</td>\n",
              "      <td>1.210871</td>\n",
              "    </tr>\n",
              "    <tr>\n",
              "      <th>22</th>\n",
              "      <td>(pastry)</td>\n",
              "      <td>(coffee)</td>\n",
              "      <td>0.086107</td>\n",
              "      <td>0.478394</td>\n",
              "      <td>0.047544</td>\n",
              "      <td>0.552147</td>\n",
              "      <td>1.154168</td>\n",
              "      <td>0.006351</td>\n",
              "      <td>1.164682</td>\n",
              "    </tr>\n",
              "    <tr>\n",
              "      <th>0</th>\n",
              "      <td>(alfajores)</td>\n",
              "      <td>(coffee)</td>\n",
              "      <td>0.036344</td>\n",
              "      <td>0.478394</td>\n",
              "      <td>0.019651</td>\n",
              "      <td>0.540698</td>\n",
              "      <td>1.130235</td>\n",
              "      <td>0.002264</td>\n",
              "      <td>1.135648</td>\n",
              "    </tr>\n",
              "    <tr>\n",
              "      <th>17</th>\n",
              "      <td>(juice)</td>\n",
              "      <td>(coffee)</td>\n",
              "      <td>0.038563</td>\n",
              "      <td>0.478394</td>\n",
              "      <td>0.020602</td>\n",
              "      <td>0.534247</td>\n",
              "      <td>1.116750</td>\n",
              "      <td>0.002154</td>\n",
              "      <td>1.119919</td>\n",
              "    </tr>\n",
              "    <tr>\n",
              "      <th>24</th>\n",
              "      <td>(sandwich)</td>\n",
              "      <td>(coffee)</td>\n",
              "      <td>0.071844</td>\n",
              "      <td>0.478394</td>\n",
              "      <td>0.038246</td>\n",
              "      <td>0.532353</td>\n",
              "      <td>1.112792</td>\n",
              "      <td>0.003877</td>\n",
              "      <td>1.115384</td>\n",
              "    </tr>\n",
              "    <tr>\n",
              "      <th>7</th>\n",
              "      <td>(cake)</td>\n",
              "      <td>(coffee)</td>\n",
              "      <td>0.103856</td>\n",
              "      <td>0.478394</td>\n",
              "      <td>0.054728</td>\n",
              "      <td>0.526958</td>\n",
              "      <td>1.101515</td>\n",
              "      <td>0.005044</td>\n",
              "      <td>1.102664</td>\n",
              "    </tr>\n",
              "    <tr>\n",
              "      <th>26</th>\n",
              "      <td>(scone)</td>\n",
              "      <td>(coffee)</td>\n",
              "      <td>0.034548</td>\n",
              "      <td>0.478394</td>\n",
              "      <td>0.018067</td>\n",
              "      <td>0.522936</td>\n",
              "      <td>1.093107</td>\n",
              "      <td>0.001539</td>\n",
              "      <td>1.093366</td>\n",
              "    </tr>\n",
              "    <tr>\n",
              "      <th>13</th>\n",
              "      <td>(cookies)</td>\n",
              "      <td>(coffee)</td>\n",
              "      <td>0.054411</td>\n",
              "      <td>0.478394</td>\n",
              "      <td>0.028209</td>\n",
              "      <td>0.518447</td>\n",
              "      <td>1.083723</td>\n",
              "      <td>0.002179</td>\n",
              "      <td>1.083174</td>\n",
              "    </tr>\n",
              "  </tbody>\n",
              "</table>\n",
              "</div>"
            ],
            "text/plain": [
              "         antecedents consequents  antecedent support  consequent support  \\\n",
              "31           (toast)    (coffee)            0.033597            0.478394   \n",
              "29  (spanish brunch)    (coffee)            0.018172            0.478394   \n",
              "18       (medialuna)    (coffee)            0.061807            0.478394   \n",
              "22          (pastry)    (coffee)            0.086107            0.478394   \n",
              "0        (alfajores)    (coffee)            0.036344            0.478394   \n",
              "17           (juice)    (coffee)            0.038563            0.478394   \n",
              "24        (sandwich)    (coffee)            0.071844            0.478394   \n",
              "7             (cake)    (coffee)            0.103856            0.478394   \n",
              "26           (scone)    (coffee)            0.034548            0.478394   \n",
              "13         (cookies)    (coffee)            0.054411            0.478394   \n",
              "\n",
              "     support  confidence      lift  leverage  conviction  \n",
              "31  0.023666    0.704403  1.472431  0.007593    1.764582  \n",
              "29  0.010882    0.598837  1.251766  0.002189    1.300235  \n",
              "18  0.035182    0.569231  1.189878  0.005614    1.210871  \n",
              "22  0.047544    0.552147  1.154168  0.006351    1.164682  \n",
              "0   0.019651    0.540698  1.130235  0.002264    1.135648  \n",
              "17  0.020602    0.534247  1.116750  0.002154    1.119919  \n",
              "24  0.038246    0.532353  1.112792  0.003877    1.115384  \n",
              "7   0.054728    0.526958  1.101515  0.005044    1.102664  \n",
              "26  0.018067    0.522936  1.093107  0.001539    1.093366  \n",
              "13  0.028209    0.518447  1.083723  0.002179    1.083174  "
            ]
          },
          "metadata": {
            "tags": []
          },
          "execution_count": 11
        }
      ]
    },
    {
      "cell_type": "markdown",
      "metadata": {
        "_uuid": "ab23d18d038a45966258a6bc797a7e157d58d118",
        "id": "NeTala-vcNnS",
        "colab_type": "text"
      },
      "source": [
        "To explain how to draw inference explore the first rule we can see that toast and coffee are commonly bought together. This makes sense since people who purchase toast would like to have coffee with it.\n",
        "\n",
        "- The __support value__ for the this rule is __0.023666__. This number is calculated by dividing the number of transactions containing toast divided by total number of transactions. \n",
        "- The __confidence level__ for the rule is __0.704403__ which shows that out of all the transactions that contain toast , 70.44% of the transactions also contain coffee. \n",
        "- Finally, the __lift__ of __1.47__ tells us that coffee is 1.47 times more likely to be bought by the customers who buy toast compared to the default likelihood of the sale of coffee."
      ]
    },
    {
      "cell_type": "markdown",
      "metadata": {
        "id": "AucVyfQNcNnT",
        "colab_type": "text"
      },
      "source": [
        "For observing the rules where __confidence__ is __greater__ than or equal to __0.55__"
      ]
    },
    {
      "cell_type": "code",
      "metadata": {
        "id": "RkNl4upZcNnW",
        "colab_type": "code",
        "colab": {},
        "outputId": "f58711dd-9a7c-4bbc-ad7f-9355bfc63381"
      },
      "source": [
        "rules = rules[rules['confidence']>= 0.55]\n",
        "rules.head()"
      ],
      "execution_count": 0,
      "outputs": [
        {
          "output_type": "execute_result",
          "data": {
            "text/html": [
              "<div>\n",
              "<style scoped>\n",
              "    .dataframe tbody tr th:only-of-type {\n",
              "        vertical-align: middle;\n",
              "    }\n",
              "\n",
              "    .dataframe tbody tr th {\n",
              "        vertical-align: top;\n",
              "    }\n",
              "\n",
              "    .dataframe thead th {\n",
              "        text-align: right;\n",
              "    }\n",
              "</style>\n",
              "<table border=\"1\" class=\"dataframe\">\n",
              "  <thead>\n",
              "    <tr style=\"text-align: right;\">\n",
              "      <th></th>\n",
              "      <th>antecedents</th>\n",
              "      <th>consequents</th>\n",
              "      <th>antecedent support</th>\n",
              "      <th>consequent support</th>\n",
              "      <th>support</th>\n",
              "      <th>confidence</th>\n",
              "      <th>lift</th>\n",
              "      <th>leverage</th>\n",
              "      <th>conviction</th>\n",
              "    </tr>\n",
              "  </thead>\n",
              "  <tbody>\n",
              "    <tr>\n",
              "      <th>31</th>\n",
              "      <td>(toast)</td>\n",
              "      <td>(coffee)</td>\n",
              "      <td>0.033597</td>\n",
              "      <td>0.478394</td>\n",
              "      <td>0.023666</td>\n",
              "      <td>0.704403</td>\n",
              "      <td>1.472431</td>\n",
              "      <td>0.007593</td>\n",
              "      <td>1.764582</td>\n",
              "    </tr>\n",
              "    <tr>\n",
              "      <th>29</th>\n",
              "      <td>(spanish brunch)</td>\n",
              "      <td>(coffee)</td>\n",
              "      <td>0.018172</td>\n",
              "      <td>0.478394</td>\n",
              "      <td>0.010882</td>\n",
              "      <td>0.598837</td>\n",
              "      <td>1.251766</td>\n",
              "      <td>0.002189</td>\n",
              "      <td>1.300235</td>\n",
              "    </tr>\n",
              "    <tr>\n",
              "      <th>18</th>\n",
              "      <td>(medialuna)</td>\n",
              "      <td>(coffee)</td>\n",
              "      <td>0.061807</td>\n",
              "      <td>0.478394</td>\n",
              "      <td>0.035182</td>\n",
              "      <td>0.569231</td>\n",
              "      <td>1.189878</td>\n",
              "      <td>0.005614</td>\n",
              "      <td>1.210871</td>\n",
              "    </tr>\n",
              "    <tr>\n",
              "      <th>22</th>\n",
              "      <td>(pastry)</td>\n",
              "      <td>(coffee)</td>\n",
              "      <td>0.086107</td>\n",
              "      <td>0.478394</td>\n",
              "      <td>0.047544</td>\n",
              "      <td>0.552147</td>\n",
              "      <td>1.154168</td>\n",
              "      <td>0.006351</td>\n",
              "      <td>1.164682</td>\n",
              "    </tr>\n",
              "  </tbody>\n",
              "</table>\n",
              "</div>"
            ],
            "text/plain": [
              "         antecedents consequents  antecedent support  consequent support  \\\n",
              "31           (toast)    (coffee)            0.033597            0.478394   \n",
              "29  (spanish brunch)    (coffee)            0.018172            0.478394   \n",
              "18       (medialuna)    (coffee)            0.061807            0.478394   \n",
              "22          (pastry)    (coffee)            0.086107            0.478394   \n",
              "\n",
              "     support  confidence      lift  leverage  conviction  \n",
              "31  0.023666    0.704403  1.472431  0.007593    1.764582  \n",
              "29  0.010882    0.598837  1.251766  0.002189    1.300235  \n",
              "18  0.035182    0.569231  1.189878  0.005614    1.210871  \n",
              "22  0.047544    0.552147  1.154168  0.006351    1.164682  "
            ]
          },
          "metadata": {
            "tags": []
          },
          "execution_count": 12
        }
      ]
    },
    {
      "cell_type": "markdown",
      "metadata": {
        "id": "5Z38iMFVcNnc",
        "colab_type": "text"
      },
      "source": [
        "__How do we interpret these rules?__\n",
        "\n",
        "- __55%__ of the customers who bought a __pastry__ also bought a _coffee_.\n",
        "\n",
        "- __60%__ of the customers who bought a __spanish__ brunch also bought a _coffee_.\n",
        "\n",
        "- __70%__ of the customers who bought a __toast__ also bought a _coffee_.\n",
        "\n",
        "And so on."
      ]
    },
    {
      "cell_type": "markdown",
      "metadata": {
        "id": "_9WSK0GUcNnc",
        "colab_type": "text"
      },
      "source": [
        "- Visualizing the association"
      ]
    },
    {
      "cell_type": "code",
      "metadata": {
        "id": "67-Fr19pcNnd",
        "colab_type": "code",
        "colab": {},
        "outputId": "e94bffe8-2efd-4153-a960-411908174678"
      },
      "source": [
        "import networkx as nx\n",
        "rules.antecedents  =  rules.antecedents.apply(lambda x: next(iter(x)))\n",
        "rules.consequents  =  rules.consequents.apply(lambda x: next(iter(x)))\n",
        "fig, ax = plt.subplots(figsize = (10,6))\n",
        "GA = nx.from_pandas_edgelist(rules,source = 'antecedents',target = 'consequents')\n",
        "nx.draw(GA,with_labels = True)"
      ],
      "execution_count": 0,
      "outputs": [
        {
          "output_type": "display_data",
          "data": {
            "image/png": "[encoded data removed]",
            "text/plain": [
              "<Figure size 720x432 with 1 Axes>"
            ]
          },
          "metadata": {
            "tags": []
          }
        }
      ]
    },
    {
      "cell_type": "markdown",
      "metadata": {
        "id": "vQgpylCwcNng",
        "colab_type": "text"
      },
      "source": [
        "## 6. Conclusion\n",
        "- Coffee is the bestseller of this bakery and it shows association with 4 items- __pastry, toast, medialuna and spanish brunch__. There are a couple of strategies that the bakery can adopt to increase its sales considering the association we have seen between coffee and its 4 partners.\n",
        "<br/>\n"
      ]
    },
    {
      "cell_type": "markdown",
      "metadata": {
        "id": "fXkWxfmqcNng",
        "colab_type": "text"
      },
      "source": [
        "|Example|Strategy|\n",
        ":-------------------------:|:-------------------------:\n",
        "|![](https://github.com/02asmita/Term-4/blob/patch-1/Data/Assignment/Capture.PNG?raw=true)|<font size=\"+1\">__Promotional discount__ in either one of the 4 partners can entice customers to buy coffee</font>|\n",
        "|![](https://github.com/02asmita/Term-4/blob/patch-1/Data/Assignment/601f41a1313e80e1f1f24872b2ae40b0.jpg?raw=true)|<font size=\"+1\">__Placing__ these 4 items __close to coffee__ ordering counter can be a good strategy to attract customers in buying these.</font>|"
      ]
    }
  ]
}