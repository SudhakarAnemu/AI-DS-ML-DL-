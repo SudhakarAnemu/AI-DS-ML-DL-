{
  "nbformat": 4,
  "nbformat_minor": 0,
  "metadata": {
    "colab": {
      "name": "jsPythonBible.ipynb",
      "provenance": [],
      "toc_visible": true,
      "include_colab_link": true
    },
    "kernelspec": {
      "name": "python3",
      "display_name": "Python 3"
    },
    "accelerator": "GPU"
  },
  "cells": [
    {
      "cell_type": "markdown",
      "metadata": {
        "id": "view-in-github",
        "colab_type": "text"
      },
      "source": [
        "<a href=\"https://colab.research.google.com/github/SudhakarAnemu/AI-DS-ML-DL/blob/master/jsPythonBible.ipynb\" target=\"_parent\"><img src=\"https://colab.research.google.com/assets/colab-badge.svg\" alt=\"Open In Colab\"/></a>"
      ]
    },
    {
      "cell_type": "markdown",
      "metadata": {
        "id": "AV_iQCiL8KJS",
        "colab_type": "text"
      },
      "source": [
        "# 1. Importing required packages"
      ]
    },
    {
      "cell_type": "code",
      "metadata": {
        "id": "1Glcj8D57gzU",
        "colab_type": "code",
        "outputId": "c7e10195-06c9-4512-dad6-0a5ea98767d6",
        "colab": {
          "base_uri": "https://localhost:8080/",
          "height": 35
        }
      },
      "source": [
        "import random\n",
        "import math\n",
        "import string\n",
        "print(\"Import of modules - Done\")"
      ],
      "execution_count": 0,
      "outputs": [
        {
          "output_type": "stream",
          "text": [
            "Import of modules - Done\n"
          ],
          "name": "stdout"
        }
      ]
    },
    {
      "cell_type": "markdown",
      "metadata": {
        "id": "k-WPdDve7k3c",
        "colab_type": "text"
      },
      "source": [
        "# 2. Playing with Numbers"
      ]
    },
    {
      "cell_type": "code",
      "metadata": {
        "id": "HYJX0EAn7rfl",
        "colab_type": "code",
        "colab": {}
      },
      "source": [
        ""
      ],
      "execution_count": 0,
      "outputs": []
    },
    {
      "cell_type": "code",
      "metadata": {
        "id": "0vBrZdCC8qRH",
        "colab_type": "code",
        "outputId": "65097ce2-6f92-4ecd-f8c8-84e289e4eaee",
        "colab": {
          "base_uri": "https://localhost:8080/",
          "height": 72
        }
      },
      "source": [
        "health = 50\n",
        "print(\"Value of the health variable is : \", health)\n",
        "diff = 1\n",
        "portion_health = int(random.randint(25,50)/diff)\n",
        "print(\"Value of the Portion of : \", portion_health)\n",
        "health = health + portion_health\n",
        "print(\"Adding both healths : \", health)"
      ],
      "execution_count": 0,
      "outputs": [
        {
          "output_type": "stream",
          "text": [
            "Value of the health variable is :  50\n",
            "Value of the Portion of :  27\n",
            "Adding both healths :  77\n"
          ],
          "name": "stdout"
        }
      ]
    },
    {
      "cell_type": "code",
      "metadata": {
        "id": "jG2leKf2OJCu",
        "colab_type": "code",
        "outputId": "46ce4907-21f9-427b-cd88-e774922c97ea",
        "colab": {
          "base_uri": "https://localhost:8080/",
          "height": 1000
        }
      },
      "source": [
        "help(health)"
      ],
      "execution_count": 0,
      "outputs": [
        {
          "output_type": "stream",
          "text": [
            "Help on int object:\n",
            "\n",
            "class int(object)\n",
            " |  int(x=0) -> integer\n",
            " |  int(x, base=10) -> integer\n",
            " |  \n",
            " |  Convert a number or string to an integer, or return 0 if no arguments\n",
            " |  are given.  If x is a number, return x.__int__().  For floating point\n",
            " |  numbers, this truncates towards zero.\n",
            " |  \n",
            " |  If x is not a number or if base is given, then x must be a string,\n",
            " |  bytes, or bytearray instance representing an integer literal in the\n",
            " |  given base.  The literal can be preceded by '+' or '-' and be surrounded\n",
            " |  by whitespace.  The base defaults to 10.  Valid bases are 0 and 2-36.\n",
            " |  Base 0 means to interpret the base from the string as an integer literal.\n",
            " |  >>> int('0b100', base=0)\n",
            " |  4\n",
            " |  \n",
            " |  Methods defined here:\n",
            " |  \n",
            " |  __abs__(self, /)\n",
            " |      abs(self)\n",
            " |  \n",
            " |  __add__(self, value, /)\n",
            " |      Return self+value.\n",
            " |  \n",
            " |  __and__(self, value, /)\n",
            " |      Return self&value.\n",
            " |  \n",
            " |  __bool__(self, /)\n",
            " |      self != 0\n",
            " |  \n",
            " |  __ceil__(...)\n",
            " |      Ceiling of an Integral returns itself.\n",
            " |  \n",
            " |  __divmod__(self, value, /)\n",
            " |      Return divmod(self, value).\n",
            " |  \n",
            " |  __eq__(self, value, /)\n",
            " |      Return self==value.\n",
            " |  \n",
            " |  __float__(self, /)\n",
            " |      float(self)\n",
            " |  \n",
            " |  __floor__(...)\n",
            " |      Flooring an Integral returns itself.\n",
            " |  \n",
            " |  __floordiv__(self, value, /)\n",
            " |      Return self//value.\n",
            " |  \n",
            " |  __format__(...)\n",
            " |      default object formatter\n",
            " |  \n",
            " |  __ge__(self, value, /)\n",
            " |      Return self>=value.\n",
            " |  \n",
            " |  __getattribute__(self, name, /)\n",
            " |      Return getattr(self, name).\n",
            " |  \n",
            " |  __getnewargs__(...)\n",
            " |  \n",
            " |  __gt__(self, value, /)\n",
            " |      Return self>value.\n",
            " |  \n",
            " |  __hash__(self, /)\n",
            " |      Return hash(self).\n",
            " |  \n",
            " |  __index__(self, /)\n",
            " |      Return self converted to an integer, if self is suitable for use as an index into a list.\n",
            " |  \n",
            " |  __int__(self, /)\n",
            " |      int(self)\n",
            " |  \n",
            " |  __invert__(self, /)\n",
            " |      ~self\n",
            " |  \n",
            " |  __le__(self, value, /)\n",
            " |      Return self<=value.\n",
            " |  \n",
            " |  __lshift__(self, value, /)\n",
            " |      Return self<<value.\n",
            " |  \n",
            " |  __lt__(self, value, /)\n",
            " |      Return self<value.\n",
            " |  \n",
            " |  __mod__(self, value, /)\n",
            " |      Return self%value.\n",
            " |  \n",
            " |  __mul__(self, value, /)\n",
            " |      Return self*value.\n",
            " |  \n",
            " |  __ne__(self, value, /)\n",
            " |      Return self!=value.\n",
            " |  \n",
            " |  __neg__(self, /)\n",
            " |      -self\n",
            " |  \n",
            " |  __new__(*args, **kwargs) from builtins.type\n",
            " |      Create and return a new object.  See help(type) for accurate signature.\n",
            " |  \n",
            " |  __or__(self, value, /)\n",
            " |      Return self|value.\n",
            " |  \n",
            " |  __pos__(self, /)\n",
            " |      +self\n",
            " |  \n",
            " |  __pow__(self, value, mod=None, /)\n",
            " |      Return pow(self, value, mod).\n",
            " |  \n",
            " |  __radd__(self, value, /)\n",
            " |      Return value+self.\n",
            " |  \n",
            " |  __rand__(self, value, /)\n",
            " |      Return value&self.\n",
            " |  \n",
            " |  __rdivmod__(self, value, /)\n",
            " |      Return divmod(value, self).\n",
            " |  \n",
            " |  __repr__(self, /)\n",
            " |      Return repr(self).\n",
            " |  \n",
            " |  __rfloordiv__(self, value, /)\n",
            " |      Return value//self.\n",
            " |  \n",
            " |  __rlshift__(self, value, /)\n",
            " |      Return value<<self.\n",
            " |  \n",
            " |  __rmod__(self, value, /)\n",
            " |      Return value%self.\n",
            " |  \n",
            " |  __rmul__(self, value, /)\n",
            " |      Return value*self.\n",
            " |  \n",
            " |  __ror__(self, value, /)\n",
            " |      Return value|self.\n",
            " |  \n",
            " |  __round__(...)\n",
            " |      Rounding an Integral returns itself.\n",
            " |      Rounding with an ndigits argument also returns an integer.\n",
            " |  \n",
            " |  __rpow__(self, value, mod=None, /)\n",
            " |      Return pow(value, self, mod).\n",
            " |  \n",
            " |  __rrshift__(self, value, /)\n",
            " |      Return value>>self.\n",
            " |  \n",
            " |  __rshift__(self, value, /)\n",
            " |      Return self>>value.\n",
            " |  \n",
            " |  __rsub__(self, value, /)\n",
            " |      Return value-self.\n",
            " |  \n",
            " |  __rtruediv__(self, value, /)\n",
            " |      Return value/self.\n",
            " |  \n",
            " |  __rxor__(self, value, /)\n",
            " |      Return value^self.\n",
            " |  \n",
            " |  __sizeof__(...)\n",
            " |      Returns size in memory, in bytes\n",
            " |  \n",
            " |  __str__(self, /)\n",
            " |      Return str(self).\n",
            " |  \n",
            " |  __sub__(self, value, /)\n",
            " |      Return self-value.\n",
            " |  \n",
            " |  __truediv__(self, value, /)\n",
            " |      Return self/value.\n",
            " |  \n",
            " |  __trunc__(...)\n",
            " |      Truncating an Integral returns itself.\n",
            " |  \n",
            " |  __xor__(self, value, /)\n",
            " |      Return self^value.\n",
            " |  \n",
            " |  bit_length(...)\n",
            " |      int.bit_length() -> int\n",
            " |      \n",
            " |      Number of bits necessary to represent self in binary.\n",
            " |      >>> bin(37)\n",
            " |      '0b100101'\n",
            " |      >>> (37).bit_length()\n",
            " |      6\n",
            " |  \n",
            " |  conjugate(...)\n",
            " |      Returns self, the complex conjugate of any int.\n",
            " |  \n",
            " |  from_bytes(...) from builtins.type\n",
            " |      int.from_bytes(bytes, byteorder, *, signed=False) -> int\n",
            " |      \n",
            " |      Return the integer represented by the given array of bytes.\n",
            " |      \n",
            " |      The bytes argument must be a bytes-like object (e.g. bytes or bytearray).\n",
            " |      \n",
            " |      The byteorder argument determines the byte order used to represent the\n",
            " |      integer.  If byteorder is 'big', the most significant byte is at the\n",
            " |      beginning of the byte array.  If byteorder is 'little', the most\n",
            " |      significant byte is at the end of the byte array.  To request the native\n",
            " |      byte order of the host system, use `sys.byteorder' as the byte order value.\n",
            " |      \n",
            " |      The signed keyword-only argument indicates whether two's complement is\n",
            " |      used to represent the integer.\n",
            " |  \n",
            " |  to_bytes(...)\n",
            " |      int.to_bytes(length, byteorder, *, signed=False) -> bytes\n",
            " |      \n",
            " |      Return an array of bytes representing an integer.\n",
            " |      \n",
            " |      The integer is represented using length bytes.  An OverflowError is\n",
            " |      raised if the integer is not representable with the given number of\n",
            " |      bytes.\n",
            " |      \n",
            " |      The byteorder argument determines the byte order used to represent the\n",
            " |      integer.  If byteorder is 'big', the most significant byte is at the\n",
            " |      beginning of the byte array.  If byteorder is 'little', the most\n",
            " |      significant byte is at the end of the byte array.  To request the native\n",
            " |      byte order of the host system, use `sys.byteorder' as the byte order value.\n",
            " |      \n",
            " |      The signed keyword-only argument determines whether two's complement is\n",
            " |      used to represent the integer.  If signed is False and a negative integer\n",
            " |      is given, an OverflowError is raised.\n",
            " |  \n",
            " |  ----------------------------------------------------------------------\n",
            " |  Data descriptors defined here:\n",
            " |  \n",
            " |  denominator\n",
            " |      the denominator of a rational number in lowest terms\n",
            " |  \n",
            " |  imag\n",
            " |      the imaginary part of a complex number\n",
            " |  \n",
            " |  numerator\n",
            " |      the numerator of a rational number in lowest terms\n",
            " |  \n",
            " |  real\n",
            " |      the real part of a complex number\n",
            "\n"
          ],
          "name": "stdout"
        }
      ]
    },
    {
      "cell_type": "markdown",
      "metadata": {
        "id": "60I6YgxcPKWY",
        "colab_type": "text"
      },
      "source": [
        "# 3. Math Functions"
      ]
    },
    {
      "cell_type": "code",
      "metadata": {
        "id": "G4GdMFBRPJbD",
        "colab_type": "code",
        "outputId": "ac66e0fc-3bda-4283-b0d6-d8367aa6d457",
        "colab": {
          "base_uri": "https://localhost:8080/",
          "height": 290
        }
      },
      "source": [
        "a = 1.5\n",
        "print(\"a round : \", round(a))\n",
        "print(\"a floor : \", math.floor(a))\n",
        "print(\"a ceil : \", math.ceil(a))\n",
        "print(\"pi value : \", math.pi)\n",
        "print(\"Sin of pi/2 is \", round(math.sin(math.pi/2)))\n",
        "print(\"Cos of 0 is : \", round(math.cos(0)))\n",
        "print(\"Inverse of Sin 0 : \", round(math.asin(0)))\n",
        "print(\"Power of 3 to 3 is : \", math.pow(3,3))\n",
        "print(\"Power is same as 3 ** 3 : \", 3**3)\n",
        "print(\"Exp of 1 : \", math.exp(1))\n",
        "print(\"Exp of 1 : \", math.exp(2))\n",
        "print(\"Exp of 1 : \", math.exp(3))\n",
        "print(\"Hypot of 3, 4 is : \", math.hypot(3,4)) # In triangle, square of larget line is equels to sum of square of remaining two lines.\n",
        "print(\"Math e : \", math.e)\n",
        "print(\"Log of math e : \", math.log(math.e))\n",
        "# print(math.log2(3))"
      ],
      "execution_count": 0,
      "outputs": [
        {
          "output_type": "stream",
          "text": [
            "a round :  2\n",
            "a floor :  1\n",
            "a ceil :  2\n",
            "pi value :  3.141592653589793\n",
            "Sin of pi/2 is  1\n",
            "Cos of 0 is :  1\n",
            "Inverse of Sin 0 :  0\n",
            "Power of 3 to 3 is :  27.0\n",
            "Power is same as 3 ** 3 :  27\n",
            "Exp of 1 :  2.718281828459045\n",
            "Exp of 1 :  7.38905609893065\n",
            "Exp of 1 :  20.085536923187668\n",
            "Hypot of 3, 4 is :  5.0\n",
            "Math e :  2.718281828459045\n",
            "Log of math e :  1.0\n"
          ],
          "name": "stdout"
        }
      ]
    },
    {
      "cell_type": "markdown",
      "metadata": {
        "id": "wlgUrG1pX_ZT",
        "colab_type": "text"
      },
      "source": [
        "# 4. Playing with Strings"
      ]
    },
    {
      "cell_type": "code",
      "metadata": {
        "id": "v9VbYZAzYBsD",
        "colab_type": "code",
        "outputId": "f16b8e1c-2920-44fc-e164-cecc0fde345c",
        "colab": {
          "base_uri": "https://localhost:8080/",
          "height": 181
        }
      },
      "source": [
        "name = \"JsSudha\"\n",
        "message1 = 'JS told me \"Sudha is here\"'\n",
        "message2 = \"\"\"\\nHi, this is\n",
        "Sudha from \", ' Srklm, hello \n",
        "H R U\n",
        "\"\"\"\n",
        "helloWorld = \"Hello, World !\"\n",
        "print(\"Name is : \", name)\n",
        "print(\"Data type of the name : \", type(name))\n",
        "print(\"Content of the messages is : \", message1)\n",
        "print(\"Content of the messages is : \", message2)\n",
        "print(\"Content of heloWorld variable is :  \", helloWorld)"
      ],
      "execution_count": 0,
      "outputs": [
        {
          "output_type": "stream",
          "text": [
            "Name is :  JsSudha\n",
            "Data type of the name :  <class 'str'>\n",
            "Content of the messages is :  JS told me \"Sudha is here\"\n",
            "Content of the messages is :  \n",
            "Hi, this is\n",
            "Sudha from \", ' Srklm, hello \n",
            "H R U\n",
            "\n",
            "Content of heloWorld variable is :   Hello, World !\n"
          ],
          "name": "stdout"
        }
      ]
    },
    {
      "cell_type": "code",
      "metadata": {
        "id": "aTSfS4dOedSm",
        "colab_type": "code",
        "outputId": "26ebd5b3-f80b-41f4-c28e-8ca0188ebff2",
        "colab": {
          "base_uri": "https://localhost:8080/",
          "height": 35
        }
      },
      "source": [
        "broken_string = \"'Hello, I'm Anthony. What is your name?'\"\n",
        "print(\"Broken String : \", broken_string)"
      ],
      "execution_count": 0,
      "outputs": [
        {
          "output_type": "stream",
          "text": [
            "Broken String :  'Hello, I'm Anthony. What is your name?'\n"
          ],
          "name": "stdout"
        }
      ]
    },
    {
      "cell_type": "code",
      "metadata": {
        "id": "w_dfdRYOkQcQ",
        "colab_type": "code",
        "outputId": "5d1ef2f7-8745-4791-9395-11b2acc8ff7a",
        "colab": {
          "base_uri": "https://localhost:8080/",
          "height": 181
        }
      },
      "source": [
        "# Ask user name \n",
        "name = input(\"What is your name? : \")\n",
        "print(\"Name of the user : \", name, \" Type : \", type(name))\n",
        "# Ask Age of the User\n",
        "age = int(input(\"How old are you? : \"))\n",
        "print(\"Your age is : \", age, \" Type : \", type(age))\n",
        "# Ask city of the User\n",
        "city = input(\"Where do you live? : \")\n",
        "print(\"You lived in : \", city, \" Type : \", type(city))\n",
        "\n",
        "print(\"His/Her name is {} and the age : {}, He lives in {} \".format(name, age, city))\n",
        "print(\"His/Her name is {1} and the age : {2}, He lives in {0} \".format(name, age, city))\n",
        "\n",
        "optxt = \"His/Her name is {} and the age : {}, He lives in {} \"\n",
        "opfmt = optxt.format(name,age,city)\n",
        "\n",
        "print(opfmt)"
      ],
      "execution_count": 0,
      "outputs": [
        {
          "output_type": "stream",
          "text": [
            "What is your name? : js\n",
            "Name of the user :  js  Type :  <class 'str'>\n",
            "How old are you? : 22\n",
            "Your age is :  22  Type :  <class 'int'>\n",
            "Where do you live? : js\n",
            "You lived in :  js  Type :  <class 'str'>\n",
            "His/Her name is js and the age : 22, He lives in js \n",
            "His/Her name is 22 and the age : js, He lives in js \n",
            "His/Her name is js and the age : 22, He lives in js \n"
          ],
          "name": "stdout"
        }
      ]
    },
    {
      "cell_type": "code",
      "metadata": {
        "id": "hI8TL-eN0_Ah",
        "colab_type": "code",
        "outputId": "73a0b9ec-70fe-4cee-e9b6-8bc5f1a9c154",
        "colab": {
          "base_uri": "https://localhost:8080/",
          "height": 72
        }
      },
      "source": [
        "a = \"part one\"\n",
        "b = \"part two\"\n",
        "print(\"a+b : \", a+b)\n",
        "print(\"3*a : \", 3*a)\n",
        "print(\"=\"*50)\n"
      ],
      "execution_count": 0,
      "outputs": [
        {
          "output_type": "stream",
          "text": [
            "a+b :  part onepart two\n",
            "3*a :  part onepart onepart one\n",
            "==================================================\n"
          ],
          "name": "stdout"
        }
      ]
    },
    {
      "cell_type": "code",
      "metadata": {
        "id": "KRANM-us1lPm",
        "colab_type": "code",
        "outputId": "2da1db00-8f32-444f-9445-ccf1a6109eae",
        "colab": {
          "base_uri": "https://localhost:8080/",
          "height": 35
        }
      },
      "source": [
        "a = 1\n",
        "b = \"hello\"\n",
        "print(\"a+b : \", str(a)+b)"
      ],
      "execution_count": 0,
      "outputs": [
        {
          "output_type": "stream",
          "text": [
            "a+b :  1hello\n"
          ],
          "name": "stdout"
        }
      ]
    },
    {
      "cell_type": "markdown",
      "metadata": {
        "id": "wgW_83KDi5-Y",
        "colab_type": "text"
      },
      "source": [
        "# 5. String methods"
      ]
    },
    {
      "cell_type": "code",
      "metadata": {
        "id": "qvMDca-qi8cr",
        "colab_type": "code",
        "outputId": "5dc5104f-0b72-4049-f399-ef7ff2bf79e8",
        "colab": {
          "base_uri": "https://localhost:8080/",
          "height": 72
        }
      },
      "source": [
        "hello = \"JS - Sudha JS\"\n",
        "print(\"Given string : \", hello, \" Lower case : \", hello.lower(), \" Lengh of hello : \", len(hello), \" Count of JS : \", hello.count(\"JS\"))\n",
        "print(\"Cap of help var : \", hello.capitalize())\n",
        "print(\"Lower : \", hello.lower(), \" Upper : \", hello.upper(), \" Title : \", hello.title(), \" Is Lower ? : \", hello.islower(), \" Is Title ? : \", hello.istitle())\n"
      ],
      "execution_count": 0,
      "outputs": [
        {
          "output_type": "stream",
          "text": [
            "Given string :  JS - Sudha JS  Lower case :  js - sudha js  Lengh of hello :  13  Count of JS :  2\n",
            "Cap of help var :  Js - sudha js\n",
            "Lower :  js - sudha js  Upper :  JS - SUDHA JS  Title :  Js - Sudha Js  Is Lower ? :  False  Is Title ? :  False\n"
          ],
          "name": "stdout"
        }
      ]
    },
    {
      "cell_type": "code",
      "metadata": {
        "id": "eYYCCcQYljTv",
        "colab_type": "code",
        "outputId": "9244515e-45e9-412c-9db3-c2d8fa3932da",
        "colab": {
          "base_uri": "https://localhost:8080/",
          "height": 72
        }
      },
      "source": [
        "print(\"Index of JS is : \", hello.index(\"JS\"))\n",
        "print(\"Finding of the JS : \", hello.find(\"JS\"))\n",
        "print(\"Finding of the ols : \", hello.find(\"ola\")) # it returns -1\n",
        "# print(\"Index of ola is : \", hello.index(\"ola\")) # substring not found error"
      ],
      "execution_count": 0,
      "outputs": [
        {
          "output_type": "stream",
          "text": [
            "Index of JS is :  0\n",
            "Finding of the JS :  0\n",
            "Finding of the ols :  -1\n"
          ],
          "name": "stdout"
        }
      ]
    },
    {
      "cell_type": "code",
      "metadata": {
        "id": "29FwBWjw4Dpa",
        "colab_type": "code",
        "outputId": "85818393-fce6-4639-9004-504c88d41122",
        "colab": {
          "base_uri": "https://localhost:8080/",
          "height": 90
        }
      },
      "source": [
        "y = \"    00000000000000000happy Birthday 000000000000000   \"\n",
        "print(\"Strip of 0 : \", y.strip(\"0\"))\n",
        "print(\"Strip : \", y.strip())\n",
        "print(\"L Strip of 0 : \", y.lstrip(\"0\"))\n",
        "print(\"R Strip of 0 : \", y.rstrip(\"0\"))"
      ],
      "execution_count": 0,
      "outputs": [
        {
          "output_type": "stream",
          "text": [
            "Strip of 0 :      00000000000000000happy Birthday 000000000000000   \n",
            "Strip :  00000000000000000happy Birthday 000000000000000\n",
            "L Strip of 0 :      00000000000000000happy Birthday 000000000000000   \n",
            "R Strip of 0 :      00000000000000000happy Birthday 000000000000000   \n"
          ],
          "name": "stdout"
        }
      ]
    },
    {
      "cell_type": "code",
      "metadata": {
        "id": "skbkUPMF6TfV",
        "colab_type": "code",
        "outputId": "b3cb6e1f-420b-4e54-9dab-3bad9f6ca2b7",
        "colab": {
          "base_uri": "https://localhost:8080/",
          "height": 254
        }
      },
      "source": [
        "word=\"JSIamsudha from IBM working as Data Scientist and AI engineer\"\n",
        "print(\"Index of 0 : {} 5 : {} and 10 : {}\".format(word[0], word[5], word[10]))\n",
        "print(\"slice  : \", word[1:9:1])\n",
        "print(\"slice  : \", word[1:9:2])\n",
        "print(\"slice  : \", word[1:9:3])\n",
        "print(\"slice  : \", word[5:])\n",
        "print(\"slice  : \", word[5::2])\n",
        "print(\"slice  : \", word[:5])\n",
        "print(\"slice  : \", word[:15:2])\n",
        "print(\"slice  : \", word[::-1])\n",
        "print(\"slice  : \", word[-1])\n",
        "print(\"Index  : \", word.index(\"working\"))\n",
        "print(\"Index  : \", word.index(\"AI\"))\n",
        "print(\"Slic   : \", word[word.index(\"working\"):word.index(\"AI\"):1])"
      ],
      "execution_count": 0,
      "outputs": [
        {
          "output_type": "stream",
          "text": [
            "Index of 0 : J 5 : s and 10 :  \n",
            "slice  :  SIamsudh\n",
            "slice  :  Sasd\n",
            "slice  :  Smd\n",
            "slice  :  sudha from IBM working as Data Scientist and AI engineer\n",
            "slice  :  sdafo B okn sDt cets n Iegne\n",
            "slice  :  JSIam\n",
            "slice  :  JImuh rm\n",
            "slice  :  reenigne IA dna tsitneicS ataD sa gnikrow MBI morf ahdusmaISJ\n",
            "slice  :  r\n",
            "Index  :  20\n",
            "Index  :  50\n",
            "Slic   :  working as Data Scientist and \n"
          ],
          "name": "stdout"
        }
      ]
    },
    {
      "cell_type": "code",
      "metadata": {
        "id": "coK5tEKjH7xS",
        "colab_type": "code",
        "outputId": "77372032-ed7c-4c74-e03b-dc70a183fa11",
        "colab": {
          "base_uri": "https://localhost:8080/",
          "height": 72
        }
      },
      "source": [
        "email = input(\"Enter you email Add : \").strip()\n",
        "print(\"Your Email address is : {} and its length is : {}\".format(email, len(email)))\n",
        "uname = email[:email.index(\"@\")]\n",
        "domain = email[email.index(\"@\")+1:]\n",
        "print(\"Your name is : {} Domain is : {}\".format(uname, domain))"
      ],
      "execution_count": 0,
      "outputs": [
        {
          "output_type": "stream",
          "text": [
            "Enter you email Add : s@g\n",
            "Your Email address is : s@g and its length is : 3\n",
            "Your name is : s Domain is : g\n"
          ],
          "name": "stdout"
        }
      ]
    },
    {
      "cell_type": "markdown",
      "metadata": {
        "id": "aL0T-NIA_R7T",
        "colab_type": "text"
      },
      "source": [
        "# 6. Logic Section - Boolean and Conditional expression"
      ]
    },
    {
      "cell_type": "code",
      "metadata": {
        "id": "vVavLAK1_UZz",
        "colab_type": "code",
        "outputId": "e4057ef8-f06c-4818-bbf2-30544cb0763d",
        "colab": {
          "base_uri": "https://localhost:8080/",
          "height": 35
        }
      },
      "source": [
        "b = True\n",
        "c = False\n",
        "print(\"b = {} c = {} type : {}\".format(b,c,type(b)))"
      ],
      "execution_count": 0,
      "outputs": [
        {
          "output_type": "stream",
          "text": [
            "b = True c = False type : <class 'bool'>\n"
          ],
          "name": "stdout"
        }
      ]
    },
    {
      "cell_type": "code",
      "metadata": {
        "id": "bm1LujyGDg0b",
        "colab_type": "code",
        "outputId": "97d8ad81-3bf4-4381-8ecd-44fed407b744",
        "colab": {
          "base_uri": "https://localhost:8080/",
          "height": 35
        }
      },
      "source": [
        "no1 = 50\n",
        "no2 = 50\n",
        "\n",
        "if (no1 > no2) : \n",
        "  print(\"{} > {}\".format(no1,no2))\n",
        "elif (no2 < no1) : \n",
        "  print(\"{} < {}\".format(no1,no2))\n",
        "else : \n",
        "  print(\"{} == {}\".format(no1,no2))"
      ],
      "execution_count": 0,
      "outputs": [
        {
          "output_type": "stream",
          "text": [
            "50 == 50\n"
          ],
          "name": "stdout"
        }
      ]
    },
    {
      "cell_type": "markdown",
      "metadata": {
        "id": "Zl_YSYM7HV2K",
        "colab_type": "text"
      },
      "source": [
        "## Logical operators"
      ]
    },
    {
      "cell_type": "code",
      "metadata": {
        "id": "KmqrpGB2Hdyy",
        "colab_type": "code",
        "outputId": "c23f6146-3abf-4935-c987-9347caa60c3b",
        "colab": {
          "base_uri": "https://localhost:8080/",
          "height": 54
        }
      },
      "source": [
        "print(\"not True : \", (not True))\n",
        "print(\"not False : \", (not False))"
      ],
      "execution_count": 0,
      "outputs": [
        {
          "output_type": "stream",
          "text": [
            "not True :  False\n",
            "not False :  True\n"
          ],
          "name": "stdout"
        }
      ]
    },
    {
      "cell_type": "code",
      "metadata": {
        "id": "FCIBd_WzIQBg",
        "colab_type": "code",
        "outputId": "6f2fcf1a-e2cb-45a5-943b-bb268ccb08fb",
        "colab": {
          "base_uri": "https://localhost:8080/",
          "height": 72
        }
      },
      "source": [
        "c = 11\n",
        "d = 4\n",
        "\n",
        "if (c>10) and (d<5) :\n",
        "  print(\"c > 10 and d < 5\")\n",
        "else :\n",
        "  print(\"wrong\")\n",
        "\n",
        "if not((c>10) and (d<5)) :\n",
        "  print(\"c > 10 and d < 5\")\n",
        "else :\n",
        "  print(\"wrong\")\n",
        "\n",
        "if (c>10) or (d<5) :\n",
        "  print(\"c > 10 and d < 5\")\n",
        "else :\n",
        "  print(\"wrong\")\n"
      ],
      "execution_count": 0,
      "outputs": [
        {
          "output_type": "stream",
          "text": [
            "c > 10 and d < 5\n",
            "wrong\n",
            "c > 10 and d < 5\n"
          ],
          "name": "stdout"
        }
      ]
    },
    {
      "cell_type": "markdown",
      "metadata": {
        "id": "ntDdppkSzSVc",
        "colab_type": "text"
      },
      "source": [
        "# 7. Datastructures - Lists, Tuple"
      ]
    },
    {
      "cell_type": "code",
      "metadata": {
        "id": "cIPeT8LuzYIu",
        "colab_type": "code",
        "outputId": "88532366-9879-4aa5-8035-dcd243620690",
        "colab": {
          "base_uri": "https://localhost:8080/",
          "height": 54
        }
      },
      "source": [
        "our_list = [3,6,2,-5,3]\n",
        "print(\"List : \", our_list, \" Lenth : \", our_list.count(our_list), \" Type : \", type(our_list))\n",
        "\n",
        "jssudha = [38, \"jssudha\", -1]\n",
        "print(\"List : \", jssudha, \"index 0 : \", jssudha[0])"
      ],
      "execution_count": 0,
      "outputs": [
        {
          "output_type": "stream",
          "text": [
            "List :  [3, 6, 2, -5, 3]  Lenth :  0  Type :  <class 'list'>\n",
            "List :  [38, 'jssudha', -1] index 0 :  38\n"
          ],
          "name": "stdout"
        }
      ]
    },
    {
      "cell_type": "code",
      "metadata": {
        "id": "ET5ssRUp1pFn",
        "colab_type": "code",
        "outputId": "12ed661b-14b2-4e7d-87f5-5a596ba54506",
        "colab": {
          "base_uri": "https://localhost:8080/",
          "height": 72
        }
      },
      "source": [
        "our_list = [1,4,[8,3],9]\n",
        "print(\"List : \", our_list)\n",
        "print(\"Index of 2 : \", our_list[2])\n",
        "print(\"Index of 2-1 is \", our_list[2][1])"
      ],
      "execution_count": 0,
      "outputs": [
        {
          "output_type": "stream",
          "text": [
            "List :  [1, 4, [8, 3], 9]\n",
            "Index of 2 :  [8, 3]\n",
            "Index of 2-1 is  3\n"
          ],
          "name": "stdout"
        }
      ]
    },
    {
      "cell_type": "code",
      "metadata": {
        "id": "IELKLPGv2mDL",
        "colab_type": "code",
        "outputId": "27f3b59a-7a13-4f62-f976-280a2a887f75",
        "colab": {
          "base_uri": "https://localhost:8080/",
          "height": 54
        }
      },
      "source": [
        "our_table = [[1,2,3],[4,5,6],[7,8,9]]\n",
        "print(\"Data : \", our_table)\n",
        "print(\"check : \", our_table[1][1:])"
      ],
      "execution_count": 0,
      "outputs": [
        {
          "output_type": "stream",
          "text": [
            "Data :  [[1, 2, 3], [4, 5, 6], [7, 8, 9]]\n",
            "check :  [5, 6]\n"
          ],
          "name": "stdout"
        }
      ]
    },
    {
      "cell_type": "code",
      "metadata": {
        "id": "ZJ6xAFKK3oUd",
        "colab_type": "code",
        "outputId": "a7d50da6-8f42-465c-ce69-f4aaf1922377",
        "colab": {
          "base_uri": "https://localhost:8080/",
          "height": 72
        }
      },
      "source": [
        "known_users = [\"Js\", \"Alice\", \"Bob\", \"Claire\", \"Dan\", \"Emma\", \"Fred\", \"Georgie\", \"Harry\", \"Sudha\"]\n",
        "print(\"List : {}, Length : {}\".format(known_users, len(known_users)))\n",
        "print(\"Is jsudha in ? : \", \"jssudha\" in known_users)\n",
        "print(\"Is JS in ? : \", \"JS\" in known_users)"
      ],
      "execution_count": 0,
      "outputs": [
        {
          "output_type": "stream",
          "text": [
            "List : ['Js', 'Alice', 'Bob', 'Claire', 'Dan', 'Emma', 'Fred', 'Georgie', 'Harry', 'Sudha'], Length : 10\n",
            "Is jsudha in ? :  False\n",
            "Is JS in ? :  False\n"
          ],
          "name": "stdout"
        }
      ]
    },
    {
      "cell_type": "code",
      "metadata": {
        "id": "GScxHi6g5dfh",
        "colab_type": "code",
        "outputId": "043baacd-2dc3-4f0e-c97b-fbb951bb4018",
        "colab": {
          "base_uri": "https://localhost:8080/",
          "height": 90
        }
      },
      "source": [
        "while True:\n",
        "  # print(\"Enter a name : \")\n",
        "  name = input(\"Enter a name : \").strip().capitalize()\n",
        "\n",
        "  if name in known_users:\n",
        "    print(\"Name Recognized\")\n",
        "  else:\n",
        "    print(\"Name is not Recognized.. exiting\")\n",
        "    break"
      ],
      "execution_count": 0,
      "outputs": [
        {
          "output_type": "stream",
          "text": [
            "Enter a name : js\n",
            "Name Recognized\n",
            "Enter a name : J\n",
            "Name is not Recognized.. exiting\n"
          ],
          "name": "stdout"
        }
      ]
    },
    {
      "cell_type": "markdown",
      "metadata": {
        "id": "qk-vnmSDDwTb",
        "colab_type": "text"
      },
      "source": [
        "##Tuples"
      ]
    },
    {
      "cell_type": "markdown",
      "metadata": {
        "id": "TA3x-SAWDUiF",
        "colab_type": "text"
      },
      "source": [
        "## Dictionaries"
      ]
    },
    {
      "cell_type": "code",
      "metadata": {
        "id": "XTTmBzUgDXKT",
        "colab_type": "code",
        "colab": {
          "base_uri": "https://localhost:8080/",
          "height": 85
        },
        "outputId": "5becc1d7-e2e0-427f-855b-89fffe96b2fe"
      },
      "source": [
        "students = {\"JS\":[\"ID01\", 1000, \"A\"], \n",
        "            \"Sudha\":[\"ID02\", 38, \"B\"], \n",
        "            \"Mom\": [\"ID03\", 50, \"C\"],\n",
        "            \"Dad\":{\"id\":\"ID04\",\"age\":26,\"grade\":\"D\"}\n",
        "           }\n",
        "          \n",
        "# print(\"Keys : \", students.keys)\n",
        "# print(\"Values: \", students.values)\n",
        "print(\"JS : \", students[\"JS\"])\n",
        "print(\"JS 1-2: \", students[\"JS\"][1:2])\n",
        "print(\"dad : \", students[\"Dad\"][\"id\"])\n",
        "print(\"dad : \", students[\"Dad\"])"
      ],
      "execution_count": 23,
      "outputs": [
        {
          "output_type": "stream",
          "text": [
            "JS :  ['ID01', 1000, 'A']\n",
            "JS 1-2:  [1000]\n",
            "dad :  ID04\n",
            "dad :  {'id': 'ID04', 'age': 26, 'grade': 'D'}\n"
          ],
          "name": "stdout"
        }
      ]
    },
    {
      "cell_type": "code",
      "metadata": {
        "id": "YhADtJjKMOjL",
        "colab_type": "code",
        "colab": {
          "base_uri": "https://localhost:8080/",
          "height": 119
        },
        "outputId": "fcb88bad-de52-460c-eae0-24e9a20951bf"
      },
      "source": [
        "films = {\n",
        "          \"Finding\":[3,5],\n",
        "          \"Bourne\":[18,5],\n",
        "          \"Tarzan\":[15,5],\n",
        "          \"Ghost\":[12,5]\n",
        "        }\n",
        "while True:\n",
        "  choice = input(\"What film you wanted to watch : \").strip()\n",
        "  print(\"Your choice : \", choice)\n",
        "  if choice in films:\n",
        "    print(\"Move details : \", films[choice])\n",
        "  else:\n",
        "    print(\"Movie is not exists\")\n",
        "    break"
      ],
      "execution_count": 25,
      "outputs": [
        {
          "output_type": "stream",
          "text": [
            "What film you wanted to watch : Finding\n",
            "Your choice :  Finding\n",
            "Move details :  [3, 5]\n",
            "What film you wanted to watch : s\n",
            "Your choice :  s\n",
            "Movie is not exists\n"
          ],
          "name": "stdout"
        }
      ]
    },
    {
      "cell_type": "code",
      "metadata": {
        "id": "UxPNf1tDFv1s",
        "colab_type": "code",
        "colab": {
          "base_uri": "https://localhost:8080/",
          "height": 34
        },
        "outputId": "54d3a86c-59d9-4773-97ed-4e0a51eda515"
      },
      "source": [
        "print(\"JS\")"
      ],
      "execution_count": 15,
      "outputs": [
        {
          "output_type": "stream",
          "text": [
            "JS\n"
          ],
          "name": "stdout"
        }
      ]
    }
  ]
}