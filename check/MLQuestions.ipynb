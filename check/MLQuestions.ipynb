{
  "nbformat": 4,
  "nbformat_minor": 0,
  "metadata": {
    "colab": {
      "name": "MLQuestions.ipynb",
      "version": "0.3.2",
      "provenance": [],
      "collapsed_sections": [],
      "include_colab_link": true
    },
    "kernelspec": {
      "name": "python3",
      "display_name": "Python 3"
    }
  },
  "cells": [
    {
      "cell_type": "markdown",
      "metadata": {
        "id": "view-in-github",
        "colab_type": "text"
      },
      "source": [
        "<a href=\"https://colab.research.google.com/github/SudhakarAnemu/AI-DS-ML-DL-Materials/blob/master/MLQuestions.ipynb\" target=\"_parent\"><img src=\"https://colab.research.google.com/assets/colab-badge.svg\" alt=\"Open In Colab\"/></a>"
      ]
    },
    {
      "cell_type": "markdown",
      "metadata": {
        "id": "-ztJozmb3G25",
        "colab_type": "text"
      },
      "source": [
        "#                        **ML Questions**\n",
        "\n",
        "*********************************************************\n",
        "*********************************************************\n",
        "\n",
        "MM - 27th May 2019(Monday) <br>\n",
        "Participants : Arun Kumar V, Ankita, Indu K, Santosh, Sudhakar A<br>\n",
        "Points : \n",
        "1. Preparing Questions and Strategies\n",
        "2. Prepare a document by the URL's provided (ML flow, Planning, Dev and Testing, etc. (We need to revisit and confirm about this point). <br>\n",
        "*********************************************************\n",
        "*********************************************************\n",
        "MM - 31st May 2019(Friday)<br>\n",
        "Participants : Arun Kumar V,  Santosh, Sudhakar A\n",
        "\n",
        "Points : \n",
        "1. Discussed about the status of individual assignment.\n",
        "2. Thought of prepare questions and then add answers.\n",
        "*********************************************************\n",
        "*********************************************************\n",
        "NEXT : \n",
        "No Meeting \n",
        "\n",
        "*********************************************************\n",
        "*********************************************************\n",
        "### URL's based on Dates and Assignee\n",
        "\n",
        "S.No | Date | # of Questions| Assignee|Status|Url|\n",
        "-|----------------|---------------|-------------|------|--\n",
        "1|13th Apr 2019|N|Indu|In Progress|\n",
        "2|14th Apr 2019|N|Arun|Completed|https://github.com/arunk-vnk-chn/insaid-interview-questions/blob/master/14%20April%20-%20Introduction%20to%20Machine%20Learning%20(part%201).ipynb\n",
        "3|20th Apr 2019|N|Arun|Completed|https://github.com/arunk-vnk-chn/insaid-interview-questions/blob/master/20%20April%20-%20Introduction%20to%20Machine%20Learning%20(part%202).ipynb\n",
        "4|21st Apr 2019|N|Arun|In Progress|\n",
        "5|27th Apr 2019|N|Indu|In Progress|https://github.com/induyekkala/INSAID-Interview-Questions/blob/master/27thApril-Questions.ipynb\n",
        "6|28th Apr 2019|N|Indu|In Progress|https://github.com/induyekkala/INSAID-Interview-Questions/blob/master/28thApril-Questions.ipynb\n",
        "7|4th May 2019|N|Sudhakar|Completed|https://github.com/SudhakarAnemu/AI-DS-ML-DL-Materials/blob/master/ML_Questions%26Answers.ipynb\n",
        "8|11th May 2019|N|Sudhakar|Completed|https://github.com/SudhakarAnemu/AI-DS-ML-DL-Materials/blob/master/ML_Questions%26Answers.ipynb\n",
        "9|12th May 2019|N|Sudhakar|In Progress|\n",
        "10|18th May 2019|N|Ankita|Completed|https://github.com/akallurwar/Insaid-interview-questions/blob/master/18th_May_session_Logistic_regression.ipynb\n",
        "11|19th May 2019|Yes|||\n",
        "12|25th May 2019|N|Santosh |In Progress|\n",
        "13|26th May 2019|N|Santosh|In Progress|\n",
        "14|1st June 2019|N|Arun|Completed|https://github.com/arunk-vnk-chn/insaid-interview-questions/blob/master/1%20June%20Decision%20Trees%20(part%202).ipynb\n",
        "15|2nd June 2019|N|Swapnil|Completed|https://github.com/swaptwap/InsaidClassQuestions/blob/master/2ndJuneClass.txt\n",
        "\n",
        "*********************************************************\n",
        "*********************************************************\n",
        "\n",
        "\n"
      ]
    }
  ]
}
