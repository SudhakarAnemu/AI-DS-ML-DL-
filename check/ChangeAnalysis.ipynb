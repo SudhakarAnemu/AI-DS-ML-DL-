{
  "nbformat": 4,
  "nbformat_minor": 0,
  "metadata": {
    "colab": {
      "name": "ChangeAnalysis.ipynb",
      "provenance": [],
      "include_colab_link": true
    },
    "kernelspec": {
      "name": "python3",
      "display_name": "Python 3"
    },
    "accelerator": "GPU"
  },
  "cells": [
    {
      "cell_type": "markdown",
      "metadata": {
        "id": "view-in-github",
        "colab_type": "text"
      },
      "source": [
        "<a href=\"https://colab.research.google.com/github/SudhakarAnemu/AI-DS-ML-DL/blob/master/ChangeAnalysis.ipynb\" target=\"_parent\"><img src=\"https://colab.research.google.com/assets/colab-badge.svg\" alt=\"Open In Colab\"/></a>"
      ]
    },
    {
      "cell_type": "markdown",
      "metadata": {
        "id": "CQNebpiILJyW",
        "colab_type": "text"
      },
      "source": [
        "# Imporitng all required packages\n",
        "<br>useful links\n",
        "<br>https://pythonspot.com/read-excel-with-pandas/\n",
        "<br>"
      ]
    },
    {
      "cell_type": "code",
      "metadata": {
        "id": "t0DEFj6ZNtA-",
        "colab_type": "code",
        "colab": {
          "base_uri": "https://localhost:8080/",
          "height": 34
        },
        "outputId": "9d8851a1-c9cd-4910-e33f-2642c222c55d"
      },
      "source": [
        "import pandas as pd\n",
        "from pandas import ExcelWriter\n",
        "from pandas import ExcelFile\n",
        "print(\"Import complete\")"
      ],
      "execution_count": 6,
      "outputs": [
        {
          "output_type": "stream",
          "text": [
            "Import complete\n"
          ],
          "name": "stdout"
        }
      ]
    },
    {
      "cell_type": "code",
      "metadata": {
        "id": "MEyc0cpLLXcT",
        "colab_type": "code",
        "colab": {}
      },
      "source": [
        "# df = pd.read_excel('PRCRINC.xlsx', sheetname='Changes') #not working\n",
        "df = pd.read_excel('PRCRINC.xlsx')"
      ],
      "execution_count": 0,
      "outputs": []
    },
    {
      "cell_type": "code",
      "metadata": {
        "id": "E2PQ90WcMWuJ",
        "colab_type": "code",
        "colab": {
          "base_uri": "https://localhost:8080/",
          "height": 598
        },
        "outputId": "acdbc6fc-4741-4c8a-a8b3-406d6fbf77d2"
      },
      "source": [
        "df.head()"
      ],
      "execution_count": 4,
      "outputs": [
        {
          "output_type": "execute_result",
          "data": {
            "text/html": [
              "<div>\n",
              "<style scoped>\n",
              "    .dataframe tbody tr th:only-of-type {\n",
              "        vertical-align: middle;\n",
              "    }\n",
              "\n",
              "    .dataframe tbody tr th {\n",
              "        vertical-align: top;\n",
              "    }\n",
              "\n",
              "    .dataframe thead th {\n",
              "        text-align: right;\n",
              "    }\n",
              "</style>\n",
              "<table border=\"1\" class=\"dataframe\">\n",
              "  <thead>\n",
              "    <tr style=\"text-align: right;\">\n",
              "      <th></th>\n",
              "      <th>Change ID</th>\n",
              "      <th>Scheduled Start</th>\n",
              "      <th>Status</th>\n",
              "      <th>Summary</th>\n",
              "      <th>Assignee</th>\n",
              "      <th>Change Manager</th>\n",
              "      <th>Assignee Group</th>\n",
              "      <th>Affected Parties</th>\n",
              "      <th>Notes</th>\n",
              "      <th>Scheduled Outage</th>\n",
              "      <th>Submitted</th>\n",
              "      <th>Requestor</th>\n",
              "      <th>Scheduled Duration</th>\n",
              "      <th>Change Timing</th>\n",
              "      <th>Categorization Tier 2</th>\n",
              "      <th>Risk Level</th>\n",
              "      <th>Impact</th>\n",
              "    </tr>\n",
              "  </thead>\n",
              "  <tbody>\n",
              "    <tr>\n",
              "      <th>0</th>\n",
              "      <td>CRQ123489</td>\n",
              "      <td>2013-08-15 11:00:00</td>\n",
              "      <td>Planning In Progress</td>\n",
              "      <td>Data Updates to be done to the TRPS_WO table t...</td>\n",
              "      <td>Felisha L Washington</td>\n",
              "      <td>Felisha L Washington</td>\n",
              "      <td>Manager Finance, Real Estate, Property, Resour...</td>\n",
              "      <td>[missing]</td>\n",
              "      <td>Data Updates to be done to the TRPS_WO table ...</td>\n",
              "      <td>[missing]</td>\n",
              "      <td>2013-08-15 10:02:00</td>\n",
              "      <td>Sriram Sankaran</td>\n",
              "      <td>8.0 hrs.</td>\n",
              "      <td>Normal</td>\n",
              "      <td>RACER</td>\n",
              "      <td>1.0</td>\n",
              "      <td>4-Minor/Localized</td>\n",
              "    </tr>\n",
              "    <tr>\n",
              "      <th>1</th>\n",
              "      <td>CRQ127982</td>\n",
              "      <td>2013-09-26 09:30:00</td>\n",
              "      <td>Pending</td>\n",
              "      <td>Add logic to provide separate counts for rep/n...</td>\n",
              "      <td>Danielle M Stewart</td>\n",
              "      <td>Douglas L Denton</td>\n",
              "      <td>Remedy 7 Support</td>\n",
              "      <td>None</td>\n",
              "      <td></td>\n",
              "      <td>00:00:00</td>\n",
              "      <td>2013-09-26 08:34:00</td>\n",
              "      <td>Natalie Lepsky</td>\n",
              "      <td>8.0 hrs.</td>\n",
              "      <td>Normal</td>\n",
              "      <td>Safety</td>\n",
              "      <td>1.0</td>\n",
              "      <td>4-Minor/Localized</td>\n",
              "    </tr>\n",
              "    <tr>\n",
              "      <th>2</th>\n",
              "      <td>CRQ132402</td>\n",
              "      <td>2013-11-02 10:00:00</td>\n",
              "      <td>Planning In Progress</td>\n",
              "      <td>MKS: 489466 Dispatcher Daylight Savings Fall B...</td>\n",
              "      <td>John E Schneider</td>\n",
              "      <td>Aaron E Cook</td>\n",
              "      <td>Crew Timekeeping</td>\n",
              "      <td>None</td>\n",
              "      <td>Notes-</td>\n",
              "      <td>00:00:00</td>\n",
              "      <td>2013-10-31 17:40:00</td>\n",
              "      <td>John Schneider</td>\n",
              "      <td>3.5 hrs.</td>\n",
              "      <td>Normal</td>\n",
              "      <td>Crew Timekeeping</td>\n",
              "      <td>1.0</td>\n",
              "      <td>4-Minor/Localized</td>\n",
              "    </tr>\n",
              "    <tr>\n",
              "      <th>3</th>\n",
              "      <td>CRQ143119</td>\n",
              "      <td>2014-02-18 15:00:00</td>\n",
              "      <td>Planning In Progress</td>\n",
              "      <td>Restart troux service in Production environment.</td>\n",
              "      <td>Janet E Perry</td>\n",
              "      <td>Janet E Perry</td>\n",
              "      <td>Manager IVR, MKS/Teamplay</td>\n",
              "      <td>[missing]</td>\n",
              "      <td>Event notifications not being generated norma...</td>\n",
              "      <td>[missing]</td>\n",
              "      <td>2014-02-18 13:38:00</td>\n",
              "      <td>Vick Cox</td>\n",
              "      <td>2.0 hrs.</td>\n",
              "      <td>Normal</td>\n",
              "      <td>Troux</td>\n",
              "      <td>1.0</td>\n",
              "      <td>4-Minor/Localized</td>\n",
              "    </tr>\n",
              "    <tr>\n",
              "      <th>4</th>\n",
              "      <td>CRQ143868</td>\n",
              "      <td>2014-02-25 13:15:00</td>\n",
              "      <td>Planning In Progress</td>\n",
              "      <td>fix broken ticket that is abending in PROD</td>\n",
              "      <td>Aaron E Cook</td>\n",
              "      <td>Aaron E Cook</td>\n",
              "      <td>Manager Operating Timekeeping</td>\n",
              "      <td>[missing]</td>\n",
              "      <td></td>\n",
              "      <td>[missing]</td>\n",
              "      <td>2014-02-25 12:53:00</td>\n",
              "      <td>Donald Robare</td>\n",
              "      <td>.5 hrs.</td>\n",
              "      <td>Normal</td>\n",
              "      <td>Crew Timekeeping</td>\n",
              "      <td>1.0</td>\n",
              "      <td>4-Minor/Localized</td>\n",
              "    </tr>\n",
              "  </tbody>\n",
              "</table>\n",
              "</div>"
            ],
            "text/plain": [
              "   Change ID     Scheduled Start  ... Risk Level             Impact\n",
              "0  CRQ123489 2013-08-15 11:00:00  ...        1.0  4-Minor/Localized\n",
              "1  CRQ127982 2013-09-26 09:30:00  ...        1.0  4-Minor/Localized\n",
              "2  CRQ132402 2013-11-02 10:00:00  ...        1.0  4-Minor/Localized\n",
              "3  CRQ143119 2014-02-18 15:00:00  ...        1.0  4-Minor/Localized\n",
              "4  CRQ143868 2014-02-25 13:15:00  ...        1.0  4-Minor/Localized\n",
              "\n",
              "[5 rows x 17 columns]"
            ]
          },
          "metadata": {
            "tags": []
          },
          "execution_count": 4
        }
      ]
    },
    {
      "cell_type": "code",
      "metadata": {
        "id": "T8Zie0rsNRBR",
        "colab_type": "code",
        "colab": {
          "base_uri": "https://localhost:8080/",
          "height": 323
        },
        "outputId": "c99009d6-a814-4645-e385-619df5c8dd20"
      },
      "source": [
        "df.dtypes"
      ],
      "execution_count": 13,
      "outputs": [
        {
          "output_type": "execute_result",
          "data": {
            "text/plain": [
              "Change ID                        object\n",
              "Scheduled Start          datetime64[ns]\n",
              "Status                           object\n",
              "Summary                          object\n",
              "Assignee                         object\n",
              "Change Manager                   object\n",
              "Assignee Group                   object\n",
              "Affected Parties                 object\n",
              "Notes                            object\n",
              "Scheduled Outage                 object\n",
              "Submitted                datetime64[ns]\n",
              "Requestor                        object\n",
              "Scheduled Duration               object\n",
              "Change Timing                    object\n",
              "Categorization Tier 2            object\n",
              "Risk Level                      float64\n",
              "Impact                           object\n",
              "dtype: object"
            ]
          },
          "metadata": {
            "tags": []
          },
          "execution_count": 13
        }
      ]
    },
    {
      "cell_type": "code",
      "metadata": {
        "id": "sxb9t9kDNH2d",
        "colab_type": "code",
        "colab": {
          "base_uri": "https://localhost:8080/",
          "height": 34
        },
        "outputId": "04e77607-957a-4b53-baf0-9723c313a189"
      },
      "source": [
        "df.shape"
      ],
      "execution_count": 11,
      "outputs": [
        {
          "output_type": "execute_result",
          "data": {
            "text/plain": [
              "(489, 17)"
            ]
          },
          "metadata": {
            "tags": []
          },
          "execution_count": 11
        }
      ]
    },
    {
      "cell_type": "code",
      "metadata": {
        "id": "HMb0xZnnNNh6",
        "colab_type": "code",
        "colab": {
          "base_uri": "https://localhost:8080/",
          "height": 255
        },
        "outputId": "6270cf4e-8892-41e1-ab6c-6e7bd241e6a1"
      },
      "source": [
        "df.info"
      ],
      "execution_count": 12,
      "outputs": [
        {
          "output_type": "execute_result",
          "data": {
            "text/plain": [
              "<bound method DataFrame.info of      Change ID     Scheduled Start  ... Risk Level             Impact\n",
              "0    CRQ123489 2013-08-15 11:00:00  ...        1.0  4-Minor/Localized\n",
              "1    CRQ127982 2013-09-26 09:30:00  ...        1.0  4-Minor/Localized\n",
              "2    CRQ132402 2013-11-02 10:00:00  ...        1.0  4-Minor/Localized\n",
              "3    CRQ143119 2014-02-18 15:00:00  ...        1.0  4-Minor/Localized\n",
              "4    CRQ143868 2014-02-25 13:15:00  ...        1.0  4-Minor/Localized\n",
              "..         ...                 ...  ...        ...                ...\n",
              "484  CRQ353387                 NaT  ...        1.0  4-Minor/Localized\n",
              "485  CRQ271473                 NaT  ...        1.0  4-Minor/Localized\n",
              "486  CRQ373203                 NaT  ...        1.0  4-Minor/Localized\n",
              "487  CRQ373528                 NaT  ...        1.0  4-Minor/Localized\n",
              "488  CRQ363242                 NaT  ...        1.0  4-Minor/Localized\n",
              "\n",
              "[489 rows x 17 columns]>"
            ]
          },
          "metadata": {
            "tags": []
          },
          "execution_count": 12
        }
      ]
    },
    {
      "cell_type": "code",
      "metadata": {
        "id": "Ivz5G2bRNxds",
        "colab_type": "code",
        "colab": {
          "base_uri": "https://localhost:8080/",
          "height": 323
        },
        "outputId": "84866877-6b3a-4de5-bf03-35f0fc7acdf6"
      },
      "source": [
        "df.isnull().sum()"
      ],
      "execution_count": 15,
      "outputs": [
        {
          "output_type": "execute_result",
          "data": {
            "text/plain": [
              "Change ID                  3\n",
              "Scheduled Start          134\n",
              "Status                     3\n",
              "Summary                    3\n",
              "Assignee                   9\n",
              "Change Manager             3\n",
              "Assignee Group             3\n",
              "Affected Parties          14\n",
              "Notes                      3\n",
              "Scheduled Outage           6\n",
              "Submitted                  3\n",
              "Requestor                  3\n",
              "Scheduled Duration         3\n",
              "Change Timing              3\n",
              "Categorization Tier 2      3\n",
              "Risk Level                 3\n",
              "Impact                     3\n",
              "dtype: int64"
            ]
          },
          "metadata": {
            "tags": []
          },
          "execution_count": 15
        }
      ]
    },
    {
      "cell_type": "code",
      "metadata": {
        "id": "IlEpXUCoO5DT",
        "colab_type": "code",
        "colab": {
          "base_uri": "https://localhost:8080/",
          "height": 297
        },
        "outputId": "71bd18ba-55ce-4742-bb34-89c93ee37a1b"
      },
      "source": [
        "df.describe()"
      ],
      "execution_count": 16,
      "outputs": [
        {
          "output_type": "execute_result",
          "data": {
            "text/html": [
              "<div>\n",
              "<style scoped>\n",
              "    .dataframe tbody tr th:only-of-type {\n",
              "        vertical-align: middle;\n",
              "    }\n",
              "\n",
              "    .dataframe tbody tr th {\n",
              "        vertical-align: top;\n",
              "    }\n",
              "\n",
              "    .dataframe thead th {\n",
              "        text-align: right;\n",
              "    }\n",
              "</style>\n",
              "<table border=\"1\" class=\"dataframe\">\n",
              "  <thead>\n",
              "    <tr style=\"text-align: right;\">\n",
              "      <th></th>\n",
              "      <th>Risk Level</th>\n",
              "    </tr>\n",
              "  </thead>\n",
              "  <tbody>\n",
              "    <tr>\n",
              "      <th>count</th>\n",
              "      <td>486.000000</td>\n",
              "    </tr>\n",
              "    <tr>\n",
              "      <th>mean</th>\n",
              "      <td>1.065844</td>\n",
              "    </tr>\n",
              "    <tr>\n",
              "      <th>std</th>\n",
              "      <td>0.351412</td>\n",
              "    </tr>\n",
              "    <tr>\n",
              "      <th>min</th>\n",
              "      <td>1.000000</td>\n",
              "    </tr>\n",
              "    <tr>\n",
              "      <th>25%</th>\n",
              "      <td>1.000000</td>\n",
              "    </tr>\n",
              "    <tr>\n",
              "      <th>50%</th>\n",
              "      <td>1.000000</td>\n",
              "    </tr>\n",
              "    <tr>\n",
              "      <th>75%</th>\n",
              "      <td>1.000000</td>\n",
              "    </tr>\n",
              "    <tr>\n",
              "      <th>max</th>\n",
              "      <td>5.000000</td>\n",
              "    </tr>\n",
              "  </tbody>\n",
              "</table>\n",
              "</div>"
            ],
            "text/plain": [
              "       Risk Level\n",
              "count  486.000000\n",
              "mean     1.065844\n",
              "std      0.351412\n",
              "min      1.000000\n",
              "25%      1.000000\n",
              "50%      1.000000\n",
              "75%      1.000000\n",
              "max      5.000000"
            ]
          },
          "metadata": {
            "tags": []
          },
          "execution_count": 16
        }
      ]
    },
    {
      "cell_type": "code",
      "metadata": {
        "id": "SLWj71ZQPDbE",
        "colab_type": "code",
        "colab": {}
      },
      "source": [
        "# for i in df.columns:\n",
        "#   print(300*'*')\n",
        "#   print(\"Name of the column : \", i)\n",
        "#   print(\"Unique Values : \", df[i].unique())"
      ],
      "execution_count": 0,
      "outputs": []
    },
    {
      "cell_type": "markdown",
      "metadata": {
        "id": "_LhkFq6dRL3r",
        "colab_type": "text"
      },
      "source": [
        "# Plotly"
      ]
    },
    {
      "cell_type": "code",
      "metadata": {
        "id": "rl28pNUHRO4o",
        "colab_type": "code",
        "colab": {
          "base_uri": "https://localhost:8080/",
          "height": 231
        },
        "outputId": "89f0b29e-8414-4360-b138-b3af86380047"
      },
      "source": [
        "plotty_df = pd.read_excel('PRCRINC.xlsx')\n",
        "\n",
        "fig = go.Figure(data=[go.Table(\n",
        "    header=dict(values=list(plotty_df.columns),\n",
        "                fill_color='paleturquoise',\n",
        "                align='left'),\n",
        "    cells=dict(values=[plotty_df.bone_length, plotty_df.rotting_flesh, plotty_df.hair_length, plotty_df.has_soul, plotty_df.color, plotty_df.type],\n",
        "               fill_color='lavender',\n",
        "               align='left'))\n",
        "])\n",
        "\n",
        "fig.show()"
      ],
      "execution_count": 30,
      "outputs": [
        {
          "output_type": "error",
          "ename": "NameError",
          "evalue": "ignored",
          "traceback": [
            "\u001b[0;31m---------------------------------------------------------------------------\u001b[0m",
            "\u001b[0;31mNameError\u001b[0m                                 Traceback (most recent call last)",
            "\u001b[0;32m<ipython-input-30-bcf0eae2525e>\u001b[0m in \u001b[0;36m<module>\u001b[0;34m()\u001b[0m\n\u001b[1;32m      1\u001b[0m \u001b[0mplotty_df\u001b[0m \u001b[0;34m=\u001b[0m \u001b[0mpd\u001b[0m\u001b[0;34m.\u001b[0m\u001b[0mread_excel\u001b[0m\u001b[0;34m(\u001b[0m\u001b[0;34m'PRCRINC.xlsx'\u001b[0m\u001b[0;34m)\u001b[0m\u001b[0;34m\u001b[0m\u001b[0;34m\u001b[0m\u001b[0m\n\u001b[1;32m      2\u001b[0m \u001b[0;34m\u001b[0m\u001b[0m\n\u001b[0;32m----> 3\u001b[0;31m fig = go.Figure(data=[go.Table(\n\u001b[0m\u001b[1;32m      4\u001b[0m     header=dict(values=list(plotty_df.columns),\n\u001b[1;32m      5\u001b[0m                 \u001b[0mfill_color\u001b[0m\u001b[0;34m=\u001b[0m\u001b[0;34m'paleturquoise'\u001b[0m\u001b[0;34m,\u001b[0m\u001b[0;34m\u001b[0m\u001b[0;34m\u001b[0m\u001b[0m\n",
            "\u001b[0;31mNameError\u001b[0m: name 'go' is not defined"
          ]
        }
      ]
    }
  ]
}